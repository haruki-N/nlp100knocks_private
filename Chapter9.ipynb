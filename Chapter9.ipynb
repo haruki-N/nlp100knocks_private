{
 "cells": [
  {
   "cell_type": "markdown",
   "metadata": {},
   "source": [
    "# 第9章: RNN, CNN\n",
    ">参考: Pytorchチュートリアル https://yutaroogawa.github.io/pytorch_tutorials_jp/"
   ]
  },
  {
   "cell_type": "markdown",
   "metadata": {},
   "source": [
    "# 80. ID番号への変換\n",
    ">問題51で構築した学習データ中の単語にユニークなID番号を付与したい．学習データ中で最も頻出する単語に1，2番目に頻出する単語に2，……といった方法で，学習データ中で2回以上出現する単語にID番号を付与せよ．そして，与えられた単語列に対して，ID番号の列を返す関数を実装せよ．ただし，出現頻度が2回未満の単語のID番号はすべて0とせよ"
   ]
  },
  {
   "cell_type": "code",
   "execution_count": 1,
   "metadata": {},
   "outputs": [
    {
     "name": "stdout",
     "output_type": "stream",
     "text": [
      "\tTITLE\tCATEGORY\n",
      "0\tRPT-Fitch Updates EMEA Consumer ABS Rating Criteria & Auto Residual Value  ...\tb\n",
      "1\tGurlitt Wants to Return Nazi-Looted Art, Sueddeutsche Reports\te\n"
     ]
    }
   ],
   "source": [
    "!head -3 ../Chap8/train.txt"
   ]
  },
  {
   "cell_type": "code",
   "execution_count": 13,
   "metadata": {},
   "outputs": [
    {
     "name": "stderr",
     "output_type": "stream",
     "text": [
      "[nltk_data] Downloading package punkt to\n",
      "[nltk_data]     /Users/nagasawa_h/nltk_data...\n",
      "[nltk_data]   Package punkt is already up-to-date!\n"
     ]
    },
    {
     "data": {
      "text/plain": [
       "True"
      ]
     },
     "execution_count": 13,
     "metadata": {},
     "output_type": "execute_result"
    }
   ],
   "source": [
    "import pandas as pd\n",
    "import numpy as np\n",
    "import torch\n",
    "import torch.nn as nn\n",
    "import torch.nn.functional as F\n",
    "import collections\n",
    "import nltk\n",
    "import torch.optim as optim\n",
    "import time\n",
    "\n",
    "nltk.download('punkt')"
   ]
  },
  {
   "cell_type": "code",
   "execution_count": 3,
   "metadata": {},
   "outputs": [],
   "source": [
    "first_line = True  # 'TITLE    CATEGORY'の行を読み飛ばすための変数\n",
    "\n",
    "with open('../Chap8/train.txt') as f:\n",
    "    word_count = collections.Counter()\n",
    "    for line in f:\n",
    "        if first_line:\n",
    "            first_line = False\n",
    "            continue\n",
    "            \n",
    "        # うまくTITLEとCATEGORYの2つに絞れていない行があるので, エラー回避するためにsplit数で条件分岐\n",
    "        if len(line.split('\\t')) != 3:\n",
    "            # print('Line excluded.')\n",
    "            continue\n",
    "        \n",
    "        _, title, category = line.strip('\\n').split('\\t')\n",
    "        words = nltk.word_tokenize(title)\n",
    "        word_count.update(words)\n",
    "\n",
    "\n",
    "dict_word_to_id = {}\n",
    "c = 1\n",
    "\n",
    "for word, count in word_count.most_common():\n",
    "    if count >= 2:\n",
    "        dict_word_to_id[word] = c\n",
    "        c+=1\n",
    "    else:\n",
    "        dict_word_to_id[word] = 0\n",
    "        \n",
    "def text_to_ids(text: str) -> list:\n",
    "    return [dict_word_to_id[word] if (word in dict_word_to_id.keys()) else 0 for word in nltk.word_tokenize(text)]\n",
    "\n",
    "def list_to_tensor(input_data: list):\n",
    "    return torch.tensor([input_data])"
   ]
  },
  {
   "cell_type": "code",
   "execution_count": 4,
   "metadata": {},
   "outputs": [
    {
     "name": "stdout",
     "output_type": "stream",
     "text": [
      "[6649, 555, 1, 791, 0, 2547]\n",
      "torch.return_types.topk(\n",
      "values=tensor([[6649]]),\n",
      "indices=tensor([[0]]))\n"
     ]
    }
   ],
   "source": [
    "input_line = 'Gurlitt Wants to Return Nazi-Looted Art'\n",
    "print(text_to_ids(input_line))\n",
    "print(list_to_tensor(text_to_ids(input_line)).topk(1))"
   ]
  },
  {
   "cell_type": "markdown",
   "metadata": {},
   "source": [
    "# 81. RNNによる予測\n",
    ">ID番号で表現された単語列x=(x1,x2,…,xT)  \n",
    "ただし，Tは単語列の長さ，xt∈ℝVは単語のID番号のone-hot表記である（Vは単語の総数である）  \n",
    "再帰型ニューラルネットワーク（RNN: Recurrent Neural Network）を用い，単語列xからカテゴリyを予測するモデルを実装せよ"
   ]
  },
  {
   "cell_type": "code",
   "execution_count": 5,
   "metadata": {},
   "outputs": [],
   "source": [
    "def one_hot_vectorizer(text: str):\n",
    "    token_ids = text_to_ids(text)\n",
    "    vocab_len = max(word_to_id.values()) + 1\n",
    "    tensor = torch.zeros(len(token_ids), vocab_len)\n",
    "    for i, idx in enumerate(token_ids):\n",
    "        tensor[i][idx] = 1\n",
    "        \n",
    "    return tensor\n",
    "\n",
    "\n",
    "\n",
    "class RNN(nn.Module):\n",
    "    def __init__(self, vocab_size, emb_dim, hidden_size, output_size):\n",
    "        super(RNN, self).__init__()\n",
    "        \n",
    "        # 変数の設定\n",
    "        self.num_layers = 1\n",
    "        self.hidden_size = hidden_size\n",
    "        \n",
    "        # vocab_sizeが語彙のサイズで, emb_dimが埋め込む次元数\n",
    "        self.embedding = nn.Embedding(vocab_size, emb_dim)\n",
    "        \n",
    "        # 入力がinput_size次元で, 隠れ状態の表現がhidden_size次元, num_layers層のRNN. \n",
    "        # biasでバイアス項の有無,non_linearityで活性化関数の指定ができる(tanh or ReLU)\n",
    "        self.rnn = nn.RNN(input_size=emb_dim, hidden_size=hidden_size,\n",
    "                          num_layers=self.num_layers, bias=True, nonlinearity='tanh', batch_first=True)\n",
    "        \n",
    "        # 全結合層\n",
    "        self.fc = nn.Linear(hidden_size, output_size, bias=True)\n",
    "        \n",
    "    def forward(self, x):\n",
    "        embed = self.embedding(x)\n",
    "        init_hidden = self.initHidden()   # h0ベクトルの作成\n",
    "        output, final_hidden = self.rnn(embed, init_hidden)\n",
    "        model_output = self.fc(final_hidden[0])   # 問題の指示により, 使用するのは隠れ層ベクトル\n",
    "        model_output = F.softmax(model_output, dim=-1)\n",
    "        \n",
    "        return model_output\n",
    "        \n",
    "    def initHidden(self):\n",
    "        return torch.zeros(1, self.num_layers, self.hidden_size)"
   ]
  },
  {
   "cell_type": "code",
   "execution_count": 6,
   "metadata": {},
   "outputs": [
    {
     "name": "stdout",
     "output_type": "stream",
     "text": [
      "モデル予測: e\n",
      "tensor([[0.1566, 0.1399, 0.4028, 0.3007]], grad_fn=<SoftmaxBackward>)\n",
      "正解: e\n"
     ]
    }
   ],
   "source": [
    "# モデルの出力がどのカテゴリかを返す関数\n",
    "def category_from_output(output):\n",
    "    idx = torch.argmax(output).item()\n",
    "    all_categories = {0:'b', 1:'t', 2:'e', 3:'m'}\n",
    "    return all_categories[idx]\n",
    "\n",
    "params = {\n",
    "'vocab_size': max(dict_word_to_id.values()) + 1,\n",
    "'emb_dim': 300,\n",
    "'hidden_size': 50,\n",
    "'output_size': 4\n",
    "}\n",
    "\n",
    "my_rnn = RNN(**params)\n",
    "input_x = 'Gurlitt Wants to Return Nazi-Looted Art, Sueddeutsche Reports'\n",
    "input_x = text_to_ids(input_x)\n",
    "input_x = list_to_tensor(input_x)\n",
    "pred_y = my_rnn(input_x)\n",
    "print(f'モデル予測: {category_from_output(pred_y)}')   # なおこの予測はデタラメなもの\n",
    "print(pred_y)\n",
    "print('正解: e')\n",
    "# print(f'topk: {y.dim.topk(1)}')"
   ]
  },
  {
   "cell_type": "markdown",
   "metadata": {},
   "source": [
    "# 82. 確率的勾配降下法による学習\n",
    ">確率的勾配降下法（SGD: Stochastic Gradient Descent）を用いて，問題81で構築したモデルを学習せよ．訓練データ上の損失と正解率，評価データ上の損失と正解率を表示しながらモデルを学習し，適当な基準（例えば10エポックなど）で終了させよ"
   ]
  },
  {
   "cell_type": "code",
   "execution_count": 7,
   "metadata": {},
   "outputs": [
    {
     "name": "stdout",
     "output_type": "stream",
     "text": [
      "\tTITLE\tCATEGORY\n",
      "10672\tSwiss stocks - Factors to watch on March 31\tb\n",
      "10673\tJamie Foxx Will Reportedly Play Mike Tyson In Upcoming Biopic\te\n"
     ]
    }
   ],
   "source": [
    "!head -3 ../Chap8/valid.txt"
   ]
  },
  {
   "cell_type": "code",
   "execution_count": 8,
   "metadata": {},
   "outputs": [],
   "source": [
    "def get_data(file):\n",
    "    titles = []\n",
    "    categories = []\n",
    "    first_line = True\n",
    "    with open(file) as f:\n",
    "        for line in f:\n",
    "            if first_line:\n",
    "                first_line=False\n",
    "                continue\n",
    "                \n",
    "            if len(line.split('\\t')) != 3:\n",
    "                continue\n",
    "                \n",
    "            contents = line.strip('\\n').split('\\t')\n",
    "            titles.append(contents[1])\n",
    "            categories.append(contents[2])\n",
    "            \n",
    "    return titles, categories\n",
    "\n",
    "def get_accuracy(net, x_list, y_list):  \n",
    "    acc = 0.0\n",
    "    for x, y in zip(x_list, y_list):\n",
    "        output = category_from_output(net(list_to_tensor(text_to_ids(x))))\n",
    "        if output == y:\n",
    "            acc += 1.0\n",
    "            \n",
    "    return acc / len(x_list)\n",
    "\n",
    "def get_dataset_acc_loss(net, criterion, x_data, y_data):\n",
    "    y_pred = []\n",
    "    running_loss = 0.0\n",
    "    for x, y in zip(x_data, y_data):\n",
    "        pred = net(list_to_tensor(text_to_ids(x)))\n",
    "        y_pred.append(pred)\n",
    "        running_loss += criterion(pred, category_to_num(y)).item()\n",
    "        \n",
    "    acc = 0.0\n",
    "    for pred, true in zip(y_pred, y_data):\n",
    "        if category_from_output(pred) == true:\n",
    "            acc += 1.0\n",
    "        \n",
    "    return acc/len(y_data), running_loss/len(y_data)\n",
    "        \n",
    "    \n",
    "def category_to_num(category:str):\n",
    "    all_categories = {'b':0, 't':1, 'e':2, 'm':3}\n",
    "    return torch.tensor([all_categories[category]])\n",
    "\n",
    "def category_to_vec(category:str):\n",
    "    all_categories = {'b':0, 't':1, 'e':2, 'm':3}\n",
    "    vec = torch.zeros(4)\n",
    "    vec[all_categories[category]] = 1.0\n",
    "    return vec"
   ]
  },
  {
   "cell_type": "code",
   "execution_count": 9,
   "metadata": {},
   "outputs": [
    {
     "name": "stdout",
     "output_type": "stream",
     "text": [
      "epoch0\n",
      "epoch1\n",
      "epoch2\n",
      "epoch3\n",
      "epoch4\n",
      "epoch5\n",
      "epoch6\n",
      "epoch7\n",
      "epoch8\n",
      "epoch9\n",
      "Done.\n"
     ]
    }
   ],
   "source": [
    "# データの取得\n",
    "train_x, train_y = get_data('../Chap8/train.txt')\n",
    "valid_x, valid_y = get_data('../Chap8/valid.txt')\n",
    "\n",
    "# 最適化手法の指定\n",
    "optimizer = optim.SGD(my_rnn.parameters(), lr=0.01)\n",
    "criterion = nn.CrossEntropyLoss()\n",
    "\n",
    "\n",
    "epoch_size = 10\n",
    "train_loss = list()\n",
    "train_acc = list()\n",
    "valid_loss = list()\n",
    "valid_acc = list()\n",
    "\n",
    "\n",
    "for epoch in range(epoch_size):   # エポック数分ループを回す\n",
    "    print(f'epoch{epoch}')\n",
    "    running_loss = 0.0\n",
    "    \n",
    "    for input_x, label_y in zip(train_x, train_y):\n",
    "        # print(input_x, label_y)\n",
    "        # パラメータの勾配をリセット\n",
    "        optimizer.zero_grad()\n",
    "        \n",
    "        # 順伝搬\n",
    "        output = my_rnn(list_to_tensor(text_to_ids(input_x)))\n",
    "        loss = criterion(output, category_to_num(label_y))\n",
    "        \n",
    "        # 逆伝搬\n",
    "        loss.backward()\n",
    "        \n",
    "        # パラメータ更新\n",
    "        optimizer.step()\n",
    "        \n",
    "        running_loss += loss.item()\n",
    "    \n",
    "    \n",
    "    \n",
    "    # 学習の記録\n",
    "    train_loss.append(running_loss/len(train_x))\n",
    "    train_acc.append(get_accuracy(my_rnn, train_x, train_y))\n",
    "    \n",
    "    acc, loss = get_dataset_acc_loss(my_rnn, criterion, valid_x, valid_y)\n",
    "    valid_loss.append(loss)\n",
    "    valid_acc.append(acc)\n",
    "    \n",
    "print('Done.')"
   ]
  },
  {
   "cell_type": "code",
   "execution_count": 10,
   "metadata": {},
   "outputs": [
    {
     "name": "stdout",
     "output_type": "stream",
     "text": [
      "[0.676911544227886,\n",
      " 0.6709145427286357,\n",
      " 0.6731634182908546,\n",
      " 0.7008995502248876,\n",
      " 0.6979010494752623,\n",
      " 0.712143928035982,\n",
      " 0.7113943028485757,\n",
      " 0.719640179910045,\n",
      " 0.7338830584707646,\n",
      " 0.712143928035982]\n"
     ]
    }
   ],
   "source": [
    "from pprint import pprint\n",
    "pprint(valid_acc)"
   ]
  },
  {
   "cell_type": "code",
   "execution_count": 11,
   "metadata": {},
   "outputs": [
    {
     "data": {
      "image/png": "[encoded data removed]",
      "text/plain": [
       "<Figure size 1152x576 with 2 Axes>"
      ]
     },
     "metadata": {
      "needs_background": "light"
     },
     "output_type": "display_data"
    }
   ],
   "source": [
    "import matplotlib.pyplot as plt\n",
    "%matplotlib inline\n",
    "\n",
    "plt.figure(figsize=(16, 8))\n",
    "\n",
    "epoch_size = range(1, 11)\n",
    "plt.subplot(1,2,1)\n",
    "plt.plot(epoch_size, train_loss, label='Train Loss')\n",
    "plt.plot(epoch_size, valid_loss, label='Valid Loss')\n",
    "plt.xlabel('epoch')\n",
    "plt.ylabel('Loss')\n",
    "plt.title('Loss')\n",
    "plt.legend()\n",
    "\n",
    "plt.subplot(1,2,2)\n",
    "plt.plot(epoch_size, train_acc, label='Train Acc')\n",
    "plt.plot(epoch_size, valid_acc, label='Valid Acc')\n",
    "plt.xlabel('epoch')\n",
    "plt.ylabel('Acc')\n",
    "plt.title('Acc')\n",
    "plt.legend()\n",
    "\n",
    "plt.tight_layout()\n",
    "plt.show();"
   ]
  },
  {
   "cell_type": "markdown",
   "metadata": {},
   "source": [
    "# 83. ミニバッチ化・GPU上での学習\n",
    ">問題82のコードを改変し，B\n",
    "事例ごとに損失・勾配を計算して学習を行えるようにせよ（B\n",
    "の値は適当に選べ）．また，GPU上で学習を実行せよ"
   ]
  },
  {
   "cell_type": "markdown",
   "metadata": {},
   "source": [
    "`torch.tensor(train_x_vec)`のコードを実行すると  \n",
    "`ValueError: expected sequence of length 12 at dim 1 (got 9)`となる.  \n",
    "これは`torch.tensor([[1], [2, 0, 2], [8, 8]])`みたいなのがあった時, \n",
    "`torch.tensor([[1, 0, 0], [2, 0, 2], [8, 8, 0]])`として各要素の長さを揃えてあげないとだめ"
   ]
  },
  {
   "cell_type": "code",
   "execution_count": 30,
   "metadata": {},
   "outputs": [],
   "source": [
    "def batch_trainee(batch_size):\n",
    "    # Dataloaderを使ってtrain_x, train_yをまとめて扱う   [[x_vec, y], ...[x_vec, y]]\n",
    "    train_y_vec = [category_to_num(y) for y in train_y]\n",
    "    train_x_vec = [text_to_ids(x) for x in train_x]\n",
    "    dataset = torch.utils.data.TensorDataset(list_to_tensor(train_x_vec), train_y_vec)\n",
    "\n",
    "    # バッチサイズの指定\n",
    "    data_loader = torch.utils.data.DataLoader(dataset, batch_size=batch_size, shuffle=True)\n",
    "    # 最適化手法の指定\n",
    "    optimizer = optim.SGD(my_rnn.parameters(), lr=0.01)\n",
    "    criterion = nn.CrossEntropyLoss()\n",
    "\n",
    "\n",
    "    epoch_size = 10\n",
    "    train_loss = list()\n",
    "    train_acc = list()\n",
    "    valid_loss = list()\n",
    "    valid_acc = list()\n",
    "\n",
    "    start_time = time.time()\n",
    "    for epoch in range(epoch_size):   # エポック数分ループを回す\n",
    "        print(f'epoch{epoch}')\n",
    "        running_loss = 0.0\n",
    "    \n",
    "        for input_x, label_y in data_loader:\n",
    "            # print(input_x, label_y)\n",
    "            # パラメータの勾配をリセット\n",
    "            optimizer.zero_grad()\n",
    "        \n",
    "            # 順伝搬\n",
    "            output = my_rnn(input_x)\n",
    "            loss = criterion(output, label_y)\n",
    "        \n",
    "            # 逆伝搬\n",
    "            loss.backward()\n",
    "        \n",
    "            # パラメータ更新\n",
    "            optimizer.step()\n",
    "        \n",
    "            running_loss += loss.item()\n",
    "    \n",
    "        run_time = time.time() - start_time\n",
    "    \n",
    "        # 学習の記録\n",
    "        train_loss.append(running_loss/len(train_x))\n",
    "        train_acc.append(get_accuracy(my_rnn, train_x, train_y))\n",
    "    \n",
    "        acc, loss = get_dataset_acc_loss(my_rnn, criterion, valid_x, valid_y)\n",
    "        valid_loss.append(loss)\n",
    "        valid_acc.append(acc)\n",
    "    \n",
    "    print('Done.')\n",
    "    print(f'Run Time  : {run_time}')\n",
    "    print(f'Train_Acc: {train_acc.mean()}')\n",
    "    print(f'Valid_Acc: {valid_acc.mean()}')"
   ]
  },
  {
   "cell_type": "code",
   "execution_count": 31,
   "metadata": {},
   "outputs": [
    {
     "ename": "ValueError",
     "evalue": "expected sequence of length 12 at dim 2 (got 9)",
     "output_type": "error",
     "traceback": [
      "\u001b[0;31m---------------------------------------------------------------------------\u001b[0m",
      "\u001b[0;31mValueError\u001b[0m                                Traceback (most recent call last)",
      "\u001b[0;32m<ipython-input-31-01d53462940d>\u001b[0m in \u001b[0;36m<module>\u001b[0;34m\u001b[0m\n\u001b[0;32m----> 1\u001b[0;31m \u001b[0mbatch_trainee\u001b[0m\u001b[0;34m(\u001b[0m\u001b[0;36m100\u001b[0m\u001b[0;34m)\u001b[0m\u001b[0;34m\u001b[0m\u001b[0;34m\u001b[0m\u001b[0m\n\u001b[0m",
      "\u001b[0;32m<ipython-input-30-5080869c440d>\u001b[0m in \u001b[0;36mbatch_trainee\u001b[0;34m(batch_size)\u001b[0m\n\u001b[1;32m      3\u001b[0m     \u001b[0mtrain_y_vec\u001b[0m \u001b[0;34m=\u001b[0m \u001b[0;34m[\u001b[0m\u001b[0mcategory_to_num\u001b[0m\u001b[0;34m(\u001b[0m\u001b[0my\u001b[0m\u001b[0;34m)\u001b[0m \u001b[0;32mfor\u001b[0m \u001b[0my\u001b[0m \u001b[0;32min\u001b[0m \u001b[0mtrain_y\u001b[0m\u001b[0;34m]\u001b[0m\u001b[0;34m\u001b[0m\u001b[0;34m\u001b[0m\u001b[0m\n\u001b[1;32m      4\u001b[0m     \u001b[0mtrain_x_vec\u001b[0m \u001b[0;34m=\u001b[0m \u001b[0;34m[\u001b[0m\u001b[0mtext_to_ids\u001b[0m\u001b[0;34m(\u001b[0m\u001b[0mx\u001b[0m\u001b[0;34m)\u001b[0m \u001b[0;32mfor\u001b[0m \u001b[0mx\u001b[0m \u001b[0;32min\u001b[0m \u001b[0mtrain_x\u001b[0m\u001b[0;34m]\u001b[0m\u001b[0;34m\u001b[0m\u001b[0;34m\u001b[0m\u001b[0m\n\u001b[0;32m----> 5\u001b[0;31m     \u001b[0mdataset\u001b[0m \u001b[0;34m=\u001b[0m \u001b[0mtorch\u001b[0m\u001b[0;34m.\u001b[0m\u001b[0mutils\u001b[0m\u001b[0;34m.\u001b[0m\u001b[0mdata\u001b[0m\u001b[0;34m.\u001b[0m\u001b[0mTensorDataset\u001b[0m\u001b[0;34m(\u001b[0m\u001b[0mlist_to_tensor\u001b[0m\u001b[0;34m(\u001b[0m\u001b[0mtrain_x_vec\u001b[0m\u001b[0;34m)\u001b[0m\u001b[0;34m,\u001b[0m \u001b[0mtrain_y_vec\u001b[0m\u001b[0;34m)\u001b[0m\u001b[0;34m\u001b[0m\u001b[0;34m\u001b[0m\u001b[0m\n\u001b[0m\u001b[1;32m      6\u001b[0m \u001b[0;34m\u001b[0m\u001b[0m\n\u001b[1;32m      7\u001b[0m     \u001b[0;31m# バッチサイズの指定\u001b[0m\u001b[0;34m\u001b[0m\u001b[0;34m\u001b[0m\u001b[0;34m\u001b[0m\u001b[0m\n",
      "\u001b[0;32m<ipython-input-3-86d6e0ce43cb>\u001b[0m in \u001b[0;36mlist_to_tensor\u001b[0;34m(input_data)\u001b[0m\n\u001b[1;32m     32\u001b[0m \u001b[0;34m\u001b[0m\u001b[0m\n\u001b[1;32m     33\u001b[0m \u001b[0;32mdef\u001b[0m \u001b[0mlist_to_tensor\u001b[0m\u001b[0;34m(\u001b[0m\u001b[0minput_data\u001b[0m\u001b[0;34m:\u001b[0m \u001b[0mlist\u001b[0m\u001b[0;34m)\u001b[0m\u001b[0;34m:\u001b[0m\u001b[0;34m\u001b[0m\u001b[0;34m\u001b[0m\u001b[0m\n\u001b[0;32m---> 34\u001b[0;31m     \u001b[0;32mreturn\u001b[0m \u001b[0mtorch\u001b[0m\u001b[0;34m.\u001b[0m\u001b[0mtensor\u001b[0m\u001b[0;34m(\u001b[0m\u001b[0;34m[\u001b[0m\u001b[0minput_data\u001b[0m\u001b[0;34m]\u001b[0m\u001b[0;34m)\u001b[0m\u001b[0;34m\u001b[0m\u001b[0;34m\u001b[0m\u001b[0m\n\u001b[0m",
      "\u001b[0;31mValueError\u001b[0m: expected sequence of length 12 at dim 2 (got 9)"
     ]
    }
   ],
   "source": [
    "batch_trainee(100)"
   ]
  },
  {
   "cell_type": "code",
   "execution_count": 29,
   "metadata": {},
   "outputs": [
    {
     "ename": "ValueError",
     "evalue": "expected sequence of length 12 at dim 1 (got 9)",
     "output_type": "error",
     "traceback": [
      "\u001b[0;31m---------------------------------------------------------------------------\u001b[0m",
      "\u001b[0;31mValueError\u001b[0m                                Traceback (most recent call last)",
      "\u001b[0;32m<ipython-input-29-cccf697899bc>\u001b[0m in \u001b[0;36m<module>\u001b[0;34m\u001b[0m\n\u001b[1;32m      1\u001b[0m \u001b[0mtrain_x_vec\u001b[0m \u001b[0;34m=\u001b[0m \u001b[0;34m[\u001b[0m\u001b[0mtext_to_ids\u001b[0m\u001b[0;34m(\u001b[0m\u001b[0minput_x\u001b[0m\u001b[0;34m)\u001b[0m \u001b[0;32mfor\u001b[0m \u001b[0minput_x\u001b[0m \u001b[0;32min\u001b[0m \u001b[0mtrain_x\u001b[0m\u001b[0;34m]\u001b[0m\u001b[0;34m\u001b[0m\u001b[0;34m\u001b[0m\u001b[0m\n\u001b[0;32m----> 2\u001b[0;31m \u001b[0mtorch\u001b[0m\u001b[0;34m.\u001b[0m\u001b[0mtensor\u001b[0m\u001b[0;34m(\u001b[0m\u001b[0mtrain_x_vec\u001b[0m\u001b[0;34m)\u001b[0m\u001b[0;34m\u001b[0m\u001b[0;34m\u001b[0m\u001b[0m\n\u001b[0m",
      "\u001b[0;31mValueError\u001b[0m: expected sequence of length 12 at dim 1 (got 9)"
     ]
    }
   ],
   "source": [
    "train_x_vec = [text_to_ids(input_x) for input_x in train_x]\n",
    "list_to_tensor(train_x_vec)"
   ]
  },
  {
   "cell_type": "code",
   "execution_count": null,
   "metadata": {},
   "outputs": [],
   "source": []
  }
 ],
 "metadata": {
  "kernelspec": {
   "display_name": "Python 3",
   "language": "python",
   "name": "python3"
  },
  "language_info": {
   "codemirror_mode": {
    "name": "ipython",
    "version": 3
   },
   "file_extension": ".py",
   "mimetype": "text/x-python",
   "name": "python",
   "nbconvert_exporter": "python",
   "pygments_lexer": "ipython3",
   "version": "3.8.3"
  }
 },
 "nbformat": 4,
 "nbformat_minor": 4
}
