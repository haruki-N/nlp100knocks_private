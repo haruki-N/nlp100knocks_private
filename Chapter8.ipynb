{
 "cells": [
  {
   "cell_type": "markdown",
   "metadata": {},
   "source": [
    "# 第8章: ニューラルネット\n",
    ">第6章で取り組んだニュース記事のカテゴリ分類を題材として，ニューラルネットワークでカテゴリ分類モデルを実装する．なお，この章ではPyTorch, TensorFlow, Chainerなどの機械学習プラットフォームを活用せよ"
   ]
  },
  {
   "cell_type": "markdown",
   "metadata": {},
   "source": [
    "## 70. 単語ベクトルの和による特徴量\n",
    ">問題50で構築した学習データ，検証データ，評価データを行列・ベクトルに変換したい．例えば，学習データについて，すべての事例xiの特徴ベクトルxiを並べた行列Xと，正解ラベルを並べた行列（ベクトル）Yを作成したい  \n",
    "\n",
    ">xiは問題60でダウンロードしたやつでおけ.  \n",
    "今回は「ビジネス」「科学技術」「エンタメ」「健康」の4カテゴリ分類になるので, 0=<yi=<3となる."
   ]
  },
  {
   "cell_type": "code",
   "execution_count": 1,
   "metadata": {},
   "outputs": [
    {
     "name": "stdout",
     "output_type": "stream",
     "text": [
      "\tTITLE\tCATEGORY\n",
      "0\tRPT-Fitch Updates EMEA Consumer ABS Rating Criteria & Auto Residual Value  ...\tb\n",
      "1\tGurlitt Wants to Return Nazi-Looted Art, Sueddeutsche Reports\te\n"
     ]
    }
   ],
   "source": [
    "# 問題50で構築したデータを確認\n",
    "!head -3 train.txt"
   ]
  },
  {
   "cell_type": "code",
   "execution_count": 2,
   "metadata": {},
   "outputs": [],
   "source": [
    "# xiを準備\n",
    "import gensim\n",
    "# KeyedVecotrsで辞書形式でベクトルを格納, load_word2vec_formatでword2vecのフォーマットでデータを読み込み. バイナリファイルなのでbinary=True\n",
    "model = gensim.models.KeyedVectors.load_word2vec_format('../7章/GoogleNews-vectors-negative300.bin', binary=True)"
   ]
  },
  {
   "cell_type": "code",
   "execution_count": 3,
   "metadata": {},
   "outputs": [
    {
     "data": {
      "text/html": [
       "<div>\n",
       "<style scoped>\n",
       "    .dataframe tbody tr th:only-of-type {\n",
       "        vertical-align: middle;\n",
       "    }\n",
       "\n",
       "    .dataframe tbody tr th {\n",
       "        vertical-align: top;\n",
       "    }\n",
       "\n",
       "    .dataframe thead th {\n",
       "        text-align: right;\n",
       "    }\n",
       "</style>\n",
       "<table border=\"1\" class=\"dataframe\">\n",
       "  <thead>\n",
       "    <tr style=\"text-align: right;\">\n",
       "      <th></th>\n",
       "      <th>TITLE</th>\n",
       "      <th>CATEGORY</th>\n",
       "    </tr>\n",
       "  </thead>\n",
       "  <tbody>\n",
       "    <tr>\n",
       "      <th>0</th>\n",
       "      <td>RPT-Fitch Updates EMEA Consumer ABS Rating Cri...</td>\n",
       "      <td>b</td>\n",
       "    </tr>\n",
       "    <tr>\n",
       "      <th>1</th>\n",
       "      <td>Gurlitt Wants to Return Nazi-Looted Art, Suedd...</td>\n",
       "      <td>e</td>\n",
       "    </tr>\n",
       "    <tr>\n",
       "      <th>2</th>\n",
       "      <td>UPDATE 1-Fairfax Financial, CEO probed over po...</td>\n",
       "      <td>b</td>\n",
       "    </tr>\n",
       "    <tr>\n",
       "      <th>3</th>\n",
       "      <td>Angelina Jolie - Angelina Jolie Will Not Tight...</td>\n",
       "      <td>e</td>\n",
       "    </tr>\n",
       "    <tr>\n",
       "      <th>4</th>\n",
       "      <td>Patent Officials Cancel the Washington Redskin...</td>\n",
       "      <td>b</td>\n",
       "    </tr>\n",
       "  </tbody>\n",
       "</table>\n",
       "</div>"
      ],
      "text/plain": [
       "                                               TITLE CATEGORY\n",
       "0  RPT-Fitch Updates EMEA Consumer ABS Rating Cri...        b\n",
       "1  Gurlitt Wants to Return Nazi-Looted Art, Suedd...        e\n",
       "2  UPDATE 1-Fairfax Financial, CEO probed over po...        b\n",
       "3  Angelina Jolie - Angelina Jolie Will Not Tight...        e\n",
       "4  Patent Officials Cancel the Washington Redskin...        b"
      ]
     },
     "execution_count": 3,
     "metadata": {},
     "output_type": "execute_result"
    }
   ],
   "source": [
    "import pandas as pd\n",
    "import numpy as np\n",
    "df_train = pd.read_table('train.txt', sep='\\t')[['TITLE', 'CATEGORY']]\n",
    "df_valid = pd.read_table('valid.txt', sep='\\t')[['TITLE', 'CATEGORY']]\n",
    "df_test = pd.read_table('test.txt', sep='\\t')[['TITLE', 'CATEGORY']]\n",
    "df_train.head()"
   ]
  },
  {
   "cell_type": "code",
   "execution_count": 4,
   "metadata": {},
   "outputs": [],
   "source": [
    "import nltk\n",
    "import re\n",
    "\n",
    "stop_words = nltk.corpus.stopwords.words('english')   # ストップワードリスト取得\n",
    "model_words = model.vocab.keys()   #  word2vecにある単語リスト取得\n",
    "\n",
    "def title_to_vec(row):\n",
    "    \"\"\"\n",
    "    DataFrameの列を入力として, DataFrameに関数を適用する.\n",
    "    ここではDataFrameのTITLEカラムを入力として, それを単語ベクトル化したものを返す.\n",
    "    \"\"\"\n",
    "    # タイトル文の前処理\n",
    "    title = re.sub(r'[,.:!\\?]', '', row.TITLE)   # カンマとかピリオドとか省く\n",
    "    tokenized_words = nltk.tokenize.word_tokenize(title)    # トークン化    \n",
    "    \n",
    "    # ストップワードと, ダウンロードした単語ベクトルにない単語は除外. model[word]は300次元ベクトル\n",
    "    title_vecs = [model[word.lower()] for word in tokenized_words if word.lower() in model_words and word.lower() not in stop_words]\n",
    "    \n",
    "    if len(title_vecs) == 0:\n",
    "        return np.nan\n",
    "    return sum(title_vecs)/len(title_vecs)\n",
    "\n",
    "\n",
    "\n",
    "def category_to_vec(row):\n",
    "    \"\"\"\n",
    "    CATEGORYを対応する数字へと変換\n",
    "    \"\"\"\n",
    "    category2num = {'b':0, 't':1, 'e':2, 'm':3}\n",
    "    return category2num[row.CATEGORY]"
   ]
  },
  {
   "cell_type": "code",
   "execution_count": 5,
   "metadata": {},
   "outputs": [
    {
     "data": {
      "text/html": [
       "<div>\n",
       "<style scoped>\n",
       "    .dataframe tbody tr th:only-of-type {\n",
       "        vertical-align: middle;\n",
       "    }\n",
       "\n",
       "    .dataframe tbody tr th {\n",
       "        vertical-align: top;\n",
       "    }\n",
       "\n",
       "    .dataframe thead th {\n",
       "        text-align: right;\n",
       "    }\n",
       "</style>\n",
       "<table border=\"1\" class=\"dataframe\">\n",
       "  <thead>\n",
       "    <tr style=\"text-align: right;\">\n",
       "      <th></th>\n",
       "      <th>TITLE</th>\n",
       "      <th>CATEGORY</th>\n",
       "      <th>xi_vec</th>\n",
       "      <th>yi_vec</th>\n",
       "    </tr>\n",
       "  </thead>\n",
       "  <tbody>\n",
       "    <tr>\n",
       "      <th>0</th>\n",
       "      <td>RPT-Fitch Updates EMEA Consumer ABS Rating Cri...</td>\n",
       "      <td>b</td>\n",
       "      <td>[0.01720581, 0.032263182, 0.021276856, 0.14004...</td>\n",
       "      <td>0</td>\n",
       "    </tr>\n",
       "    <tr>\n",
       "      <th>1</th>\n",
       "      <td>Gurlitt Wants to Return Nazi-Looted Art, Suedd...</td>\n",
       "      <td>e</td>\n",
       "      <td>[0.05343628, 0.06964111, -0.05696869, 0.008666...</td>\n",
       "      <td>2</td>\n",
       "    </tr>\n",
       "    <tr>\n",
       "      <th>2</th>\n",
       "      <td>UPDATE 1-Fairfax Financial, CEO probed over po...</td>\n",
       "      <td>b</td>\n",
       "      <td>[-0.079241075, -0.017857144, -0.07739258, -0.1...</td>\n",
       "      <td>0</td>\n",
       "    </tr>\n",
       "    <tr>\n",
       "      <th>3</th>\n",
       "      <td>Angelina Jolie - Angelina Jolie Will Not Tight...</td>\n",
       "      <td>e</td>\n",
       "      <td>[-0.08021715, 0.031304255, -0.02086046, 0.1278...</td>\n",
       "      <td>2</td>\n",
       "    </tr>\n",
       "    <tr>\n",
       "      <th>4</th>\n",
       "      <td>Patent Officials Cancel the Washington Redskin...</td>\n",
       "      <td>b</td>\n",
       "      <td>[-0.072021484, 0.06953939, 0.20385742, 0.23103...</td>\n",
       "      <td>0</td>\n",
       "    </tr>\n",
       "  </tbody>\n",
       "</table>\n",
       "</div>"
      ],
      "text/plain": [
       "                                               TITLE CATEGORY  \\\n",
       "0  RPT-Fitch Updates EMEA Consumer ABS Rating Cri...        b   \n",
       "1  Gurlitt Wants to Return Nazi-Looted Art, Suedd...        e   \n",
       "2  UPDATE 1-Fairfax Financial, CEO probed over po...        b   \n",
       "3  Angelina Jolie - Angelina Jolie Will Not Tight...        e   \n",
       "4  Patent Officials Cancel the Washington Redskin...        b   \n",
       "\n",
       "                                              xi_vec  yi_vec  \n",
       "0  [0.01720581, 0.032263182, 0.021276856, 0.14004...       0  \n",
       "1  [0.05343628, 0.06964111, -0.05696869, 0.008666...       2  \n",
       "2  [-0.079241075, -0.017857144, -0.07739258, -0.1...       0  \n",
       "3  [-0.08021715, 0.031304255, -0.02086046, 0.1278...       2  \n",
       "4  [-0.072021484, 0.06953939, 0.20385742, 0.23103...       0  "
      ]
     },
     "execution_count": 5,
     "metadata": {},
     "output_type": "execute_result"
    }
   ],
   "source": [
    "df_train['xi_vec'] = df_train.apply(title_to_vec, axis=1)\n",
    "df_train['yi_vec'] = df_train.apply(category_to_vec, axis=1)\n",
    "\n",
    "# ベクトル化できなかったTITLEの列は削除\n",
    "df_train = df_train.dropna()\n",
    "\n",
    "# 出力例確認\n",
    "df_train.head()"
   ]
  },
  {
   "cell_type": "code",
   "execution_count": 6,
   "metadata": {},
   "outputs": [],
   "source": [
    "# test, validDataFrameにも適用\n",
    "df_test['xi_vec'], df_test['yi_vec'] = df_test.apply(title_to_vec, axis=1), df_test.apply(category_to_vec, axis=1)\n",
    "df_valid['xi_vec'], df_valid['yi_vec'] = df_valid.apply(title_to_vec, axis=1), df_valid.apply(category_to_vec, axis=1)\n",
    "df_test, df_valid = df_test.dropna(), df_valid.dropna()\n",
    "\n",
    "\n",
    "\n",
    "# ファイルへの書き出し\n",
    "df_train.to_csv('vectorized_train.csv')\n",
    "df_valid.to_csv('vectorized_valid.csv')\n",
    "df_test.to_csv('vectorized_test.csv')"
   ]
  },
  {
   "cell_type": "markdown",
   "metadata": {},
   "source": [
    "## 71. 単層ニューラルネットワークによる予測\n",
    ">問題70で保存した行列を読み込み，学習データについて以下の計算を実行せよ.  \n",
    "ŷ 1=softmax(x_1W),Ŷ =softmax(X_[1:4]W)"
   ]
  },
  {
   "cell_type": "markdown",
   "metadata": {},
   "source": [
    "**自分で実装**"
   ]
  },
  {
   "cell_type": "code",
   "execution_count": 7,
   "metadata": {},
   "outputs": [],
   "source": [
    "def softmax(x):\n",
    "    \"\"\"\n",
    "    ソフトマックス関数.ベクトルを受け取り, ベクトルを返す.\n",
    "    入力が負の値の時でも0~1に変換できるように, expとる.(しかも微分もしやすい→逆伝播)\n",
    "    オーバーフローしないように最大値を各要素から引いておく\n",
    "    \"\"\"\n",
    "    x -= np.max(x)\n",
    "    return np.exp(x) / np.sum(np.exp(x))\n",
    "\n",
    "class SingleLayerNet:\n",
    "    \n",
    "    def __init__(self, input_size=300, output_size=4):\n",
    "        # 重みの初期化\n",
    "        np.random.seed(42)\n",
    "        self.W = np.random.randn(input_size, output_size)   # 正規分布の乱数生成\n",
    "        \n",
    "    def predict_y(self, X):   # indexは引数指定できるようにしておくと綺麗 or 入力前に入力値の形を整えておくと良い\n",
    "        self.x = X[0]\n",
    "        return softmax(np.dot(self.x, self.W))\n",
    "    \n",
    "    def predict_Y(self, X):\n",
    "        self.X = X[:4]\n",
    "            \n",
    "        return [softmax(np.dot(X, self.W)) for X in self.X]"
   ]
  },
  {
   "cell_type": "code",
   "execution_count": 8,
   "metadata": {},
   "outputs": [
    {
     "name": "stdout",
     "output_type": "stream",
     "text": [
      "[0.01832187 0.0956596  0.86424158 0.02177695]\n",
      "[array([0.01832187, 0.0956596 , 0.86424158, 0.02177695]),\n",
      " array([0.03111409, 0.00743297, 0.95459776, 0.00685517]),\n",
      " array([0.01049771, 0.02036487, 0.96048677, 0.00865065]),\n",
      " array([0.62431351, 0.0595027 , 0.17839147, 0.13779231])]\n"
     ]
    }
   ],
   "source": [
    "from pprint import pprint\n",
    "# xi, yiベクトルの取り出し\n",
    "\n",
    "xi_vec_train = np.array(df_train.xi_vec.tolist())   # 1回Seriesをリストに変換してから, ndarrayにしないと次元が保持されない((4, )->(4, 300)という感じに変換している)\n",
    "yi_vec_train = np.array(df_train.yi_vec.tolist())\n",
    "\n",
    "SN = SingleLayerNet()\n",
    "predict_yi = SN.predict_y(xi_vec_train)\n",
    "predict_Y = SN.predict_Y(xi_vec_train)\n",
    "print(predict_yi)\n",
    "pprint(predict_Y)"
   ]
  },
  {
   "cell_type": "code",
   "execution_count": 37,
   "metadata": {},
   "outputs": [
    {
     "name": "stdout",
     "output_type": "stream",
     "text": [
      "0        [0.01720581, 0.032263182, 0.021276856, 0.14004...\n",
      "1        [0.05343628, 0.06964111, -0.05696869, 0.008666...\n",
      "2        [-0.079241075, -0.017857144, -0.07739258, -0.1...\n",
      "3        [-0.08021715, 0.031304255, -0.02086046, 0.1278...\n",
      "4        [-0.072021484, 0.06953939, 0.20385742, 0.23103...\n",
      "                               ...                        \n",
      "10667    [-0.097324915, 0.042776924, -0.06622096, 0.069...\n",
      "10668    [-0.026938302, -0.028651645, -0.0661493, 0.020...\n",
      "10669    [-0.052730016, 0.14003208, -0.019799368, 0.115...\n",
      "10670    [-0.0050223214, 0.042027064, 0.041028704, 0.09...\n",
      "10671    [-0.027701242, 0.088309154, -0.032854352, 0.07...\n",
      "Name: xi_vec, Length: 10671, dtype: object\n"
     ]
    }
   ],
   "source": [
    "print(df_train.xi_vec)"
   ]
  },
  {
   "cell_type": "markdown",
   "metadata": {},
   "source": [
    "**Pytorch使って実装**"
   ]
  },
  {
   "cell_type": "code",
   "execution_count": 9,
   "metadata": {},
   "outputs": [
    {
     "data": {
      "text/plain": [
       "NeuralNetwork_with_Softmax(\n",
       "  (layer1): Linear(in_features=300, out_features=4, bias=False)\n",
       ")"
      ]
     },
     "execution_count": 9,
     "metadata": {},
     "output_type": "execute_result"
    }
   ],
   "source": [
    "import torch\n",
    "import torch.nn as nn\n",
    "import torch.nn.functional as F\n",
    "\n",
    "# モデル定義時に必要となるものを準備\n",
    "INPUT_FEATURES=300   # 入力\n",
    "OUTPUT_FEATURES=4   # 出力\n",
    "activation = F.softmax\n",
    "\n",
    "# torch.nn.Moduleクラスのサブクラス化によるモデル定義\n",
    "class NeuralNetwork_with_Softmax(nn.Module):\n",
    "    def __init__(self):\n",
    "        super(NeuralNetwork_with_Softmax, self).__init__()\n",
    "        self.layer1=nn.Linear(INPUT_FEATURES, OUTPUT_FEATURES, bias=False)   # bias=Falseとすると, バイアス項の加算なし.\n",
    "        self.activation = F.softmax   # この辺もクラスの内部で定義した方が良い\n",
    "        \n",
    "    def forward(self, input_data):\n",
    "        output = self.activation(self.layer1(input_data), dim=-1)   # dim: softmaxを適用する次元を指定.通常考えるのはテンソルなので指定する必要がある.\n",
    "        return output\n",
    "    \n",
    "# モデルのインスタンス化\n",
    "net = NeuralNetwork_with_Softmax()\n",
    "net"
   ]
  },
  {
   "cell_type": "markdown",
   "metadata": {},
   "source": [
    "-memo  \n",
    "Softmaxのdimについて  \n",
    "通常考えるのはテンソル.dimの値によってテンソルのどの次元に対してソフトマックスを適用するかが決まる(1階方向?2階方向?みたいな)\n",
    "ただし, 今回与えてるのはベクトルなので, 1階のテンソルとなる.ベクトルの各値に対してソフトマックスを適用することになるので, dim=-1として指定する."
   ]
  },
  {
   "cell_type": "code",
   "execution_count": 10,
   "metadata": {},
   "outputs": [
    {
     "name": "stdout",
     "output_type": "stream",
     "text": [
      "tensor([0.2639, 0.2434, 0.2436, 0.2490], grad_fn=<SoftmaxBackward>)\n",
      "tensor([[0.2639, 0.2434, 0.2436, 0.2490],\n",
      "        [0.2607, 0.2499, 0.2449, 0.2445],\n",
      "        [0.2566, 0.2538, 0.2518, 0.2379],\n",
      "        [0.2534, 0.2399, 0.2438, 0.2629]], grad_fn=<SoftmaxBackward>)\n"
     ]
    }
   ],
   "source": [
    "torch_y1 = net(torch.from_numpy(xi_vec_train[0]))\n",
    "torch_Y = net(torch.from_numpy(xi_vec_train[:4]))\n",
    "print(torch_y1)\n",
    "print(torch_Y)"
   ]
  },
  {
   "cell_type": "markdown",
   "metadata": {},
   "source": [
    "## 72. 損失と勾配の計算\n",
    ">学習データの事例x1と事例集合x1,x2,x3,x4に対して，クロスエントロピー損失と，行列Wに対する勾配を計算せよ．  \n",
    "なお，ある事例xiに対して損失は次式で計算される．  \n",
    "li=−log[事例xiがyiに分類される確率]  \n",
    "ただし，事例集合に対するクロスエントロピー損失は，その集合に含まれる各事例の損失の平均とする"
   ]
  },
  {
   "cell_type": "markdown",
   "metadata": {},
   "source": [
    "シンプルにzを計算するだけのモデルNetを定義  \n",
    "$$\n",
    "z = \\sum_{i=1}^{n}w_i・x_i + b\n",
    "$$  \n",
    "ただし今回はバイアスbなし"
   ]
  },
  {
   "cell_type": "code",
   "execution_count": 11,
   "metadata": {},
   "outputs": [],
   "source": [
    "INPUT_FEATURES=300   # 入力\n",
    "OUTPUT_FEATURES=4   # 出力\n",
    "class Net(nn.Module):\n",
    "    def __init__(self):\n",
    "        super(Net, self).__init__()\n",
    "        self.fc1 = nn.Linear(INPUT_FEATURES, OUTPUT_FEATURES, bias=False)\n",
    "    \n",
    "    def forward(self, x):\n",
    "        x = self.fc1(x)\n",
    "        return x"
   ]
  },
  {
   "cell_type": "code",
   "execution_count": 12,
   "metadata": {},
   "outputs": [
    {
     "name": "stdout",
     "output_type": "stream",
     "text": [
      "estimated_y1 = tensor([[-0.0272,  0.0189,  0.0582, -0.0438]], grad_fn=<MmBackward>)\n",
      "true y1 = tensor([0])\n",
      "\n",
      "Cross Entropy Loss = 1.415816307067871\n",
      "勾配 = tensor([[-0.0130, -0.0244, -0.0161,  ..., -0.0393,  0.0107,  0.0707],\n",
      "        [ 0.0044,  0.0082,  0.0054,  ...,  0.0132, -0.0036, -0.0237],\n",
      "        [ 0.0045,  0.0085,  0.0056,  ...,  0.0137, -0.0037, -0.0247],\n",
      "        [ 0.0041,  0.0077,  0.0051,  ...,  0.0124, -0.0034, -0.0223]])\n"
     ]
    }
   ],
   "source": [
    "# ニューラルネットのインスタンス化, 計算\n",
    "simple_net = Net()\n",
    "\n",
    "x1 = torch.from_numpy(xi_vec_train[:1])\n",
    "y1 = torch.from_numpy(yi_vec_train)[:1]    # list[0] -> 1番目の要素,    list[:1] -> 1番目の要素だけを取り出したリスト\n",
    "estimated_y1 = simple_net(x1)\n",
    "print(f'estimated_y1 = {estimated_y1}')\n",
    "print(f'true y1 = {y1}', end='\\n\\n')\n",
    "\n",
    "# 損失関数(クロスエントロピー誤差関数)の定義, 計算\n",
    "criterion = nn.CrossEntropyLoss()   # Softmaxが内部で動いているので, モデルないでやっちゃうと2重になる...\n",
    "loss = criterion(estimated_y1, y1)\n",
    "loss.backward()\n",
    "\n",
    "# 結果の出力\n",
    "print(f'Cross Entropy Loss = {loss}')\n",
    "print(f'勾配 = {simple_net.fc1.weight.grad}')"
   ]
  },
  {
   "cell_type": "code",
   "execution_count": 13,
   "metadata": {},
   "outputs": [
    {
     "name": "stdout",
     "output_type": "stream",
     "text": [
      "estimated_Y1 = tensor([[-0.0272,  0.0189,  0.0582, -0.0438],\n",
      "        [ 0.0151, -0.0025,  0.0695,  0.0316],\n",
      "        [-0.0954,  0.0510, -0.0034,  0.0215],\n",
      "        [ 0.0732,  0.0207,  0.0515, -0.0298]], grad_fn=<MmBackward>)\n",
      "true Y1 = tensor([0, 2, 0, 2])\n",
      "\n",
      "Cross Entropy Loss = 1.4006024599075317\n",
      "勾配 = tensor([[-0.0029, -0.0208, -0.0101,  ..., -0.0809,  0.0037,  0.1003],\n",
      "        [-0.0015,  0.0152, -0.0031,  ...,  0.0108, -0.0074, -0.0350],\n",
      "        [ 0.0058, -0.0092,  0.0166,  ...,  0.0604,  0.0102, -0.0317],\n",
      "        [-0.0013,  0.0147, -0.0034,  ...,  0.0096, -0.0065, -0.0336]])\n"
     ]
    }
   ],
   "source": [
    "# 上と同じ処理をX[1:4]でも行う\n",
    "X1 = torch.from_numpy(xi_vec_train[:4])\n",
    "Y1 = torch.from_numpy(yi_vec_train)[:4]\n",
    "estimated_Y1 = simple_net(X1)\n",
    "print(f'estimated_Y1 = {estimated_Y1}')\n",
    "print(f'true Y1 = {Y1}', end='\\n\\n')\n",
    "\n",
    "loss = criterion(estimated_Y1, Y1)\n",
    "loss.backward()\n",
    "\n",
    "print(f'Cross Entropy Loss = {loss}')\n",
    "print(f'勾配 = {simple_net.fc1.weight.grad}')"
   ]
  },
  {
   "cell_type": "markdown",
   "metadata": {},
   "source": [
    "## 73. 確率的勾配効果法による学習\n",
    ">確率的勾配降下法（SGD: Stochastic Gradient Descent）を用いて，行列W\n",
    "を学習せよ．なお，学習は適当な基準で終了させればよい（例えば「100エポックで終了」など）"
   ]
  },
  {
   "cell_type": "code",
   "execution_count": 14,
   "metadata": {},
   "outputs": [],
   "source": [
    "# 最適化手法の指定\n",
    "import torch.optim as optim\n",
    "optimizer = optim.SGD(simple_net.parameters(), lr=0.01)\n",
    "\n",
    "\n",
    "# 学習の準備\n",
    "epoch_size = 100    # epoch_numとかの方がよく使われてそう... ここでのsizeは違和感...?\n",
    "\n",
    "# Dataloaderを使ってtrain_x, train_yをまとめて扱う   [[x_vec, y], ...[x_vec, y]]\n",
    "dataset = torch.utils.data.TensorDataset(torch.from_numpy(xi_vec_train), torch.from_numpy(yi_vec_train))\n",
    "data_loader = torch.utils.data.DataLoader(dataset, shuffle=True)\n",
    "\n",
    "    \n",
    "# 学習\n",
    "train_loss = list()\n",
    "for epoch in range(epoch_size):   # エポック数分ループを回す\n",
    "    running_loss = 0.0\n",
    "    \n",
    "    for input_x, label_y in data_loader:\n",
    "        # パラメータの勾配をリセット\n",
    "        optimizer.zero_grad()\n",
    "        \n",
    "        # 順伝搬\n",
    "        output = simple_net(input_x)\n",
    "        loss = criterion(output, label_y)\n",
    "        \n",
    "        # 逆伝搬\n",
    "        loss.backward()\n",
    "        \n",
    "        # パラメータ更新\n",
    "        optimizer.step()\n",
    "        \n",
    "        running_loss += loss.item()\n",
    "        \n",
    "    train_loss.append(running_loss/len(xi_vec_train))"
   ]
  },
  {
   "cell_type": "markdown",
   "metadata": {},
   "source": [
    "### Dataloaderについて\n",
    "datasetsからバッチごとに取り出すことを目的に使われる.  \n",
    "基本的には`torch.utils.data.DataLoader`を使う.  \n",
    "以下イメージ.  \n",
    "`dataset = [データ全て]`  \n",
    "`DataLoader = [[batch1], [batch2], ...[batch_n]]`"
   ]
  },
  {
   "cell_type": "markdown",
   "metadata": {},
   "source": [
    "# 74. 正解率の計測\n",
    ">問題73で求めた行列を用いて学習データおよび評価データの事例を分類したとき，その正解率をそれぞれ求めよ"
   ]
  },
  {
   "cell_type": "code",
   "execution_count": 15,
   "metadata": {},
   "outputs": [],
   "source": [
    "from sklearn.metrics import accuracy_score\n",
    "\n",
    "def get_accuracy(x, y):\n",
    "    return accuracy_score(torch.argmax(net(torch.from_numpy(x)), dim=-1), y)"
   ]
  },
  {
   "cell_type": "code",
   "execution_count": 16,
   "metadata": {},
   "outputs": [
    {
     "name": "stdout",
     "output_type": "stream",
     "text": [
      "Train: 0.3555430606316184\n",
      "Valid: 0.3733133433283358\n",
      "Test : 0.3583208395802099\n"
     ]
    }
   ],
   "source": [
    "# testデータとvalidデータの準備\n",
    "xi_vec_test = np.array(df_test.xi_vec.tolist())\n",
    "yi_vec_test = np.array(df_test.yi_vec.tolist())\n",
    "xi_vec_valid = np.array(df_valid.xi_vec.tolist()) \n",
    "yi_vec_valid = np.array(df_valid.yi_vec.tolist())\n",
    "\n",
    "\n",
    "# 実行\n",
    "print(f'Train: {get_accuracy(xi_vec_train, yi_vec_train)}')\n",
    "print(f'Valid: {get_accuracy(xi_vec_valid, yi_vec_valid)}')\n",
    "print(f'Test : {get_accuracy(xi_vec_test, yi_vec_test)}')"
   ]
  },
  {
   "cell_type": "markdown",
   "metadata": {},
   "source": [
    "# 75. 損失と正解率のプロット\n",
    ">問題73のコードを改変し，各エポックのパラメータ更新が完了するたびに，訓練データでの損失，正解率，検証データでの損失，正解率をグラフにプロットし，学習の進捗状況を確認できるようにせよ"
   ]
  },
  {
   "cell_type": "code",
   "execution_count": 17,
   "metadata": {},
   "outputs": [],
   "source": [
    "# get_accuracy関数において, ネットワーク引数を追加\n",
    "def get_accuracy(net, x, y):\n",
    "    return accuracy_score(torch.argmax(net(torch.from_numpy(x)), dim=-1), y)"
   ]
  },
  {
   "cell_type": "code",
   "execution_count": 18,
   "metadata": {},
   "outputs": [],
   "source": [
    "# ニューラルネットのインスタンス化\n",
    "simple_net = Net()\n",
    "\n",
    "# valid_dataの準備\n",
    "x_valid = torch.from_numpy(xi_vec_valid)\n",
    "y_valid = torch.from_numpy(yi_vec_valid)\n",
    "\n",
    "# 最適化手法の指定\n",
    "import torch.optim as optim\n",
    "optimizer = optim.SGD(simple_net.parameters(), lr=0.01)\n",
    "\n",
    "\n",
    "# 学習の準備\n",
    "epoch_size = 100\n",
    "# Dataloaderを使ってtrain_x, train_yをまとめて扱う   [[x_vec, y], ...[x_vec, y]]\n",
    "dataset = torch.utils.data.TensorDataset(torch.from_numpy(xi_vec_train), torch.from_numpy(yi_vec_train))\n",
    "data_loader = torch.utils.data.DataLoader(dataset, shuffle=True)\n",
    "\n",
    "    \n",
    "# 学習\n",
    "train_loss = list()\n",
    "train_acc = list()\n",
    "valid_loss = list()\n",
    "valid_acc = list()\n",
    "\n",
    "\n",
    "for epoch in range(epoch_size):   # エポック数分ループを回す\n",
    "    running_loss = 0.0\n",
    "    \n",
    "    for input_x, label_y in data_loader:\n",
    "        # パラメータの勾配をリセット\n",
    "        optimizer.zero_grad()\n",
    "        \n",
    "        # 順伝搬\n",
    "        output = simple_net(input_x)\n",
    "        loss = criterion(output, label_y)\n",
    "        \n",
    "        # 逆伝搬\n",
    "        loss.backward()\n",
    "        \n",
    "        # パラメータ更新\n",
    "        optimizer.step()\n",
    "        \n",
    "        running_loss += loss.item()\n",
    "     \n",
    "    # 学習の記録\n",
    "    train_loss.append(running_loss/len(xi_vec_train))\n",
    "    train_acc.append(get_accuracy(simple_net, xi_vec_train, yi_vec_train))\n",
    "    \n",
    "    # valid, testの時は勾配情報(メモリめちゃ食う)はいらないので, 明示的に勾配情報を使わないことを示す(with no gradを使うべし！)\n",
    "    \n",
    "    valid_loss.append(criterion(simple_net(x_valid), y_valid).item())\n",
    "    valid_acc.append(get_accuracy(simple_net, xi_vec_valid, yi_vec_valid))"
   ]
  },
  {
   "cell_type": "code",
   "execution_count": 19,
   "metadata": {},
   "outputs": [
    {
     "name": "stdout",
     "output_type": "stream",
     "text": [
      "100 100 100 100\n"
     ]
    }
   ],
   "source": [
    "print(len(train_loss), len(train_acc), len(valid_loss), len(valid_loss))"
   ]
  },
  {
   "cell_type": "code",
   "execution_count": 20,
   "metadata": {},
   "outputs": [
    {
     "data": {
      "image/png": "[encoded data removed]",
      "text/plain": [
       "<Figure size 1152x576 with 2 Axes>"
      ]
     },
     "metadata": {
      "needs_background": "light"
     },
     "output_type": "display_data"
    }
   ],
   "source": [
    "import matplotlib.pyplot as plt\n",
    "%matplotlib inline\n",
    "\n",
    "plt.figure(figsize=(16, 8))\n",
    "\n",
    "epoch_ = range(1, 101)\n",
    "plt.subplot(1,2,1)\n",
    "plt.plot(epoch_, train_loss, label='Train Loss')\n",
    "plt.plot(epoch_, valid_loss, label='Valid Loss')\n",
    "plt.xlabel('epoch')\n",
    "plt.ylabel('Loss')\n",
    "plt.title('Loss')\n",
    "plt.legend()\n",
    "\n",
    "plt.subplot(1,2,2)\n",
    "plt.plot(epoch_, train_acc, label='Train Acc')\n",
    "plt.plot(epoch_, valid_acc, label='Valid Acc')\n",
    "plt.xlabel('epoch')\n",
    "plt.ylabel('Acc')\n",
    "plt.title('Acc')\n",
    "plt.legend()\n",
    "\n",
    "plt.tight_layout()\n",
    "plt.show();"
   ]
  },
  {
   "cell_type": "markdown",
   "metadata": {},
   "source": [
    "# 76. チェックポイント\n",
    ">問題75のコードを改変し，各エポックのパラメータ更新が完了するたびに，チェックポイント（学習途中のパラメータ（重み行列など）の値や最適化アルゴリズムの内部状態）をファイルに書き出せ  \n",
    "\n",
    "`net.state_dict(), optimizer.state_dict()`を使うと内部状態取得できる"
   ]
  },
  {
   "cell_type": "code",
   "execution_count": 21,
   "metadata": {},
   "outputs": [],
   "source": [
    "def save_checkpoint(net, optimizer, epoch):\n",
    "    # Pytorchのファイルは '.pt' か '.pth' の拡張子を使う\n",
    "    \n",
    "    file_name =  'Checkpoints/epoch_' + str(epoch) + '.pt'\n",
    "    \n",
    "    # torch.saveを使ってtorch関連の情報をsave\n",
    "    \n",
    "    torch.save({\n",
    "        'epoch': epoch,\n",
    "        'net_state': net.state_dict(),\n",
    "        'optim_state': optimizer.state_dict()\n",
    "    }, file_name)"
   ]
  },
  {
   "cell_type": "code",
   "execution_count": 22,
   "metadata": {},
   "outputs": [],
   "source": [
    "# ニューラルネットのインスタンス化\n",
    "simple_net = Net()\n",
    "\n",
    "# valid_dataの準備\n",
    "x_valid = torch.from_numpy(xi_vec_valid)\n",
    "y_valid = torch.from_numpy(yi_vec_valid)\n",
    "\n",
    "# 最適化手法の指定\n",
    "import torch.optim as optim\n",
    "optimizer = optim.SGD(simple_net.parameters(), lr=0.01)\n",
    "\n",
    "\n",
    "# 学習の準備\n",
    "epoch_size = 100\n",
    "# Dataloaderを使ってtrain_x, train_yをまとめて扱う   [[x_vec, y], ...[x_vec, y]]\n",
    "dataset = torch.utils.data.TensorDataset(torch.from_numpy(xi_vec_train), torch.from_numpy(yi_vec_train))\n",
    "data_loader = torch.utils.data.DataLoader(dataset, shuffle=True)\n",
    "\n",
    "    \n",
    "# 学習\n",
    "\n",
    "\n",
    "for epoch in range(epoch_size):   # エポック数分ループを回す\n",
    "    \n",
    "    for input_x, label_y in data_loader:\n",
    "        # パラメータの勾配をリセット\n",
    "        optimizer.zero_grad()\n",
    "        \n",
    "        # 順伝搬\n",
    "        output = simple_net(input_x)\n",
    "        loss = criterion(output, label_y)\n",
    "        \n",
    "        # 逆伝搬\n",
    "        loss.backward()\n",
    "        \n",
    "        # パラメータ更新\n",
    "        optimizer.step()\n",
    "        \n",
    "     \n",
    "    # 学習の記録\n",
    "    save_checkpoint(simple_net, optimizer, epoch)"
   ]
  },
  {
   "cell_type": "markdown",
   "metadata": {},
   "source": [
    "# 77. ミニバッチ化\n",
    ">問題76のコードを改変し，B事例ごとに損失・勾配を計算し，行列Wの値を更新せよ（ミニバッチ化）．Bの値を1,2,4,8,…と変化させながら，1エポックの学習に要する時間を比較せよ"
   ]
  },
  {
   "cell_type": "code",
   "execution_count": 23,
   "metadata": {},
   "outputs": [],
   "source": [
    "def batch_trainee(batch_size, epoch_size=100):\n",
    "    print(f'Batch size: {batch_size}, training started')\n",
    "    # ニューラルネットのインスタンス化\n",
    "    simple_net = Net()\n",
    "\n",
    "    # valid_dataの準備\n",
    "    x_valid = torch.from_numpy(xi_vec_valid)\n",
    "    y_valid = torch.from_numpy(yi_vec_valid)\n",
    "\n",
    "    # 最適化手法の指定\n",
    "    optimizer = optim.SGD(simple_net.parameters(), lr=0.01)\n",
    "\n",
    "\n",
    "    # 学習の準備\n",
    "    # Dataloaderを使ってtrain_x, train_yをまとめて扱う   [[x_vec, y], ...[x_vec, y]]\n",
    "    dataset = torch.utils.data.TensorDataset(torch.from_numpy(xi_vec_train), torch.from_numpy(yi_vec_train))\n",
    "\n",
    "    # バッチサイズの指定\n",
    "    data_loader = torch.utils.data.DataLoader(dataset, batch_size=batch_size, shuffle=True)\n",
    "\n",
    "    \n",
    "    # 学習\n",
    "\n",
    "    for epoch in range(epoch_size):   # エポック数分ループを回す\n",
    "    \n",
    "        for input_x, label_y in data_loader:\n",
    "            # パラメータの勾配をリセット\n",
    "            optimizer.zero_grad()\n",
    "        \n",
    "            # 順伝搬\n",
    "            output = simple_net(input_x)\n",
    "            loss = criterion(output, label_y)\n",
    "        \n",
    "            # 逆伝搬\n",
    "            loss.backward()\n",
    "        \n",
    "            # パラメータ更新\n",
    "            optimizer.step()"
   ]
  },
  {
   "cell_type": "code",
   "execution_count": 24,
   "metadata": {},
   "outputs": [
    {
     "name": "stdout",
     "output_type": "stream",
     "text": [
      "Batch size: 1, training started\n",
      "CPU times: user 2min 24s, sys: 324 ms, total: 2min 24s\n",
      "Wall time: 2min 24s\n"
     ]
    }
   ],
   "source": [
    "%%time\n",
    "batch_trainee(1)"
   ]
  },
  {
   "cell_type": "code",
   "execution_count": 25,
   "metadata": {},
   "outputs": [
    {
     "name": "stdout",
     "output_type": "stream",
     "text": [
      "Batch size: 2, training started\n",
      "CPU times: user 1min 17s, sys: 169 ms, total: 1min 17s\n",
      "Wall time: 1min 17s\n"
     ]
    }
   ],
   "source": [
    "%%time\n",
    "batch_trainee(2)"
   ]
  },
  {
   "cell_type": "code",
   "execution_count": 26,
   "metadata": {},
   "outputs": [
    {
     "name": "stdout",
     "output_type": "stream",
     "text": [
      "Batch size: 4, training started\n",
      "CPU times: user 42.5 s, sys: 109 ms, total: 42.6 s\n",
      "Wall time: 42.6 s\n"
     ]
    }
   ],
   "source": [
    "%%time\n",
    "batch_trainee(4)"
   ]
  },
  {
   "cell_type": "code",
   "execution_count": 27,
   "metadata": {},
   "outputs": [
    {
     "name": "stdout",
     "output_type": "stream",
     "text": [
      "Batch size: 6, training started\n",
      "CPU times: user 31.8 s, sys: 140 ms, total: 32 s\n",
      "Wall time: 32 s\n"
     ]
    }
   ],
   "source": [
    "%%time\n",
    "batch_trainee(6)"
   ]
  },
  {
   "cell_type": "code",
   "execution_count": 28,
   "metadata": {},
   "outputs": [
    {
     "name": "stdout",
     "output_type": "stream",
     "text": [
      "Batch size: 8, training started\n",
      "CPU times: user 25.9 s, sys: 69.8 ms, total: 26 s\n",
      "Wall time: 26 s\n"
     ]
    }
   ],
   "source": [
    "%%time\n",
    "batch_trainee(8)"
   ]
  },
  {
   "cell_type": "code",
   "execution_count": 29,
   "metadata": {},
   "outputs": [
    {
     "name": "stdout",
     "output_type": "stream",
     "text": [
      "Batch size: 10, training started\n",
      "CPU times: user 22.3 s, sys: 48 ms, total: 22.3 s\n",
      "Wall time: 22.3 s\n"
     ]
    }
   ],
   "source": [
    "%%time\n",
    "batch_trainee(10)"
   ]
  },
  {
   "cell_type": "markdown",
   "metadata": {},
   "source": [
    "# 78. GPU上での学習\n",
    ">問題77のコードを改変し，GPU上で学習を実行せよ"
   ]
  },
  {
   "cell_type": "markdown",
   "metadata": {},
   "source": [
    "### GPUを使う場合に必要なこと\n",
    "GPUを使う場合は, 明示的にGPUに色々渡してあげる必要がある.\n",
    "GPUに渡すには`.to`メソッドを使う.  \n",
    "渡すものは2つで,  \n",
    "1. ネットワーク. `net = net().to(device)`\n",
    "2. データ. `data.to(device)`  \n",
    "deviceも指定する必要があるので,`device = torch.device(\"cudahoge\" if torch.cuda.is_available() else 'cpu'`などとする  \n",
    "\n",
    "研究室のサーバを使うための諸々の設定 ->  \n",
    "https://scrapbox.io/tohoku-nlp/GPU%E5%88%9D%E6%9C%9F%E8%A8%AD%E5%AE%9ALogs  \n",
    "(from Rinさん)"
   ]
  },
  {
   "cell_type": "code",
   "execution_count": 30,
   "metadata": {},
   "outputs": [],
   "source": [
    "import time\n",
    "def batch_trainee_gpu(batch_size, epoch_size=100):\n",
    "    \n",
    "    device = torch.device('cuda:0' if torch.cuda.is_available() else 'cpu')\n",
    "    \n",
    "    simple_net = Net().to(device)\n",
    "\n",
    "    # 最適化手法の指定\n",
    "    creterion = torch.nn.CrossEntropyLoss()\n",
    "    optimizer = optim.SGD(simple_net.parameters(), lr=0.01)\n",
    "\n",
    "\n",
    "    # 学習の準備\n",
    "    # trainのデータをdeviceに渡す\n",
    "    x_train = torch.from_numpy(xi_vec_train).to(device)\n",
    "    y_train = torch.from_numpy(yi_vec_train).to(device)\n",
    "    \n",
    "    dataset = torch.utils.data.TensorDataset(x_train, y_train)\n",
    "\n",
    "    # バッチサイズの指定\n",
    "    data_loader = torch.utils.data.DataLoader(dataset, batch_size=batch_size, shuffle=True)\n",
    "\n",
    "    \n",
    "    # 学習\n",
    "    \n",
    "    start_time = time.time()\n",
    "\n",
    "    for epoch in range(epoch_size):   # エポック数分ループを回す\n",
    "    \n",
    "        for input_x, label_y in data_loader:\n",
    "            # パラメータの勾配をリセット\n",
    "            optimizer.zero_grad()\n",
    "        \n",
    "            # 順伝搬\n",
    "            output = simple_net(input_x)\n",
    "            loss = criterion(output, label_y)\n",
    "        \n",
    "            # 逆伝搬\n",
    "            loss.backward()\n",
    "        \n",
    "            # パラメータ更新\n",
    "            optimizer.step()\n",
    "            \n",
    "    time.sleep(0.01)\n",
    "    run_time = time.time() - start_time\n",
    "    print(f'Use device: {device}')\n",
    "    print(f'Run Time  : {run_time}')\n",
    "    print(f'Train: {get_accuracy(simple_net, xi_vec_train, yi_vec_train)}')\n",
    "    print(f'Valid: {get_accuracy(simple_net, xi_vec_valid, yi_vec_valid)}')\n",
    "    print(f'Test : {get_accuracy(simple_net, xi_vec_test, yi_vec_test)}')"
   ]
  },
  {
   "cell_type": "code",
   "execution_count": 31,
   "metadata": {},
   "outputs": [
    {
     "name": "stdout",
     "output_type": "stream",
     "text": [
      "Use device: cpu\n",
      "Run Time  : 9.307557106018066\n",
      "Train: 0.818386280573517\n",
      "Valid: 0.8185907046476761\n",
      "Test : 0.823088455772114\n"
     ]
    }
   ],
   "source": [
    "batch_trainee_gpu(100)"
   ]
  },
  {
   "cell_type": "markdown",
   "metadata": {},
   "source": [
    "# 79. 多層ニューラルネットワーク\n",
    ">問題78のコードを改変し，バイアス項の導入や多層化など，ニューラルネットワークの形状を変更しながら，高性能なカテゴリ分類器を構築せよ"
   ]
  },
  {
   "cell_type": "code",
   "execution_count": 32,
   "metadata": {},
   "outputs": [],
   "source": [
    "INPUT_FEATURES=300   # 入力\n",
    "HIDDEN_LAYER1 = 200 # 隠れ層1\n",
    "HIDDEN_LAYER2 = 100 # 隠れ層2\n",
    "OUTPUT_FEATURES=4   # 出力\n",
    "\n",
    "class MLNet(nn.Module):\n",
    "    def __init__(self):\n",
    "        super(MLNet, self).__init__()\n",
    "        self.fc1 = nn.Linear(INPUT_FEATURES, HIDDEN_LAYER1, bias=True)\n",
    "        self.fc2 = nn.Linear(HIDDEN_LAYER1, HIDDEN_LAYER2, bias=True)\n",
    "        self.fc3 = nn.Linear(HIDDEN_LAYER2, OUTPUT_FEATURES, bias=True)\n",
    "    \n",
    "    def forward(self, x):\n",
    "        x = self.fc1(x)\n",
    "        x = self.fc2(x)\n",
    "        x = self.fc3(x)\n",
    "        return x"
   ]
  },
  {
   "cell_type": "code",
   "execution_count": 33,
   "metadata": {},
   "outputs": [],
   "source": [
    "def batch_trainee_gpu_ml(batch_size, epoch_size=100):\n",
    "    \n",
    "    device = torch.device('cuda:0' if torch.cuda.is_available() else 'cpu')\n",
    "    \n",
    "    net = MLNet().to(device)\n",
    "\n",
    "    # 最適化手法の指定\n",
    "    creterion = torch.nn.CrossEntropyLoss()\n",
    "    optimizer = optim.SGD(net.parameters(), lr=0.01)\n",
    "\n",
    "\n",
    "    # 学習の準備\n",
    "    # trainのデータをdeviceに渡す\n",
    "    x_train = torch.from_numpy(xi_vec_train).to(device)\n",
    "    y_train = torch.from_numpy(yi_vec_train).to(device)\n",
    "    \n",
    "    dataset = torch.utils.data.TensorDataset(x_train, y_train)\n",
    "\n",
    "    # バッチサイズの指定\n",
    "    data_loader = torch.utils.data.DataLoader(dataset, batch_size=batch_size, shuffle=True)\n",
    "\n",
    "    \n",
    "    # 学習\n",
    "    \n",
    "    start_time = time.time()\n",
    "\n",
    "    for epoch in range(epoch_size):   # エポック数分ループを回す\n",
    "    \n",
    "        for input_x, label_y in data_loader:\n",
    "            # パラメータの勾配をリセット\n",
    "            optimizer.zero_grad()\n",
    "        \n",
    "            # 順伝搬\n",
    "            output = net(input_x)\n",
    "            loss = criterion(output, label_y)\n",
    "        \n",
    "            # 逆伝搬\n",
    "            loss.backward()\n",
    "        \n",
    "            # パラメータ更新\n",
    "            optimizer.step()\n",
    "            \n",
    "    time.sleep(0.01)\n",
    "    run_time = time.time() - start_time\n",
    "    print(f'Use device: {device}')\n",
    "    print(f'Run Time  : {run_time}')\n",
    "    print(f'Train: {get_accuracy(net, xi_vec_train, yi_vec_train)}')\n",
    "    print(f'Valid: {get_accuracy(net, xi_vec_valid, yi_vec_valid)}')\n",
    "    print(f'Test : {get_accuracy(net, xi_vec_test, yi_vec_test)}')"
   ]
  },
  {
   "cell_type": "code",
   "execution_count": 34,
   "metadata": {},
   "outputs": [
    {
     "name": "stdout",
     "output_type": "stream",
     "text": [
      "Use device: cpu\n",
      "Run Time  : 23.136634826660156\n",
      "Train: 0.887358260706588\n",
      "Valid: 0.8958020989505248\n",
      "Test : 0.8905547226386806\n"
     ]
    }
   ],
   "source": [
    "batch_trainee_gpu_ml(100)"
   ]
  },
  {
   "cell_type": "code",
   "execution_count": 35,
   "metadata": {},
   "outputs": [
    {
     "name": "stdout",
     "output_type": "stream",
     "text": [
      "Use device: cpu\n",
      "Run Time  : 75.44950604438782\n",
      "Train: 0.8886702277199887\n",
      "Valid: 0.876311844077961\n",
      "Test : 0.8673163418290855\n"
     ]
    }
   ],
   "source": [
    "batch_trainee_gpu_ml(10)"
   ]
  },
  {
   "cell_type": "code",
   "execution_count": 36,
   "metadata": {},
   "outputs": [
    {
     "name": "stdout",
     "output_type": "stream",
     "text": [
      "Use device: cpu\n",
      "Run Time  : 754.4713551998138\n",
      "Train: 0.8960734701527504\n",
      "Valid: 0.8875562218890555\n",
      "Test : 0.881559220389805\n"
     ]
    }
   ],
   "source": [
    "batch_trainee_gpu_ml(1)"
   ]
  },
  {
   "cell_type": "code",
   "execution_count": null,
   "metadata": {},
   "outputs": [],
   "source": []
  }
 ],
 "metadata": {
  "kernelspec": {
   "display_name": "Python 3",
   "language": "python",
   "name": "python3"
  },
  "language_info": {
   "codemirror_mode": {
    "name": "ipython",
    "version": 3
   },
   "file_extension": ".py",
   "mimetype": "text/x-python",
   "name": "python",
   "nbconvert_exporter": "python",
   "pygments_lexer": "ipython3",
   "version": "3.8.3"
  }
 },
 "nbformat": 4,
 "nbformat_minor": 4
}
