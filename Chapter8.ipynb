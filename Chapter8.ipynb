{
 "cells": [
  {
   "cell_type": "markdown",
   "metadata": {},
   "source": [
    "# 第8章: ニューラルネット\n",
    ">第6章で取り組んだニュース記事のカテゴリ分類を題材として，ニューラルネットワークでカテゴリ分類モデルを実装する．なお，この章ではPyTorch, TensorFlow, Chainerなどの機械学習プラットフォームを活用せよ"
   ]
  },
  {
   "cell_type": "markdown",
   "metadata": {},
   "source": [
    "## 70. 単語ベクトルの和による特徴量\n",
    ">問題50で構築した学習データ，検証データ，評価データを行列・ベクトルに変換したい．例えば，学習データについて，すべての事例xiの特徴ベクトルxiを並べた行列Xと，正解ラベルを並べた行列（ベクトル）Yを作成したい  \n",
    "\n",
    ">xiは問題60でダウンロードしたやつでおけ.  \n",
    "今回は「ビジネス」「科学技術」「エンタメ」「健康」の4カテゴリ分類になるので, 0=<yi=<3となる."
   ]
  },
  {
   "cell_type": "code",
   "execution_count": 7,
   "metadata": {},
   "outputs": [
    {
     "output_type": "stream",
     "name": "stdout",
     "text": [
      "\tTITLE\tCATEGORY\n0\tRPT-Fitch Updates EMEA Consumer ABS Rating Criteria & Auto Residual Value  ...\tb\n1\tGurlitt Wants to Return Nazi-Looted Art, Sueddeutsche Reports\te\n"
     ]
    }
   ],
   "source": [
    "# 問題50で構築したデータを確認\n",
    "!head -3 train.txt"
   ]
  },
  {
   "cell_type": "code",
   "execution_count": 8,
   "metadata": {},
   "outputs": [
    {
     "output_type": "stream",
     "name": "stdout",
     "text": [
      "cuda:0\n"
     ]
    }
   ],
   "source": [
    "import torch\n",
    "device = torch.device('cuda:0' if torch.cuda.is_available() else 'cpu')\n",
    "print(device)"
   ]
  },
  {
   "cell_type": "code",
   "execution_count": 9,
   "metadata": {},
   "outputs": [],
   "source": [
    "# xiを準備\n",
    "import gensim\n",
    "# KeyedVecotrsで辞書形式でベクトルを格納, load_word2vec_formatでword2vecのフォーマットでデータを読み込み. バイナリファイルなのでbinary=True\n",
    "model = gensim.models.KeyedVectors.load_word2vec_format('../work/GoogleNews-vectors-negative300.bin', binary=True)"
   ]
  },
  {
   "cell_type": "code",
   "execution_count": 10,
   "metadata": {},
   "outputs": [
    {
     "output_type": "execute_result",
     "data": {
      "text/plain": [
       "                                               TITLE CATEGORY\n",
       "0  RPT-Fitch Updates EMEA Consumer ABS Rating Cri...        b\n",
       "1  Gurlitt Wants to Return Nazi-Looted Art, Suedd...        e\n",
       "2  UPDATE 1-Fairfax Financial, CEO probed over po...        b\n",
       "3  Angelina Jolie - Angelina Jolie Will Not Tight...        e\n",
       "4  Patent Officials Cancel the Washington Redskin...        b"
      ],
      "text/html": "<div>\n<style scoped>\n    .dataframe tbody tr th:only-of-type {\n        vertical-align: middle;\n    }\n\n    .dataframe tbody tr th {\n        vertical-align: top;\n    }\n\n    .dataframe thead th {\n        text-align: right;\n    }\n</style>\n<table border=\"1\" class=\"dataframe\">\n  <thead>\n    <tr style=\"text-align: right;\">\n      <th></th>\n      <th>TITLE</th>\n      <th>CATEGORY</th>\n    </tr>\n  </thead>\n  <tbody>\n    <tr>\n      <th>0</th>\n      <td>RPT-Fitch Updates EMEA Consumer ABS Rating Cri...</td>\n      <td>b</td>\n    </tr>\n    <tr>\n      <th>1</th>\n      <td>Gurlitt Wants to Return Nazi-Looted Art, Suedd...</td>\n      <td>e</td>\n    </tr>\n    <tr>\n      <th>2</th>\n      <td>UPDATE 1-Fairfax Financial, CEO probed over po...</td>\n      <td>b</td>\n    </tr>\n    <tr>\n      <th>3</th>\n      <td>Angelina Jolie - Angelina Jolie Will Not Tight...</td>\n      <td>e</td>\n    </tr>\n    <tr>\n      <th>4</th>\n      <td>Patent Officials Cancel the Washington Redskin...</td>\n      <td>b</td>\n    </tr>\n  </tbody>\n</table>\n</div>"
     },
     "metadata": {},
     "execution_count": 10
    }
   ],
   "source": [
    "import pandas as pd\n",
    "import numpy as np\n",
    "df_train = pd.read_table('train.txt', sep='\\t')[['TITLE', 'CATEGORY']]\n",
    "df_valid = pd.read_table('valid.txt', sep='\\t')[['TITLE', 'CATEGORY']]\n",
    "df_test = pd.read_table('test.txt', sep='\\t')[['TITLE', 'CATEGORY']]\n",
    "df_train.head()"
   ]
  },
  {
   "cell_type": "code",
   "execution_count": 11,
   "metadata": {},
   "outputs": [
    {
     "output_type": "stream",
     "name": "stderr",
     "text": [
      "[nltk_data] Downloading package stopwords to\n",
      "[nltk_data]     /home/nagasawa_h/nltk_data...\n",
      "[nltk_data]   Package stopwords is already up-to-date!\n",
      "[nltk_data] Downloading package punkt to /home/nagasawa_h/nltk_data...\n",
      "[nltk_data]   Unzipping tokenizers/punkt.zip.\n"
     ]
    }
   ],
   "source": [
    "import nltk\n",
    "import re\n",
    "\n",
    "nltk.download('stopwords')\n",
    "nltk.download('punkt')\n",
    "stop_words = nltk.corpus.stopwords.words('english')   # ストップワードリスト取得\n",
    "model_words = model.vocab.keys()   #  word2vecにある単語リスト取得\n",
    "\n",
    "def title_to_vec(row):\n",
    "    \"\"\"\n",
    "    DataFrameの列を入力として, DataFrameに関数を適用する.\n",
    "    ここではDataFrameのTITLEカラムを入力として, それを単語ベクトル化したものを返す.\n",
    "    \"\"\"\n",
    "    # タイトル文の前処理\n",
    "    title = re.sub(r'[,.:!\\?]', '', row.TITLE)   # カンマとかピリオドとか省く\n",
    "    tokenized_words = nltk.tokenize.word_tokenize(title)    # トークン化    \n",
    "    \n",
    "    # ストップワードと, ダウンロードした単語ベクトルにない単語は除外. model[word]は300次元ベクトル\n",
    "    title_vecs = [model[word.lower()] for word in tokenized_words if word.lower() in model_words and word.lower() not in stop_words]\n",
    "    \n",
    "    if len(title_vecs) == 0:\n",
    "        return np.nan\n",
    "    return sum(title_vecs)/len(title_vecs)\n",
    "\n",
    "\n",
    "\n",
    "def category_to_vec(row):\n",
    "    \"\"\"\n",
    "    CATEGORYを対応する数字へと変換\n",
    "    \"\"\"\n",
    "    category2num = {'b':0, 't':1, 'e':2, 'm':3}\n",
    "    return category2num[row.CATEGORY]"
   ]
  },
  {
   "cell_type": "code",
   "execution_count": 12,
   "metadata": {},
   "outputs": [
    {
     "output_type": "execute_result",
     "data": {
      "text/plain": [
       "                                               TITLE CATEGORY  \\\n",
       "0  RPT-Fitch Updates EMEA Consumer ABS Rating Cri...        b   \n",
       "1  Gurlitt Wants to Return Nazi-Looted Art, Suedd...        e   \n",
       "2  UPDATE 1-Fairfax Financial, CEO probed over po...        b   \n",
       "3  Angelina Jolie - Angelina Jolie Will Not Tight...        e   \n",
       "4  Patent Officials Cancel the Washington Redskin...        b   \n",
       "\n",
       "                                              xi_vec  yi_vec  \n",
       "0  [0.01720581, 0.032263182, 0.021276856, 0.14004...       0  \n",
       "1  [0.05343628, 0.06964111, -0.05696869, 0.008666...       2  \n",
       "2  [-0.079241075, -0.017857144, -0.07739258, -0.1...       0  \n",
       "3  [-0.08021715, 0.031304255, -0.02086046, 0.1278...       2  \n",
       "4  [-0.072021484, 0.06953939, 0.20385742, 0.23103...       0  "
      ],
      "text/html": "<div>\n<style scoped>\n    .dataframe tbody tr th:only-of-type {\n        vertical-align: middle;\n    }\n\n    .dataframe tbody tr th {\n        vertical-align: top;\n    }\n\n    .dataframe thead th {\n        text-align: right;\n    }\n</style>\n<table border=\"1\" class=\"dataframe\">\n  <thead>\n    <tr style=\"text-align: right;\">\n      <th></th>\n      <th>TITLE</th>\n      <th>CATEGORY</th>\n      <th>xi_vec</th>\n      <th>yi_vec</th>\n    </tr>\n  </thead>\n  <tbody>\n    <tr>\n      <th>0</th>\n      <td>RPT-Fitch Updates EMEA Consumer ABS Rating Cri...</td>\n      <td>b</td>\n      <td>[0.01720581, 0.032263182, 0.021276856, 0.14004...</td>\n      <td>0</td>\n    </tr>\n    <tr>\n      <th>1</th>\n      <td>Gurlitt Wants to Return Nazi-Looted Art, Suedd...</td>\n      <td>e</td>\n      <td>[0.05343628, 0.06964111, -0.05696869, 0.008666...</td>\n      <td>2</td>\n    </tr>\n    <tr>\n      <th>2</th>\n      <td>UPDATE 1-Fairfax Financial, CEO probed over po...</td>\n      <td>b</td>\n      <td>[-0.079241075, -0.017857144, -0.07739258, -0.1...</td>\n      <td>0</td>\n    </tr>\n    <tr>\n      <th>3</th>\n      <td>Angelina Jolie - Angelina Jolie Will Not Tight...</td>\n      <td>e</td>\n      <td>[-0.08021715, 0.031304255, -0.02086046, 0.1278...</td>\n      <td>2</td>\n    </tr>\n    <tr>\n      <th>4</th>\n      <td>Patent Officials Cancel the Washington Redskin...</td>\n      <td>b</td>\n      <td>[-0.072021484, 0.06953939, 0.20385742, 0.23103...</td>\n      <td>0</td>\n    </tr>\n  </tbody>\n</table>\n</div>"
     },
     "metadata": {},
     "execution_count": 12
    }
   ],
   "source": [
    "df_train['xi_vec'] = df_train.apply(title_to_vec, axis=1)\n",
    "df_train['yi_vec'] = df_train.apply(category_to_vec, axis=1)\n",
    "\n",
    "# ベクトル化できなかったTITLEの列は削除\n",
    "df_train = df_train.dropna()\n",
    "\n",
    "# 出力例確認\n",
    "df_train.head()"
   ]
  },
  {
   "cell_type": "code",
   "execution_count": 13,
   "metadata": {},
   "outputs": [],
   "source": [
    "# test, validDataFrameにも適用\n",
    "df_test['xi_vec'], df_test['yi_vec'] = df_test.apply(title_to_vec, axis=1), df_test.apply(category_to_vec, axis=1)\n",
    "df_valid['xi_vec'], df_valid['yi_vec'] = df_valid.apply(title_to_vec, axis=1), df_valid.apply(category_to_vec, axis=1)\n",
    "df_test, df_valid = df_test.dropna(), df_valid.dropna()\n",
    "\n",
    "\n",
    "\n",
    "# ファイルへの書き出し\n",
    "df_train.to_csv('vectorized_train.csv')\n",
    "df_valid.to_csv('vectorized_valid.csv')\n",
    "df_test.to_csv('vectorized_test.csv')"
   ]
  },
  {
   "cell_type": "markdown",
   "metadata": {},
   "source": [
    "## 71. 単層ニューラルネットワークによる予測\n",
    ">問題70で保存した行列を読み込み，学習データについて以下の計算を実行せよ.  \n",
    "ŷ 1=softmax(x_1W),Ŷ =softmax(X_[1:4]W)"
   ]
  },
  {
   "cell_type": "markdown",
   "metadata": {},
   "source": [
    "**自分で実装**"
   ]
  },
  {
   "cell_type": "code",
   "execution_count": 14,
   "metadata": {},
   "outputs": [],
   "source": [
    "def softmax(x):\n",
    "    \"\"\"\n",
    "    ソフトマックス関数.ベクトルを受け取り, ベクトルを返す.\n",
    "    入力が負の値の時でも0~1に変換できるように, expとる.(しかも微分もしやすい→逆伝播)\n",
    "    オーバーフローしないように最大値を各要素から引いておく\n",
    "    \"\"\"\n",
    "    x -= np.max(x)\n",
    "    return np.exp(x) / np.sum(np.exp(x))\n",
    "\n",
    "class SingleLayerNet:\n",
    "    \n",
    "    def __init__(self, input_size=300, output_size=4):\n",
    "        # 重みの初期化\n",
    "        np.random.seed(42)\n",
    "        self.W = np.random.randn(input_size, output_size)   # 正規分布の乱数生成\n",
    "        \n",
    "    def predict_y(self, X):   # indexは引数指定できるようにしておくと綺麗 or 入力前に入力値の形を整えておくと良い\n",
    "        self.x = X[0]\n",
    "        return softmax(np.dot(self.x, self.W))\n",
    "    \n",
    "    def predict_Y(self, X):\n",
    "        self.X = X[:4]\n",
    "            \n",
    "        return [softmax(np.dot(X, self.W)) for X in self.X]"
   ]
  },
  {
   "cell_type": "code",
   "execution_count": 15,
   "metadata": {},
   "outputs": [
    {
     "output_type": "stream",
     "name": "stdout",
     "text": [
      "[0.01832187 0.0956596  0.86424158 0.02177695]\n[array([0.01832187, 0.0956596 , 0.86424158, 0.02177695]),\n array([0.03111409, 0.00743297, 0.95459776, 0.00685517]),\n array([0.01049771, 0.02036487, 0.96048677, 0.00865065]),\n array([0.62431351, 0.0595027 , 0.17839147, 0.13779231])]\n"
     ]
    }
   ],
   "source": [
    "from pprint import pprint\n",
    "# xi, yiベクトルの取り出し\n",
    "\n",
    "xi_vec_train = np.array(df_train.xi_vec.tolist())   # 1回Seriesをリストに変換してから, ndarrayにしないと次元が保持されない((4, )->(4, 300)という感じに変換している)\n",
    "yi_vec_train = np.array(df_train.yi_vec.tolist())\n",
    "\n",
    "SN = SingleLayerNet()\n",
    "predict_yi = SN.predict_y(xi_vec_train)\n",
    "predict_Y = SN.predict_Y(xi_vec_train)\n",
    "print(predict_yi)\n",
    "pprint(predict_Y)"
   ]
  },
  {
   "cell_type": "code",
   "execution_count": 16,
   "metadata": {},
   "outputs": [
    {
     "output_type": "stream",
     "name": "stdout",
     "text": [
      "0        [0.01720581, 0.032263182, 0.021276856, 0.14004...\n1        [0.05343628, 0.06964111, -0.05696869, 0.008666...\n2        [-0.079241075, -0.017857144, -0.07739258, -0.1...\n3        [-0.08021715, 0.031304255, -0.02086046, 0.1278...\n4        [-0.072021484, 0.06953939, 0.20385742, 0.23103...\n                               ...                        \n10667    [-0.097324915, 0.042776924, -0.06622096, 0.069...\n10668    [-0.026938302, -0.028651645, -0.0661493, 0.020...\n10669    [-0.052730016, 0.14003208, -0.019799368, 0.115...\n10670    [-0.0050223214, 0.042027064, 0.041028704, 0.09...\n10671    [-0.027701242, 0.088309154, -0.032854352, 0.07...\nName: xi_vec, Length: 10671, dtype: object\n"
     ]
    }
   ],
   "source": [
    "print(df_train.xi_vec)"
   ]
  },
  {
   "cell_type": "markdown",
   "metadata": {},
   "source": [
    "**Pytorch使って実装**"
   ]
  },
  {
   "cell_type": "code",
   "execution_count": 17,
   "metadata": {},
   "outputs": [
    {
     "output_type": "execute_result",
     "data": {
      "text/plain": [
       "NeuralNetwork_with_Softmax(\n",
       "  (layer1): Linear(in_features=300, out_features=4, bias=False)\n",
       ")"
      ]
     },
     "metadata": {},
     "execution_count": 17
    }
   ],
   "source": [
    "import torch\n",
    "import torch.nn as nn\n",
    "import torch.nn.functional as F\n",
    "\n",
    "# モデル定義時に必要となるものを準備\n",
    "INPUT_FEATURES=300   # 入力\n",
    "OUTPUT_FEATURES=4   # 出力\n",
    "activation = F.softmax\n",
    "\n",
    "# torch.nn.Moduleクラスのサブクラス化によるモデル定義\n",
    "class NeuralNetwork_with_Softmax(nn.Module):\n",
    "    def __init__(self):\n",
    "        super(NeuralNetwork_with_Softmax, self).__init__()\n",
    "        self.layer1=nn.Linear(INPUT_FEATURES, OUTPUT_FEATURES, bias=False)   # bias=Falseとすると, バイアス項の加算なし.\n",
    "        self.activation = F.softmax   # この辺もクラスの内部で定義した方が良い\n",
    "        \n",
    "    def forward(self, input_data):\n",
    "        output = self.activation(self.layer1(input_data), dim=-1)   # dim: softmaxを適用する次元を指定.通常考えるのはテンソルなので指定する必要がある.\n",
    "        return output\n",
    "    \n",
    "# モデルのインスタンス化\n",
    "net = NeuralNetwork_with_Softmax()\n",
    "net"
   ]
  },
  {
   "cell_type": "markdown",
   "metadata": {},
   "source": [
    "-memo  \n",
    "Softmaxのdimについて  \n",
    "通常考えるのはテンソル.dimの値によってテンソルのどの次元に対してソフトマックスを適用するかが決まる(1階方向?2階方向?みたいな)\n",
    "ただし, 今回与えてるのはベクトルなので, 1階のテンソルとなる.ベクトルの各値に対してソフトマックスを適用することになるので, dim=-1として指定する."
   ]
  },
  {
   "cell_type": "code",
   "execution_count": 18,
   "metadata": {},
   "outputs": [
    {
     "output_type": "stream",
     "name": "stdout",
     "text": [
      "tensor([0.2573, 0.2482, 0.2467, 0.2478], grad_fn=<SoftmaxBackward>)\ntensor([[0.2573, 0.2482, 0.2467, 0.2478],\n        [0.2521, 0.2499, 0.2575, 0.2405],\n        [0.2409, 0.2511, 0.2684, 0.2396],\n        [0.2547, 0.2327, 0.2629, 0.2496]], grad_fn=<SoftmaxBackward>)\n"
     ]
    }
   ],
   "source": [
    "torch_y1 = net(torch.from_numpy(xi_vec_train[0]))\n",
    "torch_Y = net(torch.from_numpy(xi_vec_train[:4]))\n",
    "print(torch_y1)\n",
    "print(torch_Y)"
   ]
  },
  {
   "cell_type": "markdown",
   "metadata": {},
   "source": [
    "## 72. 損失と勾配の計算\n",
    ">学習データの事例x1と事例集合x1,x2,x3,x4に対して，クロスエントロピー損失と，行列Wに対する勾配を計算せよ．  \n",
    "なお，ある事例xiに対して損失は次式で計算される．  \n",
    "li=−log[事例xiがyiに分類される確率]  \n",
    "ただし，事例集合に対するクロスエントロピー損失は，その集合に含まれる各事例の損失の平均とする"
   ]
  },
  {
   "cell_type": "markdown",
   "metadata": {},
   "source": [
    "シンプルにzを計算するだけのモデルNetを定義  \n",
    "$$\n",
    "z = \\sum_{i=1}^{n}w_i・x_i + b\n",
    "$$  \n",
    "ただし今回はバイアスbなし"
   ]
  },
  {
   "cell_type": "code",
   "execution_count": 19,
   "metadata": {},
   "outputs": [],
   "source": [
    "INPUT_FEATURES=300   # 入力\n",
    "OUTPUT_FEATURES=4   # 出力\n",
    "class Net(nn.Module):\n",
    "    def __init__(self):\n",
    "        super(Net, self).__init__()\n",
    "        self.fc1 = nn.Linear(INPUT_FEATURES, OUTPUT_FEATURES, bias=False)\n",
    "    \n",
    "    def forward(self, x):\n",
    "        x = self.fc1(x)\n",
    "        return x"
   ]
  },
  {
   "cell_type": "code",
   "execution_count": 20,
   "metadata": {},
   "outputs": [
    {
     "output_type": "stream",
     "name": "stdout",
     "text": [
      "estimated_y1 = tensor([[ 0.0563,  0.0079,  0.0328, -0.0459]], grad_fn=<MmBackward>)\ntrue y1 = tensor([0])\n\nCross Entropy Loss = 1.3435112237930298\n勾配 = tensor([[-0.0127, -0.0238, -0.0157,  ..., -0.0384,  0.0104,  0.0690],\n        [ 0.0043,  0.0080,  0.0053,  ...,  0.0129, -0.0035, -0.0232],\n        [ 0.0044,  0.0082,  0.0054,  ...,  0.0132, -0.0036, -0.0238],\n        [ 0.0041,  0.0076,  0.0050,  ...,  0.0122, -0.0033, -0.0220]])\n"
     ]
    }
   ],
   "source": [
    "# ニューラルネットのインスタンス化, 計算\n",
    "simple_net = Net()\n",
    "\n",
    "x1 = torch.from_numpy(xi_vec_train[:1])\n",
    "y1 = torch.from_numpy(yi_vec_train)[:1]    # list[0] -> 1番目の要素,    list[:1] -> 1番目の要素だけを取り出したリスト\n",
    "estimated_y1 = simple_net(x1)\n",
    "print(f'estimated_y1 = {estimated_y1}')\n",
    "print(f'true y1 = {y1}', end='\\n\\n')\n",
    "\n",
    "# 損失関数(クロスエントロピー誤差関数)の定義, 計算\n",
    "criterion = nn.CrossEntropyLoss()   # Softmaxが内部で動いているので, モデルないでやっちゃうと2重になる...\n",
    "loss = criterion(estimated_y1, y1)\n",
    "loss.backward()\n",
    "\n",
    "# 結果の出力\n",
    "print(f'Cross Entropy Loss = {loss}')\n",
    "print(f'勾配 = {simple_net.fc1.weight.grad}')"
   ]
  },
  {
   "cell_type": "code",
   "execution_count": 21,
   "metadata": {},
   "outputs": [
    {
     "output_type": "stream",
     "name": "stdout",
     "text": [
      "estimated_Y1 = tensor([[ 0.0563,  0.0079,  0.0328, -0.0459],\n        [ 0.0653,  0.0253,  0.0811,  0.0361],\n        [-0.0218, -0.0047, -0.0367, -0.0390],\n        [-0.0534,  0.0059,  0.0330, -0.0313]], grad_fn=<MmBackward>)\ntrue Y1 = tensor([0, 2, 0, 2])\n\nCross Entropy Loss = 1.3564918041229248\n勾配 = tensor([[-0.0025, -0.0202, -0.0100,  ..., -0.0789,  0.0045,  0.0971],\n        [-0.0016,  0.0151, -0.0031,  ...,  0.0101, -0.0076, -0.0341],\n        [ 0.0055, -0.0095,  0.0164,  ...,  0.0597,  0.0101, -0.0303],\n        [-0.0014,  0.0146, -0.0033,  ...,  0.0091, -0.0070, -0.0327]])\n"
     ]
    }
   ],
   "source": [
    "# 上と同じ処理をX[1:4]でも行う\n",
    "X1 = torch.from_numpy(xi_vec_train[:4])\n",
    "Y1 = torch.from_numpy(yi_vec_train)[:4]\n",
    "estimated_Y1 = simple_net(X1)\n",
    "print(f'estimated_Y1 = {estimated_Y1}')\n",
    "print(f'true Y1 = {Y1}', end='\\n\\n')\n",
    "\n",
    "loss = criterion(estimated_Y1, Y1)\n",
    "loss.backward()\n",
    "\n",
    "print(f'Cross Entropy Loss = {loss}')\n",
    "print(f'勾配 = {simple_net.fc1.weight.grad}')"
   ]
  },
  {
   "cell_type": "markdown",
   "metadata": {},
   "source": [
    "## 73. 確率的勾配効果法による学習\n",
    ">確率的勾配降下法（SGD: Stochastic Gradient Descent）を用いて，行列W\n",
    "を学習せよ．なお，学習は適当な基準で終了させればよい（例えば「100エポックで終了」など）"
   ]
  },
  {
   "cell_type": "code",
   "execution_count": 22,
   "metadata": {},
   "outputs": [],
   "source": [
    "# 最適化手法の指定\n",
    "import torch.optim as optim\n",
    "optimizer = optim.SGD(simple_net.parameters(), lr=0.01)\n",
    "\n",
    "\n",
    "# 学習の準備\n",
    "epoch_size = 100    # epoch_numとかの方がよく使われてそう... ここでのsizeは違和感...?\n",
    "\n",
    "# Dataloaderを使ってtrain_x, train_yをまとめて扱う   [[x_vec, y], ...[x_vec, y]]\n",
    "dataset = torch.utils.data.TensorDataset(torch.from_numpy(xi_vec_train), torch.from_numpy(yi_vec_train))\n",
    "data_loader = torch.utils.data.DataLoader(dataset, shuffle=True)\n",
    "\n",
    "    \n",
    "# 学習\n",
    "train_loss = list()\n",
    "for epoch in range(epoch_size):   # エポック数分ループを回す\n",
    "    running_loss = 0.0\n",
    "    \n",
    "    for input_x, label_y in data_loader:\n",
    "        # パラメータの勾配をリセット\n",
    "        optimizer.zero_grad()\n",
    "        \n",
    "        # 順伝搬\n",
    "        output = simple_net(input_x)\n",
    "        loss = criterion(output, label_y)\n",
    "        \n",
    "        # 逆伝搬\n",
    "        loss.backward()\n",
    "        \n",
    "        # パラメータ更新\n",
    "        optimizer.step()\n",
    "        \n",
    "        running_loss += loss.item()\n",
    "        \n",
    "    train_loss.append(running_loss/len(xi_vec_train))"
   ]
  },
  {
   "cell_type": "markdown",
   "metadata": {},
   "source": [
    "### Dataloaderについて\n",
    "datasetsからバッチごとに取り出すことを目的に使われる.  \n",
    "基本的には`torch.utils.data.DataLoader`を使う.  \n",
    "以下イメージ.  \n",
    "`dataset = [データ全て]`  \n",
    "`DataLoader = [[batch1], [batch2], ...[batch_n]]`"
   ]
  },
  {
   "cell_type": "markdown",
   "metadata": {},
   "source": [
    "# 74. 正解率の計測\n",
    ">問題73で求めた行列を用いて学習データおよび評価データの事例を分類したとき，その正解率をそれぞれ求めよ"
   ]
  },
  {
   "cell_type": "code",
   "execution_count": 23,
   "metadata": {},
   "outputs": [],
   "source": [
    "from sklearn.metrics import accuracy_score\n",
    "\n",
    "def get_accuracy(x, y):\n",
    "    return accuracy_score(torch.argmax(net(torch.from_numpy(x)), dim=-1), y)"
   ]
  },
  {
   "cell_type": "code",
   "execution_count": 24,
   "metadata": {},
   "outputs": [
    {
     "output_type": "stream",
     "name": "stdout",
     "text": [
      "Train: 0.2547090244588136\nValid: 0.24437781109445278\nTest : 0.2413793103448276\n"
     ]
    }
   ],
   "source": [
    "# testデータとvalidデータの準備\n",
    "xi_vec_test = np.array(df_test.xi_vec.tolist())\n",
    "yi_vec_test = np.array(df_test.yi_vec.tolist())\n",
    "xi_vec_valid = np.array(df_valid.xi_vec.tolist()) \n",
    "yi_vec_valid = np.array(df_valid.yi_vec.tolist())\n",
    "\n",
    "\n",
    "# 実行\n",
    "print(f'Train: {get_accuracy(xi_vec_train, yi_vec_train)}')\n",
    "print(f'Valid: {get_accuracy(xi_vec_valid, yi_vec_valid)}')\n",
    "print(f'Test : {get_accuracy(xi_vec_test, yi_vec_test)}')"
   ]
  },
  {
   "cell_type": "markdown",
   "metadata": {},
   "source": [
    "# 75. 損失と正解率のプロット\n",
    ">問題73のコードを改変し，各エポックのパラメータ更新が完了するたびに，訓練データでの損失，正解率，検証データでの損失，正解率をグラフにプロットし，学習の進捗状況を確認できるようにせよ"
   ]
  },
  {
   "cell_type": "code",
   "execution_count": 25,
   "metadata": {},
   "outputs": [],
   "source": [
    "# get_accuracy関数において, ネットワーク引数を追加\n",
    "def get_accuracy(net, x, y):\n",
    "    return accuracy_score(torch.argmax(net(torch.from_numpy(x)), dim=-1), y)"
   ]
  },
  {
   "cell_type": "code",
   "execution_count": 26,
   "metadata": {},
   "outputs": [],
   "source": [
    "# ニューラルネットのインスタンス化\n",
    "simple_net = Net()\n",
    "\n",
    "# valid_dataの準備\n",
    "x_valid = torch.from_numpy(xi_vec_valid)\n",
    "y_valid = torch.from_numpy(yi_vec_valid)\n",
    "\n",
    "# 最適化手法の指定\n",
    "import torch.optim as optim\n",
    "optimizer = optim.SGD(simple_net.parameters(), lr=0.01)\n",
    "\n",
    "\n",
    "# 学習の準備\n",
    "epoch_size = 100\n",
    "# Dataloaderを使ってtrain_x, train_yをまとめて扱う   [[x_vec, y], ...[x_vec, y]]\n",
    "dataset = torch.utils.data.TensorDataset(torch.from_numpy(xi_vec_train), torch.from_numpy(yi_vec_train))\n",
    "data_loader = torch.utils.data.DataLoader(dataset, shuffle=True)\n",
    "\n",
    "    \n",
    "# 学習\n",
    "train_loss = list()\n",
    "train_acc = list()\n",
    "valid_loss = list()\n",
    "valid_acc = list()\n",
    "\n",
    "\n",
    "for epoch in range(epoch_size):   # エポック数分ループを回す\n",
    "    running_loss = 0.0\n",
    "    \n",
    "    for input_x, label_y in data_loader:\n",
    "        # パラメータの勾配をリセット\n",
    "        optimizer.zero_grad()\n",
    "        \n",
    "        # 順伝搬\n",
    "        output = simple_net(input_x)\n",
    "        loss = criterion(output, label_y)\n",
    "        \n",
    "        # 逆伝搬\n",
    "        loss.backward()\n",
    "        \n",
    "        # パラメータ更新\n",
    "        optimizer.step()\n",
    "        \n",
    "        running_loss += loss.item()\n",
    "     \n",
    "    # 学習の記録\n",
    "    train_loss.append(running_loss/len(xi_vec_train))\n",
    "    train_acc.append(get_accuracy(simple_net, xi_vec_train, yi_vec_train))\n",
    "    \n",
    "    # valid, testの時は勾配情報(メモリめちゃ食う)はいらないので, 明示的に勾配情報を使わないことを示す(with no gradを使うべし！)\n",
    "    \n",
    "    valid_loss.append(criterion(simple_net(x_valid), y_valid).item())\n",
    "    valid_acc.append(get_accuracy(simple_net, xi_vec_valid, yi_vec_valid))"
   ]
  },
  {
   "cell_type": "code",
   "execution_count": 27,
   "metadata": {},
   "outputs": [
    {
     "output_type": "stream",
     "name": "stdout",
     "text": [
      "100 100 100 100\n"
     ]
    }
   ],
   "source": [
    "print(len(train_loss), len(train_acc), len(valid_loss), len(valid_loss))"
   ]
  },
  {
   "cell_type": "code",
   "execution_count": 28,
   "metadata": {},
   "outputs": [
    {
     "output_type": "display_data",
     "data": {
      "text/plain": "<Figure size 1152x576 with 2 Axes>",
      "image/svg+xml": "<?xml version=\"1.0\" encoding=\"utf-8\" standalone=\"no\"?>\n<!DOCTYPE svg PUBLIC \"-//W3C//DTD SVG 1.1//EN\"\n  \"http://www.w3.org/Graphics/SVG/1.1/DTD/svg11.dtd\">\n<!-- Created with matplotlib (https://matplotlib.org/) -->\n<svg height=\"567.274375pt\" version=\"1.1\" viewBox=\"0 0 1144.36875 567.274375\" width=\"1144.36875pt\" xmlns=\"http://www.w3.org/2000/svg\" xmlns:xlink=\"http://www.w3.org/1999/xlink\">\n <defs>\n  <style type=\"text/css\">\n*{stroke-linecap:butt;stroke-linejoin:round;}\n  </style>\n </defs>\n <g id=\"figure_1\">\n  <g id=\"patch_1\">\n   <path d=\"M 0 567.274375 \nL 1144.36875 567.274375 \nL 1144.36875 0 \nL 0 0 \nz\n\" style=\"fill:none;\"/>\n  </g>\n  <g id=\"axes_1\">\n   <g id=\"patch_2\">\n    <path d=\"M 50.14375 529.718125 \nL 566.56875 529.718125 \nL 566.56875 22.318125 \nL 50.14375 22.318125 \nz\n\" style=\"fill:#ffffff;\"/>\n   </g>\n   <g id=\"matplotlib.axis_1\">\n    <g id=\"xtick_1\">\n     <g id=\"line2d_1\">\n      <defs>\n       <path d=\"M 0 0 \nL 0 3.5 \n\" id=\"m28e7c0e775\" style=\"stroke:#000000;stroke-width:0.8;\"/>\n      </defs>\n      <g>\n       <use style=\"stroke:#000000;stroke-width:0.8;\" x=\"68.875419\" xlink:href=\"#m28e7c0e775\" y=\"529.718125\"/>\n      </g>\n     </g>\n     <g id=\"text_1\">\n      <!-- 0 -->\n      <defs>\n       <path d=\"M 31.78125 66.40625 \nQ 24.171875 66.40625 20.328125 58.90625 \nQ 16.5 51.421875 16.5 36.375 \nQ 16.5 21.390625 20.328125 13.890625 \nQ 24.171875 6.390625 31.78125 6.390625 \nQ 39.453125 6.390625 43.28125 13.890625 \nQ 47.125 21.390625 47.125 36.375 \nQ 47.125 51.421875 43.28125 58.90625 \nQ 39.453125 66.40625 31.78125 66.40625 \nz\nM 31.78125 74.21875 \nQ 44.046875 74.21875 50.515625 64.515625 \nQ 56.984375 54.828125 56.984375 36.375 \nQ 56.984375 17.96875 50.515625 8.265625 \nQ 44.046875 -1.421875 31.78125 -1.421875 \nQ 19.53125 -1.421875 13.0625 8.265625 \nQ 6.59375 17.96875 6.59375 36.375 \nQ 6.59375 54.828125 13.0625 64.515625 \nQ 19.53125 74.21875 31.78125 74.21875 \nz\n\" id=\"DejaVuSans-48\"/>\n      </defs>\n      <g transform=\"translate(65.694169 544.316562)scale(0.1 -0.1)\">\n       <use xlink:href=\"#DejaVuSans-48\"/>\n      </g>\n     </g>\n    </g>\n    <g id=\"xtick_2\">\n     <g id=\"line2d_2\">\n      <g>\n       <use style=\"stroke:#000000;stroke-width:0.8;\" x=\"163.719312\" xlink:href=\"#m28e7c0e775\" y=\"529.718125\"/>\n      </g>\n     </g>\n     <g id=\"text_2\">\n      <!-- 20 -->\n      <defs>\n       <path d=\"M 19.1875 8.296875 \nL 53.609375 8.296875 \nL 53.609375 0 \nL 7.328125 0 \nL 7.328125 8.296875 \nQ 12.9375 14.109375 22.625 23.890625 \nQ 32.328125 33.6875 34.8125 36.53125 \nQ 39.546875 41.84375 41.421875 45.53125 \nQ 43.3125 49.21875 43.3125 52.78125 \nQ 43.3125 58.59375 39.234375 62.25 \nQ 35.15625 65.921875 28.609375 65.921875 \nQ 23.96875 65.921875 18.8125 64.3125 \nQ 13.671875 62.703125 7.8125 59.421875 \nL 7.8125 69.390625 \nQ 13.765625 71.78125 18.9375 73 \nQ 24.125 74.21875 28.421875 74.21875 \nQ 39.75 74.21875 46.484375 68.546875 \nQ 53.21875 62.890625 53.21875 53.421875 \nQ 53.21875 48.921875 51.53125 44.890625 \nQ 49.859375 40.875 45.40625 35.40625 \nQ 44.1875 33.984375 37.640625 27.21875 \nQ 31.109375 20.453125 19.1875 8.296875 \nz\n\" id=\"DejaVuSans-50\"/>\n      </defs>\n      <g transform=\"translate(157.356812 544.316562)scale(0.1 -0.1)\">\n       <use xlink:href=\"#DejaVuSans-50\"/>\n       <use x=\"63.623047\" xlink:href=\"#DejaVuSans-48\"/>\n      </g>\n     </g>\n    </g>\n    <g id=\"xtick_3\">\n     <g id=\"line2d_3\">\n      <g>\n       <use style=\"stroke:#000000;stroke-width:0.8;\" x=\"258.563206\" xlink:href=\"#m28e7c0e775\" y=\"529.718125\"/>\n      </g>\n     </g>\n     <g id=\"text_3\">\n      <!-- 40 -->\n      <defs>\n       <path d=\"M 37.796875 64.3125 \nL 12.890625 25.390625 \nL 37.796875 25.390625 \nz\nM 35.203125 72.90625 \nL 47.609375 72.90625 \nL 47.609375 25.390625 \nL 58.015625 25.390625 \nL 58.015625 17.1875 \nL 47.609375 17.1875 \nL 47.609375 0 \nL 37.796875 0 \nL 37.796875 17.1875 \nL 4.890625 17.1875 \nL 4.890625 26.703125 \nz\n\" id=\"DejaVuSans-52\"/>\n      </defs>\n      <g transform=\"translate(252.200706 544.316562)scale(0.1 -0.1)\">\n       <use xlink:href=\"#DejaVuSans-52\"/>\n       <use x=\"63.623047\" xlink:href=\"#DejaVuSans-48\"/>\n      </g>\n     </g>\n    </g>\n    <g id=\"xtick_4\">\n     <g id=\"line2d_4\">\n      <g>\n       <use style=\"stroke:#000000;stroke-width:0.8;\" x=\"353.407099\" xlink:href=\"#m28e7c0e775\" y=\"529.718125\"/>\n      </g>\n     </g>\n     <g id=\"text_4\">\n      <!-- 60 -->\n      <defs>\n       <path d=\"M 33.015625 40.375 \nQ 26.375 40.375 22.484375 35.828125 \nQ 18.609375 31.296875 18.609375 23.390625 \nQ 18.609375 15.53125 22.484375 10.953125 \nQ 26.375 6.390625 33.015625 6.390625 \nQ 39.65625 6.390625 43.53125 10.953125 \nQ 47.40625 15.53125 47.40625 23.390625 \nQ 47.40625 31.296875 43.53125 35.828125 \nQ 39.65625 40.375 33.015625 40.375 \nz\nM 52.59375 71.296875 \nL 52.59375 62.3125 \nQ 48.875 64.0625 45.09375 64.984375 \nQ 41.3125 65.921875 37.59375 65.921875 \nQ 27.828125 65.921875 22.671875 59.328125 \nQ 17.53125 52.734375 16.796875 39.40625 \nQ 19.671875 43.65625 24.015625 45.921875 \nQ 28.375 48.1875 33.59375 48.1875 \nQ 44.578125 48.1875 50.953125 41.515625 \nQ 57.328125 34.859375 57.328125 23.390625 \nQ 57.328125 12.15625 50.6875 5.359375 \nQ 44.046875 -1.421875 33.015625 -1.421875 \nQ 20.359375 -1.421875 13.671875 8.265625 \nQ 6.984375 17.96875 6.984375 36.375 \nQ 6.984375 53.65625 15.1875 63.9375 \nQ 23.390625 74.21875 37.203125 74.21875 \nQ 40.921875 74.21875 44.703125 73.484375 \nQ 48.484375 72.75 52.59375 71.296875 \nz\n\" id=\"DejaVuSans-54\"/>\n      </defs>\n      <g transform=\"translate(347.044599 544.316562)scale(0.1 -0.1)\">\n       <use xlink:href=\"#DejaVuSans-54\"/>\n       <use x=\"63.623047\" xlink:href=\"#DejaVuSans-48\"/>\n      </g>\n     </g>\n    </g>\n    <g id=\"xtick_5\">\n     <g id=\"line2d_5\">\n      <g>\n       <use style=\"stroke:#000000;stroke-width:0.8;\" x=\"448.250993\" xlink:href=\"#m28e7c0e775\" y=\"529.718125\"/>\n      </g>\n     </g>\n     <g id=\"text_5\">\n      <!-- 80 -->\n      <defs>\n       <path d=\"M 31.78125 34.625 \nQ 24.75 34.625 20.71875 30.859375 \nQ 16.703125 27.09375 16.703125 20.515625 \nQ 16.703125 13.921875 20.71875 10.15625 \nQ 24.75 6.390625 31.78125 6.390625 \nQ 38.8125 6.390625 42.859375 10.171875 \nQ 46.921875 13.96875 46.921875 20.515625 \nQ 46.921875 27.09375 42.890625 30.859375 \nQ 38.875 34.625 31.78125 34.625 \nz\nM 21.921875 38.8125 \nQ 15.578125 40.375 12.03125 44.71875 \nQ 8.5 49.078125 8.5 55.328125 \nQ 8.5 64.0625 14.71875 69.140625 \nQ 20.953125 74.21875 31.78125 74.21875 \nQ 42.671875 74.21875 48.875 69.140625 \nQ 55.078125 64.0625 55.078125 55.328125 \nQ 55.078125 49.078125 51.53125 44.71875 \nQ 48 40.375 41.703125 38.8125 \nQ 48.828125 37.15625 52.796875 32.3125 \nQ 56.78125 27.484375 56.78125 20.515625 \nQ 56.78125 9.90625 50.3125 4.234375 \nQ 43.84375 -1.421875 31.78125 -1.421875 \nQ 19.734375 -1.421875 13.25 4.234375 \nQ 6.78125 9.90625 6.78125 20.515625 \nQ 6.78125 27.484375 10.78125 32.3125 \nQ 14.796875 37.15625 21.921875 38.8125 \nz\nM 18.3125 54.390625 \nQ 18.3125 48.734375 21.84375 45.5625 \nQ 25.390625 42.390625 31.78125 42.390625 \nQ 38.140625 42.390625 41.71875 45.5625 \nQ 45.3125 48.734375 45.3125 54.390625 \nQ 45.3125 60.0625 41.71875 63.234375 \nQ 38.140625 66.40625 31.78125 66.40625 \nQ 25.390625 66.40625 21.84375 63.234375 \nQ 18.3125 60.0625 18.3125 54.390625 \nz\n\" id=\"DejaVuSans-56\"/>\n      </defs>\n      <g transform=\"translate(441.888493 544.316562)scale(0.1 -0.1)\">\n       <use xlink:href=\"#DejaVuSans-56\"/>\n       <use x=\"63.623047\" xlink:href=\"#DejaVuSans-48\"/>\n      </g>\n     </g>\n    </g>\n    <g id=\"xtick_6\">\n     <g id=\"line2d_6\">\n      <g>\n       <use style=\"stroke:#000000;stroke-width:0.8;\" x=\"543.094886\" xlink:href=\"#m28e7c0e775\" y=\"529.718125\"/>\n      </g>\n     </g>\n     <g id=\"text_6\">\n      <!-- 100 -->\n      <defs>\n       <path d=\"M 12.40625 8.296875 \nL 28.515625 8.296875 \nL 28.515625 63.921875 \nL 10.984375 60.40625 \nL 10.984375 69.390625 \nL 28.421875 72.90625 \nL 38.28125 72.90625 \nL 38.28125 8.296875 \nL 54.390625 8.296875 \nL 54.390625 0 \nL 12.40625 0 \nz\n\" id=\"DejaVuSans-49\"/>\n      </defs>\n      <g transform=\"translate(533.551136 544.316562)scale(0.1 -0.1)\">\n       <use xlink:href=\"#DejaVuSans-49\"/>\n       <use x=\"63.623047\" xlink:href=\"#DejaVuSans-48\"/>\n       <use x=\"127.246094\" xlink:href=\"#DejaVuSans-48\"/>\n      </g>\n     </g>\n    </g>\n    <g id=\"text_7\">\n     <!-- epoch -->\n     <defs>\n      <path d=\"M 56.203125 29.59375 \nL 56.203125 25.203125 \nL 14.890625 25.203125 \nQ 15.484375 15.921875 20.484375 11.0625 \nQ 25.484375 6.203125 34.421875 6.203125 \nQ 39.59375 6.203125 44.453125 7.46875 \nQ 49.3125 8.734375 54.109375 11.28125 \nL 54.109375 2.78125 \nQ 49.265625 0.734375 44.1875 -0.34375 \nQ 39.109375 -1.421875 33.890625 -1.421875 \nQ 20.796875 -1.421875 13.15625 6.1875 \nQ 5.515625 13.8125 5.515625 26.8125 \nQ 5.515625 40.234375 12.765625 48.109375 \nQ 20.015625 56 32.328125 56 \nQ 43.359375 56 49.78125 48.890625 \nQ 56.203125 41.796875 56.203125 29.59375 \nz\nM 47.21875 32.234375 \nQ 47.125 39.59375 43.09375 43.984375 \nQ 39.0625 48.390625 32.421875 48.390625 \nQ 24.90625 48.390625 20.390625 44.140625 \nQ 15.875 39.890625 15.1875 32.171875 \nz\n\" id=\"DejaVuSans-101\"/>\n      <path d=\"M 18.109375 8.203125 \nL 18.109375 -20.796875 \nL 9.078125 -20.796875 \nL 9.078125 54.6875 \nL 18.109375 54.6875 \nL 18.109375 46.390625 \nQ 20.953125 51.265625 25.265625 53.625 \nQ 29.59375 56 35.59375 56 \nQ 45.5625 56 51.78125 48.09375 \nQ 58.015625 40.1875 58.015625 27.296875 \nQ 58.015625 14.40625 51.78125 6.484375 \nQ 45.5625 -1.421875 35.59375 -1.421875 \nQ 29.59375 -1.421875 25.265625 0.953125 \nQ 20.953125 3.328125 18.109375 8.203125 \nz\nM 48.6875 27.296875 \nQ 48.6875 37.203125 44.609375 42.84375 \nQ 40.53125 48.484375 33.40625 48.484375 \nQ 26.265625 48.484375 22.1875 42.84375 \nQ 18.109375 37.203125 18.109375 27.296875 \nQ 18.109375 17.390625 22.1875 11.75 \nQ 26.265625 6.109375 33.40625 6.109375 \nQ 40.53125 6.109375 44.609375 11.75 \nQ 48.6875 17.390625 48.6875 27.296875 \nz\n\" id=\"DejaVuSans-112\"/>\n      <path d=\"M 30.609375 48.390625 \nQ 23.390625 48.390625 19.1875 42.75 \nQ 14.984375 37.109375 14.984375 27.296875 \nQ 14.984375 17.484375 19.15625 11.84375 \nQ 23.34375 6.203125 30.609375 6.203125 \nQ 37.796875 6.203125 41.984375 11.859375 \nQ 46.1875 17.53125 46.1875 27.296875 \nQ 46.1875 37.015625 41.984375 42.703125 \nQ 37.796875 48.390625 30.609375 48.390625 \nz\nM 30.609375 56 \nQ 42.328125 56 49.015625 48.375 \nQ 55.71875 40.765625 55.71875 27.296875 \nQ 55.71875 13.875 49.015625 6.21875 \nQ 42.328125 -1.421875 30.609375 -1.421875 \nQ 18.84375 -1.421875 12.171875 6.21875 \nQ 5.515625 13.875 5.515625 27.296875 \nQ 5.515625 40.765625 12.171875 48.375 \nQ 18.84375 56 30.609375 56 \nz\n\" id=\"DejaVuSans-111\"/>\n      <path d=\"M 48.78125 52.59375 \nL 48.78125 44.1875 \nQ 44.96875 46.296875 41.140625 47.34375 \nQ 37.3125 48.390625 33.40625 48.390625 \nQ 24.65625 48.390625 19.8125 42.84375 \nQ 14.984375 37.3125 14.984375 27.296875 \nQ 14.984375 17.28125 19.8125 11.734375 \nQ 24.65625 6.203125 33.40625 6.203125 \nQ 37.3125 6.203125 41.140625 7.25 \nQ 44.96875 8.296875 48.78125 10.40625 \nL 48.78125 2.09375 \nQ 45.015625 0.34375 40.984375 -0.53125 \nQ 36.96875 -1.421875 32.421875 -1.421875 \nQ 20.0625 -1.421875 12.78125 6.34375 \nQ 5.515625 14.109375 5.515625 27.296875 \nQ 5.515625 40.671875 12.859375 48.328125 \nQ 20.21875 56 33.015625 56 \nQ 37.15625 56 41.109375 55.140625 \nQ 45.0625 54.296875 48.78125 52.59375 \nz\n\" id=\"DejaVuSans-99\"/>\n      <path d=\"M 54.890625 33.015625 \nL 54.890625 0 \nL 45.90625 0 \nL 45.90625 32.71875 \nQ 45.90625 40.484375 42.875 44.328125 \nQ 39.84375 48.1875 33.796875 48.1875 \nQ 26.515625 48.1875 22.3125 43.546875 \nQ 18.109375 38.921875 18.109375 30.90625 \nL 18.109375 0 \nL 9.078125 0 \nL 9.078125 75.984375 \nL 18.109375 75.984375 \nL 18.109375 46.1875 \nQ 21.34375 51.125 25.703125 53.5625 \nQ 30.078125 56 35.796875 56 \nQ 45.21875 56 50.046875 50.171875 \nQ 54.890625 44.34375 54.890625 33.015625 \nz\n\" id=\"DejaVuSans-104\"/>\n     </defs>\n     <g transform=\"translate(293.128125 557.994687)scale(0.1 -0.1)\">\n      <use xlink:href=\"#DejaVuSans-101\"/>\n      <use x=\"61.523438\" xlink:href=\"#DejaVuSans-112\"/>\n      <use x=\"125\" xlink:href=\"#DejaVuSans-111\"/>\n      <use x=\"186.181641\" xlink:href=\"#DejaVuSans-99\"/>\n      <use x=\"241.162109\" xlink:href=\"#DejaVuSans-104\"/>\n     </g>\n    </g>\n   </g>\n   <g id=\"matplotlib.axis_2\">\n    <g id=\"ytick_1\">\n     <g id=\"line2d_7\">\n      <defs>\n       <path d=\"M 0 0 \nL -3.5 0 \n\" id=\"m0ea135462d\" style=\"stroke:#000000;stroke-width:0.8;\"/>\n      </defs>\n      <g>\n       <use style=\"stroke:#000000;stroke-width:0.8;\" x=\"50.14375\" xlink:href=\"#m0ea135462d\" y=\"487.906345\"/>\n      </g>\n     </g>\n     <g id=\"text_8\">\n      <!-- 0.30 -->\n      <defs>\n       <path d=\"M 10.6875 12.40625 \nL 21 12.40625 \nL 21 0 \nL 10.6875 0 \nz\n\" id=\"DejaVuSans-46\"/>\n       <path d=\"M 40.578125 39.3125 \nQ 47.65625 37.796875 51.625 33 \nQ 55.609375 28.21875 55.609375 21.1875 \nQ 55.609375 10.40625 48.1875 4.484375 \nQ 40.765625 -1.421875 27.09375 -1.421875 \nQ 22.515625 -1.421875 17.65625 -0.515625 \nQ 12.796875 0.390625 7.625 2.203125 \nL 7.625 11.71875 \nQ 11.71875 9.328125 16.59375 8.109375 \nQ 21.484375 6.890625 26.8125 6.890625 \nQ 36.078125 6.890625 40.9375 10.546875 \nQ 45.796875 14.203125 45.796875 21.1875 \nQ 45.796875 27.640625 41.28125 31.265625 \nQ 36.765625 34.90625 28.71875 34.90625 \nL 20.21875 34.90625 \nL 20.21875 43.015625 \nL 29.109375 43.015625 \nQ 36.375 43.015625 40.234375 45.921875 \nQ 44.09375 48.828125 44.09375 54.296875 \nQ 44.09375 59.90625 40.109375 62.90625 \nQ 36.140625 65.921875 28.71875 65.921875 \nQ 24.65625 65.921875 20.015625 65.03125 \nQ 15.375 64.15625 9.8125 62.3125 \nL 9.8125 71.09375 \nQ 15.4375 72.65625 20.34375 73.4375 \nQ 25.25 74.21875 29.59375 74.21875 \nQ 40.828125 74.21875 47.359375 69.109375 \nQ 53.90625 64.015625 53.90625 55.328125 \nQ 53.90625 49.265625 50.4375 45.09375 \nQ 46.96875 40.921875 40.578125 39.3125 \nz\n\" id=\"DejaVuSans-51\"/>\n      </defs>\n      <g transform=\"translate(20.878125 491.705563)scale(0.1 -0.1)\">\n       <use xlink:href=\"#DejaVuSans-48\"/>\n       <use x=\"63.623047\" xlink:href=\"#DejaVuSans-46\"/>\n       <use x=\"95.410156\" xlink:href=\"#DejaVuSans-51\"/>\n       <use x=\"159.033203\" xlink:href=\"#DejaVuSans-48\"/>\n      </g>\n     </g>\n    </g>\n    <g id=\"ytick_2\">\n     <g id=\"line2d_8\">\n      <g>\n       <use style=\"stroke:#000000;stroke-width:0.8;\" x=\"50.14375\" xlink:href=\"#m0ea135462d\" y=\"431.09739\"/>\n      </g>\n     </g>\n     <g id=\"text_9\">\n      <!-- 0.35 -->\n      <defs>\n       <path d=\"M 10.796875 72.90625 \nL 49.515625 72.90625 \nL 49.515625 64.59375 \nL 19.828125 64.59375 \nL 19.828125 46.734375 \nQ 21.96875 47.46875 24.109375 47.828125 \nQ 26.265625 48.1875 28.421875 48.1875 \nQ 40.625 48.1875 47.75 41.5 \nQ 54.890625 34.8125 54.890625 23.390625 \nQ 54.890625 11.625 47.5625 5.09375 \nQ 40.234375 -1.421875 26.90625 -1.421875 \nQ 22.3125 -1.421875 17.546875 -0.640625 \nQ 12.796875 0.140625 7.71875 1.703125 \nL 7.71875 11.625 \nQ 12.109375 9.234375 16.796875 8.0625 \nQ 21.484375 6.890625 26.703125 6.890625 \nQ 35.15625 6.890625 40.078125 11.328125 \nQ 45.015625 15.765625 45.015625 23.390625 \nQ 45.015625 31 40.078125 35.4375 \nQ 35.15625 39.890625 26.703125 39.890625 \nQ 22.75 39.890625 18.8125 39.015625 \nQ 14.890625 38.140625 10.796875 36.28125 \nz\n\" id=\"DejaVuSans-53\"/>\n      </defs>\n      <g transform=\"translate(20.878125 434.896608)scale(0.1 -0.1)\">\n       <use xlink:href=\"#DejaVuSans-48\"/>\n       <use x=\"63.623047\" xlink:href=\"#DejaVuSans-46\"/>\n       <use x=\"95.410156\" xlink:href=\"#DejaVuSans-51\"/>\n       <use x=\"159.033203\" xlink:href=\"#DejaVuSans-53\"/>\n      </g>\n     </g>\n    </g>\n    <g id=\"ytick_3\">\n     <g id=\"line2d_9\">\n      <g>\n       <use style=\"stroke:#000000;stroke-width:0.8;\" x=\"50.14375\" xlink:href=\"#m0ea135462d\" y=\"374.288434\"/>\n      </g>\n     </g>\n     <g id=\"text_10\">\n      <!-- 0.40 -->\n      <g transform=\"translate(20.878125 378.087653)scale(0.1 -0.1)\">\n       <use xlink:href=\"#DejaVuSans-48\"/>\n       <use x=\"63.623047\" xlink:href=\"#DejaVuSans-46\"/>\n       <use x=\"95.410156\" xlink:href=\"#DejaVuSans-52\"/>\n       <use x=\"159.033203\" xlink:href=\"#DejaVuSans-48\"/>\n      </g>\n     </g>\n    </g>\n    <g id=\"ytick_4\">\n     <g id=\"line2d_10\">\n      <g>\n       <use style=\"stroke:#000000;stroke-width:0.8;\" x=\"50.14375\" xlink:href=\"#m0ea135462d\" y=\"317.479479\"/>\n      </g>\n     </g>\n     <g id=\"text_11\">\n      <!-- 0.45 -->\n      <g transform=\"translate(20.878125 321.278698)scale(0.1 -0.1)\">\n       <use xlink:href=\"#DejaVuSans-48\"/>\n       <use x=\"63.623047\" xlink:href=\"#DejaVuSans-46\"/>\n       <use x=\"95.410156\" xlink:href=\"#DejaVuSans-52\"/>\n       <use x=\"159.033203\" xlink:href=\"#DejaVuSans-53\"/>\n      </g>\n     </g>\n    </g>\n    <g id=\"ytick_5\">\n     <g id=\"line2d_11\">\n      <g>\n       <use style=\"stroke:#000000;stroke-width:0.8;\" x=\"50.14375\" xlink:href=\"#m0ea135462d\" y=\"260.670524\"/>\n      </g>\n     </g>\n     <g id=\"text_12\">\n      <!-- 0.50 -->\n      <g transform=\"translate(20.878125 264.469743)scale(0.1 -0.1)\">\n       <use xlink:href=\"#DejaVuSans-48\"/>\n       <use x=\"63.623047\" xlink:href=\"#DejaVuSans-46\"/>\n       <use x=\"95.410156\" xlink:href=\"#DejaVuSans-53\"/>\n       <use x=\"159.033203\" xlink:href=\"#DejaVuSans-48\"/>\n      </g>\n     </g>\n    </g>\n    <g id=\"ytick_6\">\n     <g id=\"line2d_12\">\n      <g>\n       <use style=\"stroke:#000000;stroke-width:0.8;\" x=\"50.14375\" xlink:href=\"#m0ea135462d\" y=\"203.861569\"/>\n      </g>\n     </g>\n     <g id=\"text_13\">\n      <!-- 0.55 -->\n      <g transform=\"translate(20.878125 207.660788)scale(0.1 -0.1)\">\n       <use xlink:href=\"#DejaVuSans-48\"/>\n       <use x=\"63.623047\" xlink:href=\"#DejaVuSans-46\"/>\n       <use x=\"95.410156\" xlink:href=\"#DejaVuSans-53\"/>\n       <use x=\"159.033203\" xlink:href=\"#DejaVuSans-53\"/>\n      </g>\n     </g>\n    </g>\n    <g id=\"ytick_7\">\n     <g id=\"line2d_13\">\n      <g>\n       <use style=\"stroke:#000000;stroke-width:0.8;\" x=\"50.14375\" xlink:href=\"#m0ea135462d\" y=\"147.052614\"/>\n      </g>\n     </g>\n     <g id=\"text_14\">\n      <!-- 0.60 -->\n      <g transform=\"translate(20.878125 150.851833)scale(0.1 -0.1)\">\n       <use xlink:href=\"#DejaVuSans-48\"/>\n       <use x=\"63.623047\" xlink:href=\"#DejaVuSans-46\"/>\n       <use x=\"95.410156\" xlink:href=\"#DejaVuSans-54\"/>\n       <use x=\"159.033203\" xlink:href=\"#DejaVuSans-48\"/>\n      </g>\n     </g>\n    </g>\n    <g id=\"ytick_8\">\n     <g id=\"line2d_14\">\n      <g>\n       <use style=\"stroke:#000000;stroke-width:0.8;\" x=\"50.14375\" xlink:href=\"#m0ea135462d\" y=\"90.243659\"/>\n      </g>\n     </g>\n     <g id=\"text_15\">\n      <!-- 0.65 -->\n      <g transform=\"translate(20.878125 94.042878)scale(0.1 -0.1)\">\n       <use xlink:href=\"#DejaVuSans-48\"/>\n       <use x=\"63.623047\" xlink:href=\"#DejaVuSans-46\"/>\n       <use x=\"95.410156\" xlink:href=\"#DejaVuSans-54\"/>\n       <use x=\"159.033203\" xlink:href=\"#DejaVuSans-53\"/>\n      </g>\n     </g>\n    </g>\n    <g id=\"ytick_9\">\n     <g id=\"line2d_15\">\n      <g>\n       <use style=\"stroke:#000000;stroke-width:0.8;\" x=\"50.14375\" xlink:href=\"#m0ea135462d\" y=\"33.434704\"/>\n      </g>\n     </g>\n     <g id=\"text_16\">\n      <!-- 0.70 -->\n      <defs>\n       <path d=\"M 8.203125 72.90625 \nL 55.078125 72.90625 \nL 55.078125 68.703125 \nL 28.609375 0 \nL 18.3125 0 \nL 43.21875 64.59375 \nL 8.203125 64.59375 \nz\n\" id=\"DejaVuSans-55\"/>\n      </defs>\n      <g transform=\"translate(20.878125 37.233923)scale(0.1 -0.1)\">\n       <use xlink:href=\"#DejaVuSans-48\"/>\n       <use x=\"63.623047\" xlink:href=\"#DejaVuSans-46\"/>\n       <use x=\"95.410156\" xlink:href=\"#DejaVuSans-55\"/>\n       <use x=\"159.033203\" xlink:href=\"#DejaVuSans-48\"/>\n      </g>\n     </g>\n    </g>\n    <g id=\"text_17\">\n     <!-- Loss -->\n     <defs>\n      <path d=\"M 9.8125 72.90625 \nL 19.671875 72.90625 \nL 19.671875 8.296875 \nL 55.171875 8.296875 \nL 55.171875 0 \nL 9.8125 0 \nz\n\" id=\"DejaVuSans-76\"/>\n      <path d=\"M 44.28125 53.078125 \nL 44.28125 44.578125 \nQ 40.484375 46.53125 36.375 47.5 \nQ 32.28125 48.484375 27.875 48.484375 \nQ 21.1875 48.484375 17.84375 46.4375 \nQ 14.5 44.390625 14.5 40.28125 \nQ 14.5 37.15625 16.890625 35.375 \nQ 19.28125 33.59375 26.515625 31.984375 \nL 29.59375 31.296875 \nQ 39.15625 29.25 43.1875 25.515625 \nQ 47.21875 21.78125 47.21875 15.09375 \nQ 47.21875 7.46875 41.1875 3.015625 \nQ 35.15625 -1.421875 24.609375 -1.421875 \nQ 20.21875 -1.421875 15.453125 -0.5625 \nQ 10.6875 0.296875 5.421875 2 \nL 5.421875 11.28125 \nQ 10.40625 8.6875 15.234375 7.390625 \nQ 20.0625 6.109375 24.8125 6.109375 \nQ 31.15625 6.109375 34.5625 8.28125 \nQ 37.984375 10.453125 37.984375 14.40625 \nQ 37.984375 18.0625 35.515625 20.015625 \nQ 33.0625 21.96875 24.703125 23.78125 \nL 21.578125 24.515625 \nQ 13.234375 26.265625 9.515625 29.90625 \nQ 5.8125 33.546875 5.8125 39.890625 \nQ 5.8125 47.609375 11.28125 51.796875 \nQ 16.75 56 26.8125 56 \nQ 31.78125 56 36.171875 55.265625 \nQ 40.578125 54.546875 44.28125 53.078125 \nz\n\" id=\"DejaVuSans-115\"/>\n     </defs>\n     <g transform=\"translate(14.798438 286.985312)rotate(-90)scale(0.1 -0.1)\">\n      <use xlink:href=\"#DejaVuSans-76\"/>\n      <use x=\"53.962891\" xlink:href=\"#DejaVuSans-111\"/>\n      <use x=\"115.144531\" xlink:href=\"#DejaVuSans-115\"/>\n      <use x=\"167.244141\" xlink:href=\"#DejaVuSans-115\"/>\n     </g>\n    </g>\n   </g>\n   <g id=\"line2d_16\">\n    <path clip-path=\"url(#p700e97ec07)\" d=\"M 73.617614 45.381761 \nL 78.359808 269.261665 \nL 83.102003 330.141287 \nL 87.844198 361.695398 \nL 92.586392 381.795005 \nL 97.328587 395.993572 \nL 102.070782 406.687489 \nL 106.812976 415.369048 \nL 111.555171 422.433073 \nL 116.297366 428.440194 \nL 121.03956 433.560888 \nL 125.781755 438.119721 \nL 130.52395 442.048967 \nL 135.266144 445.651706 \nL 140.008339 448.912559 \nL 144.750534 451.873664 \nL 149.492728 454.5248 \nL 154.234923 456.985284 \nL 158.977118 459.660457 \nL 163.719312 461.570374 \nL 168.461507 463.502755 \nL 173.203702 465.230983 \nL 177.945896 466.963386 \nL 182.688091 468.727013 \nL 187.430286 470.097395 \nL 192.17248 471.482765 \nL 196.914675 472.949056 \nL 201.65687 474.18186 \nL 206.399065 475.318131 \nL 211.141259 476.639584 \nL 215.883454 477.812974 \nL 220.625649 478.69623 \nL 225.367843 479.954989 \nL 230.110038 480.602219 \nL 234.852233 481.717859 \nL 239.594427 482.481015 \nL 244.336622 483.321288 \nL 249.078817 484.118958 \nL 253.821011 484.986864 \nL 258.563206 485.727984 \nL 263.305401 486.459517 \nL 268.047595 487.151383 \nL 272.78979 487.884037 \nL 277.531985 488.45896 \nL 282.274179 489.125885 \nL 287.016374 489.655455 \nL 291.758569 490.332145 \nL 296.500763 490.794797 \nL 301.242958 491.471949 \nL 305.985153 491.902221 \nL 310.727347 492.420944 \nL 315.469542 492.938141 \nL 320.211737 493.415209 \nL 324.953931 493.875995 \nL 329.696126 494.350025 \nL 334.438321 494.87608 \nL 339.180515 495.176903 \nL 343.92271 495.6559 \nL 348.664905 496.009527 \nL 353.407099 496.513367 \nL 358.149294 496.85171 \nL 362.891489 497.249728 \nL 367.633683 497.756228 \nL 372.375878 497.901598 \nL 377.118073 498.313169 \nL 381.860267 498.719773 \nL 386.602462 498.97271 \nL 391.344657 499.273292 \nL 396.086851 499.573255 \nL 400.829046 499.965687 \nL 405.571241 500.270489 \nL 410.313435 500.517392 \nL 415.05563 500.758792 \nL 419.797825 501.269774 \nL 424.54002 501.228488 \nL 429.282214 501.584592 \nL 434.024409 501.910073 \nL 438.766604 502.096828 \nL 443.508798 502.636356 \nL 448.250993 502.513458 \nL 452.993188 502.858505 \nL 457.735382 503.082094 \nL 462.477577 503.342204 \nL 467.219772 503.666826 \nL 471.961966 503.792813 \nL 476.704161 504.059951 \nL 481.446356 504.17654 \nL 486.18855 504.456707 \nL 490.930745 504.637376 \nL 495.67294 504.832714 \nL 500.415134 505.128827 \nL 505.157329 505.308008 \nL 509.899524 505.445825 \nL 514.641718 505.648901 \nL 519.383913 505.859681 \nL 524.126108 506.073958 \nL 528.868302 506.201563 \nL 533.610497 506.331673 \nL 538.352692 506.595862 \nL 543.094886 506.654489 \n\" style=\"fill:none;stroke:#1f77b4;stroke-linecap:square;stroke-width:1.5;\"/>\n   </g>\n   <g id=\"line2d_17\">\n    <path clip-path=\"url(#p700e97ec07)\" d=\"M 73.617614 231.146366 \nL 78.359808 318.738741 \nL 83.102003 358.104128 \nL 87.844198 380.371855 \nL 92.586392 397.109338 \nL 97.328587 407.673426 \nL 102.070782 415.588179 \nL 106.812976 421.483171 \nL 111.555171 427.277088 \nL 116.297366 431.345968 \nL 121.03956 434.908731 \nL 125.781755 437.739966 \nL 130.52395 440.845372 \nL 135.266144 443.296079 \nL 140.008339 444.503487 \nL 144.750534 446.227847 \nL 149.492728 448.241683 \nL 154.234923 449.478888 \nL 158.977118 448.876945 \nL 163.719312 451.290236 \nL 168.461507 451.126282 \nL 173.203702 453.53121 \nL 177.945896 453.816927 \nL 182.688091 454.476298 \nL 187.430286 455.042416 \nL 192.17248 455.935596 \nL 196.914675 456.167339 \nL 201.65687 456.795524 \nL 206.399065 456.909432 \nL 211.141259 456.968079 \nL 215.883454 457.111005 \nL 220.625649 457.746064 \nL 225.367843 457.261821 \nL 230.110038 458.136513 \nL 234.852233 458.504545 \nL 239.594427 458.907556 \nL 244.336622 459.055629 \nL 249.078817 458.998134 \nL 253.821011 458.79419 \nL 258.563206 459.172855 \nL 263.305401 459.11475 \nL 268.047595 459.621274 \nL 272.78979 459.494194 \nL 277.531985 458.967727 \nL 282.274179 459.071476 \nL 287.016374 459.514443 \nL 291.758569 459.718353 \nL 296.500763 459.846753 \nL 301.242958 459.407511 \nL 305.985153 459.710835 \nL 310.727347 459.745577 \nL 315.469542 460.093665 \nL 320.211737 460.103214 \nL 324.953931 459.84015 \nL 329.696126 459.660383 \nL 334.438321 459.822204 \nL 339.180515 459.565505 \nL 343.92271 459.754922 \nL 348.664905 459.62317 \nL 353.407099 459.880038 \nL 358.149294 459.830533 \nL 362.891489 459.274133 \nL 367.633683 459.552028 \nL 372.375878 459.489047 \nL 377.118073 459.823829 \nL 381.860267 459.531001 \nL 386.602462 458.994037 \nL 391.344657 459.107301 \nL 396.086851 459.103035 \nL 400.829046 459.205125 \nL 405.571241 459.092436 \nL 410.313435 459.038191 \nL 415.05563 459.16158 \nL 419.797825 458.76226 \nL 424.54002 459.049094 \nL 429.282214 458.600879 \nL 434.024409 459.054478 \nL 438.766604 458.621974 \nL 443.508798 458.365852 \nL 448.250993 458.50187 \nL 452.993188 458.77472 \nL 457.735382 458.160486 \nL 462.477577 458.238129 \nL 467.219772 457.383313 \nL 471.961966 458.295489 \nL 476.704161 457.949669 \nL 481.446356 457.807183 \nL 486.18855 458.081658 \nL 490.930745 457.712643 \nL 495.67294 457.752023 \nL 500.415134 457.556037 \nL 505.157329 457.816122 \nL 509.899524 457.384837 \nL 514.641718 457.495562 \nL 519.383913 457.639707 \nL 524.126108 456.774564 \nL 528.868302 456.432537 \nL 533.610497 456.990664 \nL 538.352692 456.040768 \nL 543.094886 456.420652 \n\" style=\"fill:none;stroke:#ff7f0e;stroke-linecap:square;stroke-width:1.5;\"/>\n   </g>\n   <g id=\"patch_3\">\n    <path d=\"M 50.14375 529.718125 \nL 50.14375 22.318125 \n\" style=\"fill:none;stroke:#000000;stroke-linecap:square;stroke-linejoin:miter;stroke-width:0.8;\"/>\n   </g>\n   <g id=\"patch_4\">\n    <path d=\"M 566.56875 529.718125 \nL 566.56875 22.318125 \n\" style=\"fill:none;stroke:#000000;stroke-linecap:square;stroke-linejoin:miter;stroke-width:0.8;\"/>\n   </g>\n   <g id=\"patch_5\">\n    <path d=\"M 50.14375 529.718125 \nL 566.56875 529.718125 \n\" style=\"fill:none;stroke:#000000;stroke-linecap:square;stroke-linejoin:miter;stroke-width:0.8;\"/>\n   </g>\n   <g id=\"patch_6\">\n    <path d=\"M 50.14375 22.318125 \nL 566.56875 22.318125 \n\" style=\"fill:none;stroke:#000000;stroke-linecap:square;stroke-linejoin:miter;stroke-width:0.8;\"/>\n   </g>\n   <g id=\"text_18\">\n    <!-- Loss -->\n    <g transform=\"translate(295.195625 16.318125)scale(0.12 -0.12)\">\n     <use xlink:href=\"#DejaVuSans-76\"/>\n     <use x=\"53.962891\" xlink:href=\"#DejaVuSans-111\"/>\n     <use x=\"115.144531\" xlink:href=\"#DejaVuSans-115\"/>\n     <use x=\"167.244141\" xlink:href=\"#DejaVuSans-115\"/>\n    </g>\n   </g>\n   <g id=\"legend_1\">\n    <g id=\"patch_7\">\n     <path d=\"M 478.357813 59.674375 \nL 559.56875 59.674375 \nQ 561.56875 59.674375 561.56875 57.674375 \nL 561.56875 29.318125 \nQ 561.56875 27.318125 559.56875 27.318125 \nL 478.357813 27.318125 \nQ 476.357813 27.318125 476.357813 29.318125 \nL 476.357813 57.674375 \nQ 476.357813 59.674375 478.357813 59.674375 \nz\n\" style=\"fill:#ffffff;opacity:0.8;stroke:#cccccc;stroke-linejoin:miter;\"/>\n    </g>\n    <g id=\"line2d_18\">\n     <path d=\"M 480.357813 35.416562 \nL 500.357813 35.416562 \n\" style=\"fill:none;stroke:#1f77b4;stroke-linecap:square;stroke-width:1.5;\"/>\n    </g>\n    <g id=\"line2d_19\"/>\n    <g id=\"text_19\">\n     <!-- Train Loss -->\n     <defs>\n      <path d=\"M -0.296875 72.90625 \nL 61.375 72.90625 \nL 61.375 64.59375 \nL 35.5 64.59375 \nL 35.5 0 \nL 25.59375 0 \nL 25.59375 64.59375 \nL -0.296875 64.59375 \nz\n\" id=\"DejaVuSans-84\"/>\n      <path d=\"M 41.109375 46.296875 \nQ 39.59375 47.171875 37.8125 47.578125 \nQ 36.03125 48 33.890625 48 \nQ 26.265625 48 22.1875 43.046875 \nQ 18.109375 38.09375 18.109375 28.8125 \nL 18.109375 0 \nL 9.078125 0 \nL 9.078125 54.6875 \nL 18.109375 54.6875 \nL 18.109375 46.1875 \nQ 20.953125 51.171875 25.484375 53.578125 \nQ 30.03125 56 36.53125 56 \nQ 37.453125 56 38.578125 55.875 \nQ 39.703125 55.765625 41.0625 55.515625 \nz\n\" id=\"DejaVuSans-114\"/>\n      <path d=\"M 34.28125 27.484375 \nQ 23.390625 27.484375 19.1875 25 \nQ 14.984375 22.515625 14.984375 16.5 \nQ 14.984375 11.71875 18.140625 8.90625 \nQ 21.296875 6.109375 26.703125 6.109375 \nQ 34.1875 6.109375 38.703125 11.40625 \nQ 43.21875 16.703125 43.21875 25.484375 \nL 43.21875 27.484375 \nz\nM 52.203125 31.203125 \nL 52.203125 0 \nL 43.21875 0 \nL 43.21875 8.296875 \nQ 40.140625 3.328125 35.546875 0.953125 \nQ 30.953125 -1.421875 24.3125 -1.421875 \nQ 15.921875 -1.421875 10.953125 3.296875 \nQ 6 8.015625 6 15.921875 \nQ 6 25.140625 12.171875 29.828125 \nQ 18.359375 34.515625 30.609375 34.515625 \nL 43.21875 34.515625 \nL 43.21875 35.40625 \nQ 43.21875 41.609375 39.140625 45 \nQ 35.0625 48.390625 27.6875 48.390625 \nQ 23 48.390625 18.546875 47.265625 \nQ 14.109375 46.140625 10.015625 43.890625 \nL 10.015625 52.203125 \nQ 14.9375 54.109375 19.578125 55.046875 \nQ 24.21875 56 28.609375 56 \nQ 40.484375 56 46.34375 49.84375 \nQ 52.203125 43.703125 52.203125 31.203125 \nz\n\" id=\"DejaVuSans-97\"/>\n      <path d=\"M 9.421875 54.6875 \nL 18.40625 54.6875 \nL 18.40625 0 \nL 9.421875 0 \nz\nM 9.421875 75.984375 \nL 18.40625 75.984375 \nL 18.40625 64.59375 \nL 9.421875 64.59375 \nz\n\" id=\"DejaVuSans-105\"/>\n      <path d=\"M 54.890625 33.015625 \nL 54.890625 0 \nL 45.90625 0 \nL 45.90625 32.71875 \nQ 45.90625 40.484375 42.875 44.328125 \nQ 39.84375 48.1875 33.796875 48.1875 \nQ 26.515625 48.1875 22.3125 43.546875 \nQ 18.109375 38.921875 18.109375 30.90625 \nL 18.109375 0 \nL 9.078125 0 \nL 9.078125 54.6875 \nL 18.109375 54.6875 \nL 18.109375 46.1875 \nQ 21.34375 51.125 25.703125 53.5625 \nQ 30.078125 56 35.796875 56 \nQ 45.21875 56 50.046875 50.171875 \nQ 54.890625 44.34375 54.890625 33.015625 \nz\n\" id=\"DejaVuSans-110\"/>\n      <path id=\"DejaVuSans-32\"/>\n     </defs>\n     <g transform=\"translate(508.357813 38.916562)scale(0.1 -0.1)\">\n      <use xlink:href=\"#DejaVuSans-84\"/>\n      <use x=\"46.333984\" xlink:href=\"#DejaVuSans-114\"/>\n      <use x=\"87.447266\" xlink:href=\"#DejaVuSans-97\"/>\n      <use x=\"148.726562\" xlink:href=\"#DejaVuSans-105\"/>\n      <use x=\"176.509766\" xlink:href=\"#DejaVuSans-110\"/>\n      <use x=\"239.888672\" xlink:href=\"#DejaVuSans-32\"/>\n      <use x=\"271.675781\" xlink:href=\"#DejaVuSans-76\"/>\n      <use x=\"325.638672\" xlink:href=\"#DejaVuSans-111\"/>\n      <use x=\"386.820312\" xlink:href=\"#DejaVuSans-115\"/>\n      <use x=\"438.919922\" xlink:href=\"#DejaVuSans-115\"/>\n     </g>\n    </g>\n    <g id=\"line2d_20\">\n     <path d=\"M 480.357813 50.094687 \nL 500.357813 50.094687 \n\" style=\"fill:none;stroke:#ff7f0e;stroke-linecap:square;stroke-width:1.5;\"/>\n    </g>\n    <g id=\"line2d_21\"/>\n    <g id=\"text_20\">\n     <!-- Valid Loss -->\n     <defs>\n      <path d=\"M 28.609375 0 \nL 0.78125 72.90625 \nL 11.078125 72.90625 \nL 34.1875 11.53125 \nL 57.328125 72.90625 \nL 67.578125 72.90625 \nL 39.796875 0 \nz\n\" id=\"DejaVuSans-86\"/>\n      <path d=\"M 9.421875 75.984375 \nL 18.40625 75.984375 \nL 18.40625 0 \nL 9.421875 0 \nz\n\" id=\"DejaVuSans-108\"/>\n      <path d=\"M 45.40625 46.390625 \nL 45.40625 75.984375 \nL 54.390625 75.984375 \nL 54.390625 0 \nL 45.40625 0 \nL 45.40625 8.203125 \nQ 42.578125 3.328125 38.25 0.953125 \nQ 33.9375 -1.421875 27.875 -1.421875 \nQ 17.96875 -1.421875 11.734375 6.484375 \nQ 5.515625 14.40625 5.515625 27.296875 \nQ 5.515625 40.1875 11.734375 48.09375 \nQ 17.96875 56 27.875 56 \nQ 33.9375 56 38.25 53.625 \nQ 42.578125 51.265625 45.40625 46.390625 \nz\nM 14.796875 27.296875 \nQ 14.796875 17.390625 18.875 11.75 \nQ 22.953125 6.109375 30.078125 6.109375 \nQ 37.203125 6.109375 41.296875 11.75 \nQ 45.40625 17.390625 45.40625 27.296875 \nQ 45.40625 37.203125 41.296875 42.84375 \nQ 37.203125 48.484375 30.078125 48.484375 \nQ 22.953125 48.484375 18.875 42.84375 \nQ 14.796875 37.203125 14.796875 27.296875 \nz\n\" id=\"DejaVuSans-100\"/>\n     </defs>\n     <g transform=\"translate(508.357813 53.594687)scale(0.1 -0.1)\">\n      <use xlink:href=\"#DejaVuSans-86\"/>\n      <use x=\"60.658203\" xlink:href=\"#DejaVuSans-97\"/>\n      <use x=\"121.9375\" xlink:href=\"#DejaVuSans-108\"/>\n      <use x=\"149.720703\" xlink:href=\"#DejaVuSans-105\"/>\n      <use x=\"177.503906\" xlink:href=\"#DejaVuSans-100\"/>\n      <use x=\"240.980469\" xlink:href=\"#DejaVuSans-32\"/>\n      <use x=\"272.767578\" xlink:href=\"#DejaVuSans-76\"/>\n      <use x=\"326.730469\" xlink:href=\"#DejaVuSans-111\"/>\n      <use x=\"387.912109\" xlink:href=\"#DejaVuSans-115\"/>\n      <use x=\"440.011719\" xlink:href=\"#DejaVuSans-115\"/>\n     </g>\n    </g>\n   </g>\n  </g>\n  <g id=\"axes_2\">\n   <g id=\"patch_8\">\n    <path d=\"M 620.74375 529.718125 \nL 1137.16875 529.718125 \nL 1137.16875 22.318125 \nL 620.74375 22.318125 \nz\n\" style=\"fill:#ffffff;\"/>\n   </g>\n   <g id=\"matplotlib.axis_3\">\n    <g id=\"xtick_7\">\n     <g id=\"line2d_22\">\n      <g>\n       <use style=\"stroke:#000000;stroke-width:0.8;\" x=\"639.475419\" xlink:href=\"#m28e7c0e775\" y=\"529.718125\"/>\n      </g>\n     </g>\n     <g id=\"text_21\">\n      <!-- 0 -->\n      <g transform=\"translate(636.294169 544.316562)scale(0.1 -0.1)\">\n       <use xlink:href=\"#DejaVuSans-48\"/>\n      </g>\n     </g>\n    </g>\n    <g id=\"xtick_8\">\n     <g id=\"line2d_23\">\n      <g>\n       <use style=\"stroke:#000000;stroke-width:0.8;\" x=\"734.319312\" xlink:href=\"#m28e7c0e775\" y=\"529.718125\"/>\n      </g>\n     </g>\n     <g id=\"text_22\">\n      <!-- 20 -->\n      <g transform=\"translate(727.956812 544.316562)scale(0.1 -0.1)\">\n       <use xlink:href=\"#DejaVuSans-50\"/>\n       <use x=\"63.623047\" xlink:href=\"#DejaVuSans-48\"/>\n      </g>\n     </g>\n    </g>\n    <g id=\"xtick_9\">\n     <g id=\"line2d_24\">\n      <g>\n       <use style=\"stroke:#000000;stroke-width:0.8;\" x=\"829.163206\" xlink:href=\"#m28e7c0e775\" y=\"529.718125\"/>\n      </g>\n     </g>\n     <g id=\"text_23\">\n      <!-- 40 -->\n      <g transform=\"translate(822.800706 544.316562)scale(0.1 -0.1)\">\n       <use xlink:href=\"#DejaVuSans-52\"/>\n       <use x=\"63.623047\" xlink:href=\"#DejaVuSans-48\"/>\n      </g>\n     </g>\n    </g>\n    <g id=\"xtick_10\">\n     <g id=\"line2d_25\">\n      <g>\n       <use style=\"stroke:#000000;stroke-width:0.8;\" x=\"924.007099\" xlink:href=\"#m28e7c0e775\" y=\"529.718125\"/>\n      </g>\n     </g>\n     <g id=\"text_24\">\n      <!-- 60 -->\n      <g transform=\"translate(917.644599 544.316562)scale(0.1 -0.1)\">\n       <use xlink:href=\"#DejaVuSans-54\"/>\n       <use x=\"63.623047\" xlink:href=\"#DejaVuSans-48\"/>\n      </g>\n     </g>\n    </g>\n    <g id=\"xtick_11\">\n     <g id=\"line2d_26\">\n      <g>\n       <use style=\"stroke:#000000;stroke-width:0.8;\" x=\"1018.850993\" xlink:href=\"#m28e7c0e775\" y=\"529.718125\"/>\n      </g>\n     </g>\n     <g id=\"text_25\">\n      <!-- 80 -->\n      <g transform=\"translate(1012.488493 544.316562)scale(0.1 -0.1)\">\n       <use xlink:href=\"#DejaVuSans-56\"/>\n       <use x=\"63.623047\" xlink:href=\"#DejaVuSans-48\"/>\n      </g>\n     </g>\n    </g>\n    <g id=\"xtick_12\">\n     <g id=\"line2d_27\">\n      <g>\n       <use style=\"stroke:#000000;stroke-width:0.8;\" x=\"1113.694886\" xlink:href=\"#m28e7c0e775\" y=\"529.718125\"/>\n      </g>\n     </g>\n     <g id=\"text_26\">\n      <!-- 100 -->\n      <g transform=\"translate(1104.151136 544.316562)scale(0.1 -0.1)\">\n       <use xlink:href=\"#DejaVuSans-49\"/>\n       <use x=\"63.623047\" xlink:href=\"#DejaVuSans-48\"/>\n       <use x=\"127.246094\" xlink:href=\"#DejaVuSans-48\"/>\n      </g>\n     </g>\n    </g>\n    <g id=\"text_27\">\n     <!-- epoch -->\n     <g transform=\"translate(863.728125 557.994687)scale(0.1 -0.1)\">\n      <use xlink:href=\"#DejaVuSans-101\"/>\n      <use x=\"61.523438\" xlink:href=\"#DejaVuSans-112\"/>\n      <use x=\"125\" xlink:href=\"#DejaVuSans-111\"/>\n      <use x=\"186.181641\" xlink:href=\"#DejaVuSans-99\"/>\n      <use x=\"241.162109\" xlink:href=\"#DejaVuSans-104\"/>\n     </g>\n    </g>\n   </g>\n   <g id=\"matplotlib.axis_4\">\n    <g id=\"ytick_10\">\n     <g id=\"line2d_28\">\n      <g>\n       <use style=\"stroke:#000000;stroke-width:0.8;\" x=\"620.74375\" xlink:href=\"#m0ea135462d\" y=\"489.497149\"/>\n      </g>\n     </g>\n     <g id=\"text_28\">\n      <!-- 0.82 -->\n      <g transform=\"translate(591.478125 493.296367)scale(0.1 -0.1)\">\n       <use xlink:href=\"#DejaVuSans-48\"/>\n       <use x=\"63.623047\" xlink:href=\"#DejaVuSans-46\"/>\n       <use x=\"95.410156\" xlink:href=\"#DejaVuSans-56\"/>\n       <use x=\"159.033203\" xlink:href=\"#DejaVuSans-50\"/>\n      </g>\n     </g>\n    </g>\n    <g id=\"ytick_11\">\n     <g id=\"line2d_29\">\n      <g>\n       <use style=\"stroke:#000000;stroke-width:0.8;\" x=\"620.74375\" xlink:href=\"#m0ea135462d\" y=\"382.491904\"/>\n      </g>\n     </g>\n     <g id=\"text_29\">\n      <!-- 0.84 -->\n      <g transform=\"translate(591.478125 386.291122)scale(0.1 -0.1)\">\n       <use xlink:href=\"#DejaVuSans-48\"/>\n       <use x=\"63.623047\" xlink:href=\"#DejaVuSans-46\"/>\n       <use x=\"95.410156\" xlink:href=\"#DejaVuSans-56\"/>\n       <use x=\"159.033203\" xlink:href=\"#DejaVuSans-52\"/>\n      </g>\n     </g>\n    </g>\n    <g id=\"ytick_12\">\n     <g id=\"line2d_30\">\n      <g>\n       <use style=\"stroke:#000000;stroke-width:0.8;\" x=\"620.74375\" xlink:href=\"#m0ea135462d\" y=\"275.486659\"/>\n      </g>\n     </g>\n     <g id=\"text_30\">\n      <!-- 0.86 -->\n      <g transform=\"translate(591.478125 279.285877)scale(0.1 -0.1)\">\n       <use xlink:href=\"#DejaVuSans-48\"/>\n       <use x=\"63.623047\" xlink:href=\"#DejaVuSans-46\"/>\n       <use x=\"95.410156\" xlink:href=\"#DejaVuSans-56\"/>\n       <use x=\"159.033203\" xlink:href=\"#DejaVuSans-54\"/>\n      </g>\n     </g>\n    </g>\n    <g id=\"ytick_13\">\n     <g id=\"line2d_31\">\n      <g>\n       <use style=\"stroke:#000000;stroke-width:0.8;\" x=\"620.74375\" xlink:href=\"#m0ea135462d\" y=\"168.481414\"/>\n      </g>\n     </g>\n     <g id=\"text_31\">\n      <!-- 0.88 -->\n      <g transform=\"translate(591.478125 172.280632)scale(0.1 -0.1)\">\n       <use xlink:href=\"#DejaVuSans-48\"/>\n       <use x=\"63.623047\" xlink:href=\"#DejaVuSans-46\"/>\n       <use x=\"95.410156\" xlink:href=\"#DejaVuSans-56\"/>\n       <use x=\"159.033203\" xlink:href=\"#DejaVuSans-56\"/>\n      </g>\n     </g>\n    </g>\n    <g id=\"ytick_14\">\n     <g id=\"line2d_32\">\n      <g>\n       <use style=\"stroke:#000000;stroke-width:0.8;\" x=\"620.74375\" xlink:href=\"#m0ea135462d\" y=\"61.476168\"/>\n      </g>\n     </g>\n     <g id=\"text_32\">\n      <!-- 0.90 -->\n      <defs>\n       <path d=\"M 10.984375 1.515625 \nL 10.984375 10.5 \nQ 14.703125 8.734375 18.5 7.8125 \nQ 22.3125 6.890625 25.984375 6.890625 \nQ 35.75 6.890625 40.890625 13.453125 \nQ 46.046875 20.015625 46.78125 33.40625 \nQ 43.953125 29.203125 39.59375 26.953125 \nQ 35.25 24.703125 29.984375 24.703125 \nQ 19.046875 24.703125 12.671875 31.3125 \nQ 6.296875 37.9375 6.296875 49.421875 \nQ 6.296875 60.640625 12.9375 67.421875 \nQ 19.578125 74.21875 30.609375 74.21875 \nQ 43.265625 74.21875 49.921875 64.515625 \nQ 56.59375 54.828125 56.59375 36.375 \nQ 56.59375 19.140625 48.40625 8.859375 \nQ 40.234375 -1.421875 26.421875 -1.421875 \nQ 22.703125 -1.421875 18.890625 -0.6875 \nQ 15.09375 0.046875 10.984375 1.515625 \nz\nM 30.609375 32.421875 \nQ 37.25 32.421875 41.125 36.953125 \nQ 45.015625 41.5 45.015625 49.421875 \nQ 45.015625 57.28125 41.125 61.84375 \nQ 37.25 66.40625 30.609375 66.40625 \nQ 23.96875 66.40625 20.09375 61.84375 \nQ 16.21875 57.28125 16.21875 49.421875 \nQ 16.21875 41.5 20.09375 36.953125 \nQ 23.96875 32.421875 30.609375 32.421875 \nz\n\" id=\"DejaVuSans-57\"/>\n      </defs>\n      <g transform=\"translate(591.478125 65.275387)scale(0.1 -0.1)\">\n       <use xlink:href=\"#DejaVuSans-48\"/>\n       <use x=\"63.623047\" xlink:href=\"#DejaVuSans-46\"/>\n       <use x=\"95.410156\" xlink:href=\"#DejaVuSans-57\"/>\n       <use x=\"159.033203\" xlink:href=\"#DejaVuSans-48\"/>\n      </g>\n     </g>\n    </g>\n    <g id=\"text_33\">\n     <!-- Acc -->\n     <defs>\n      <path d=\"M 34.1875 63.1875 \nL 20.796875 26.90625 \nL 47.609375 26.90625 \nz\nM 28.609375 72.90625 \nL 39.796875 72.90625 \nL 67.578125 0 \nL 57.328125 0 \nL 50.6875 18.703125 \nL 17.828125 18.703125 \nL 11.1875 0 \nL 0.78125 0 \nz\n\" id=\"DejaVuSans-65\"/>\n     </defs>\n     <g transform=\"translate(585.398438 284.849375)rotate(-90)scale(0.1 -0.1)\">\n      <use xlink:href=\"#DejaVuSans-65\"/>\n      <use x=\"66.658203\" xlink:href=\"#DejaVuSans-99\"/>\n      <use x=\"121.638672\" xlink:href=\"#DejaVuSans-99\"/>\n     </g>\n    </g>\n   </g>\n   <g id=\"line2d_33\">\n    <path clip-path=\"url(#p3004ec9a92)\" d=\"M 644.217614 506.654489 \nL 648.959808 331.671682 \nL 653.702003 268.998757 \nL 658.444198 236.408836 \nL 663.186392 227.383935 \nL 667.928587 204.320299 \nL 672.670782 192.788481 \nL 677.412976 177.245595 \nL 682.155171 173.735912 \nL 686.897366 170.226228 \nL 691.63956 149.669508 \nL 696.381755 145.157058 \nL 701.12395 141.647374 \nL 705.866144 139.64184 \nL 710.608339 130.616939 \nL 715.350534 126.605872 \nL 720.092728 129.112789 \nL 724.834923 121.592038 \nL 729.577118 106.049153 \nL 734.319312 117.580971 \nL 739.061507 104.545002 \nL 743.803702 109.558836 \nL 748.545896 109.558836 \nL 753.288091 104.545002 \nL 758.030286 104.545002 \nL 762.77248 100.533935 \nL 767.514675 99.531168 \nL 772.25687 99.531168 \nL 776.999065 93.013184 \nL 781.741259 90.004884 \nL 786.483454 89.002117 \nL 791.225649 88.500734 \nL 795.967843 87.497967 \nL 800.710038 86.996583 \nL 805.452233 84.99105 \nL 810.194427 83.4869 \nL 814.936622 82.484133 \nL 819.678817 81.481366 \nL 824.421011 75.966149 \nL 829.163206 83.4869 \nL 833.905401 77.470299 \nL 838.647595 79.977216 \nL 843.38979 75.464765 \nL 848.131985 72.957848 \nL 852.874179 75.966149 \nL 857.616374 73.459232 \nL 862.358569 75.966149 \nL 867.100763 73.960615 \nL 871.842958 71.955082 \nL 876.585153 71.453698 \nL 881.327347 72.957848 \nL 886.069542 72.957848 \nL 890.811737 69.448165 \nL 895.553931 73.459232 \nL 900.296126 66.439864 \nL 905.038321 70.450931 \nL 909.780515 65.437097 \nL 914.52271 67.442631 \nL 919.264905 66.941248 \nL 924.007099 67.944014 \nL 928.749294 66.941248 \nL 933.491489 61.927414 \nL 938.233683 66.941248 \nL 942.975878 63.431564 \nL 947.718073 63.431564 \nL 952.460267 63.932947 \nL 957.202462 58.919113 \nL 961.944657 60.423263 \nL 966.686851 61.42603 \nL 971.429046 60.924647 \nL 976.171241 57.916346 \nL 980.913435 58.919113 \nL 985.65563 56.91358 \nL 990.397825 59.92188 \nL 995.14002 58.41773 \nL 999.882214 55.409429 \nL 1004.624409 54.406663 \nL 1009.366604 56.412196 \nL 1014.108798 56.412196 \nL 1018.850993 54.406663 \nL 1023.593188 54.406663 \nL 1028.335382 55.409429 \nL 1033.077577 53.403896 \nL 1037.819772 49.392829 \nL 1042.561966 55.409429 \nL 1047.304161 52.902512 \nL 1052.046356 52.401129 \nL 1056.78855 51.899746 \nL 1061.530745 49.894212 \nL 1066.27294 48.891445 \nL 1071.015134 48.390062 \nL 1075.757329 48.891445 \nL 1080.499524 49.894212 \nL 1085.241718 48.390062 \nL 1089.983913 47.888678 \nL 1094.726108 47.387295 \nL 1099.468302 47.387295 \nL 1104.210497 47.888678 \nL 1108.952692 45.381761 \nL 1113.694886 47.888678 \n\" style=\"fill:none;stroke:#1f77b4;stroke-linecap:square;stroke-width:1.5;\"/>\n   </g>\n   <g id=\"line2d_34\">\n    <path clip-path=\"url(#p3004ec9a92)\" d=\"M 644.217614 505.058631 \nL 648.959808 268.427842 \nL 653.702003 176.181941 \nL 658.444198 152.117793 \nL 663.186392 140.085719 \nL 667.928587 132.064336 \nL 672.670782 132.064336 \nL 677.412976 116.021571 \nL 682.155171 108.000188 \nL 686.897366 99.978805 \nL 691.63956 75.914657 \nL 696.381755 79.925349 \nL 701.12395 75.914657 \nL 705.866144 79.925349 \nL 710.608339 63.882583 \nL 715.350534 67.893275 \nL 720.092728 71.903966 \nL 724.834923 67.893275 \nL 729.577118 71.903966 \nL 734.319312 67.893275 \nL 739.061507 71.903966 \nL 743.803702 71.903966 \nL 748.545896 71.903966 \nL 753.288091 71.903966 \nL 758.030286 71.903966 \nL 762.77248 75.914657 \nL 767.514675 63.882583 \nL 772.25687 71.903966 \nL 776.999065 71.903966 \nL 781.741259 83.93604 \nL 786.483454 75.914657 \nL 791.225649 79.925349 \nL 795.967843 67.893275 \nL 800.710038 67.893275 \nL 805.452233 75.914657 \nL 810.194427 71.903966 \nL 814.936622 75.914657 \nL 819.678817 75.914657 \nL 824.421011 75.914657 \nL 829.163206 75.914657 \nL 833.905401 79.925349 \nL 838.647595 75.914657 \nL 843.38979 71.903966 \nL 848.131985 75.914657 \nL 852.874179 71.903966 \nL 857.616374 71.903966 \nL 862.358569 79.925349 \nL 867.100763 87.946731 \nL 871.842958 83.93604 \nL 876.585153 83.93604 \nL 881.327347 83.93604 \nL 886.069542 75.914657 \nL 890.811737 83.93604 \nL 895.553931 83.93604 \nL 900.296126 83.93604 \nL 905.038321 79.925349 \nL 909.780515 79.925349 \nL 914.52271 79.925349 \nL 919.264905 83.93604 \nL 924.007099 83.93604 \nL 928.749294 75.914657 \nL 933.491489 83.93604 \nL 938.233683 83.93604 \nL 942.975878 79.925349 \nL 947.718073 79.925349 \nL 952.460267 75.914657 \nL 957.202462 79.925349 \nL 961.944657 79.925349 \nL 966.686851 75.914657 \nL 971.429046 79.925349 \nL 976.171241 83.93604 \nL 980.913435 71.903966 \nL 985.65563 79.925349 \nL 990.397825 87.946731 \nL 995.14002 79.925349 \nL 999.882214 83.93604 \nL 1004.624409 79.925349 \nL 1009.366604 79.925349 \nL 1014.108798 83.93604 \nL 1018.850993 83.93604 \nL 1023.593188 79.925349 \nL 1028.335382 91.957423 \nL 1033.077577 79.925349 \nL 1037.819772 87.946731 \nL 1042.561966 75.914657 \nL 1047.304161 87.946731 \nL 1052.046356 87.946731 \nL 1056.78855 83.93604 \nL 1061.530745 83.93604 \nL 1066.27294 83.93604 \nL 1071.015134 87.946731 \nL 1075.757329 79.925349 \nL 1080.499524 83.93604 \nL 1085.241718 83.93604 \nL 1089.983913 87.946731 \nL 1094.726108 79.925349 \nL 1099.468302 83.93604 \nL 1104.210497 87.946731 \nL 1108.952692 71.903966 \nL 1113.694886 79.925349 \n\" style=\"fill:none;stroke:#ff7f0e;stroke-linecap:square;stroke-width:1.5;\"/>\n   </g>\n   <g id=\"patch_9\">\n    <path d=\"M 620.74375 529.718125 \nL 620.74375 22.318125 \n\" style=\"fill:none;stroke:#000000;stroke-linecap:square;stroke-linejoin:miter;stroke-width:0.8;\"/>\n   </g>\n   <g id=\"patch_10\">\n    <path d=\"M 1137.16875 529.718125 \nL 1137.16875 22.318125 \n\" style=\"fill:none;stroke:#000000;stroke-linecap:square;stroke-linejoin:miter;stroke-width:0.8;\"/>\n   </g>\n   <g id=\"patch_11\">\n    <path d=\"M 620.74375 529.718125 \nL 1137.16875 529.718125 \n\" style=\"fill:none;stroke:#000000;stroke-linecap:square;stroke-linejoin:miter;stroke-width:0.8;\"/>\n   </g>\n   <g id=\"patch_12\">\n    <path d=\"M 620.74375 22.318125 \nL 1137.16875 22.318125 \n\" style=\"fill:none;stroke:#000000;stroke-linecap:square;stroke-linejoin:miter;stroke-width:0.8;\"/>\n   </g>\n   <g id=\"text_34\">\n    <!-- Acc -->\n    <g transform=\"translate(868.35875 16.318125)scale(0.12 -0.12)\">\n     <use xlink:href=\"#DejaVuSans-65\"/>\n     <use x=\"66.658203\" xlink:href=\"#DejaVuSans-99\"/>\n     <use x=\"121.638672\" xlink:href=\"#DejaVuSans-99\"/>\n    </g>\n   </g>\n   <g id=\"legend_2\">\n    <g id=\"patch_13\">\n     <path d=\"M 627.74375 59.674375 \nL 704.682812 59.674375 \nQ 706.682812 59.674375 706.682812 57.674375 \nL 706.682812 29.318125 \nQ 706.682812 27.318125 704.682812 27.318125 \nL 627.74375 27.318125 \nQ 625.74375 27.318125 625.74375 29.318125 \nL 625.74375 57.674375 \nQ 625.74375 59.674375 627.74375 59.674375 \nz\n\" style=\"fill:#ffffff;opacity:0.8;stroke:#cccccc;stroke-linejoin:miter;\"/>\n    </g>\n    <g id=\"line2d_35\">\n     <path d=\"M 629.74375 35.416562 \nL 649.74375 35.416562 \n\" style=\"fill:none;stroke:#1f77b4;stroke-linecap:square;stroke-width:1.5;\"/>\n    </g>\n    <g id=\"line2d_36\"/>\n    <g id=\"text_35\">\n     <!-- Train Acc -->\n     <g transform=\"translate(657.74375 38.916562)scale(0.1 -0.1)\">\n      <use xlink:href=\"#DejaVuSans-84\"/>\n      <use x=\"46.333984\" xlink:href=\"#DejaVuSans-114\"/>\n      <use x=\"87.447266\" xlink:href=\"#DejaVuSans-97\"/>\n      <use x=\"148.726562\" xlink:href=\"#DejaVuSans-105\"/>\n      <use x=\"176.509766\" xlink:href=\"#DejaVuSans-110\"/>\n      <use x=\"239.888672\" xlink:href=\"#DejaVuSans-32\"/>\n      <use x=\"271.675781\" xlink:href=\"#DejaVuSans-65\"/>\n      <use x=\"338.333984\" xlink:href=\"#DejaVuSans-99\"/>\n      <use x=\"393.314453\" xlink:href=\"#DejaVuSans-99\"/>\n     </g>\n    </g>\n    <g id=\"line2d_37\">\n     <path d=\"M 629.74375 50.094687 \nL 649.74375 50.094687 \n\" style=\"fill:none;stroke:#ff7f0e;stroke-linecap:square;stroke-width:1.5;\"/>\n    </g>\n    <g id=\"line2d_38\"/>\n    <g id=\"text_36\">\n     <!-- Valid Acc -->\n     <g transform=\"translate(657.74375 53.594687)scale(0.1 -0.1)\">\n      <use xlink:href=\"#DejaVuSans-86\"/>\n      <use x=\"60.658203\" xlink:href=\"#DejaVuSans-97\"/>\n      <use x=\"121.9375\" xlink:href=\"#DejaVuSans-108\"/>\n      <use x=\"149.720703\" xlink:href=\"#DejaVuSans-105\"/>\n      <use x=\"177.503906\" xlink:href=\"#DejaVuSans-100\"/>\n      <use x=\"240.980469\" xlink:href=\"#DejaVuSans-32\"/>\n      <use x=\"272.767578\" xlink:href=\"#DejaVuSans-65\"/>\n      <use x=\"339.425781\" xlink:href=\"#DejaVuSans-99\"/>\n      <use x=\"394.40625\" xlink:href=\"#DejaVuSans-99\"/>\n     </g>\n    </g>\n   </g>\n  </g>\n </g>\n <defs>\n  <clipPath id=\"p700e97ec07\">\n   <rect height=\"507.4\" width=\"516.425\" x=\"50.14375\" y=\"22.318125\"/>\n  </clipPath>\n  <clipPath id=\"p3004ec9a92\">\n   <rect height=\"507.4\" width=\"516.425\" x=\"620.74375\" y=\"22.318125\"/>\n  </clipPath>\n </defs>\n</svg>\n",
      "image/png": "[encoded data removed]"
     },
     "metadata": {
      "needs_background": "light"
     }
    }
   ],
   "source": [
    "import matplotlib.pyplot as plt\n",
    "%matplotlib inline\n",
    "\n",
    "plt.figure(figsize=(16, 8))\n",
    "\n",
    "epoch_ = range(1, 101)\n",
    "plt.subplot(1,2,1)\n",
    "plt.plot(epoch_, train_loss, label='Train Loss')\n",
    "plt.plot(epoch_, valid_loss, label='Valid Loss')\n",
    "plt.xlabel('epoch')\n",
    "plt.ylabel('Loss')\n",
    "plt.title('Loss')\n",
    "plt.legend()\n",
    "\n",
    "plt.subplot(1,2,2)\n",
    "plt.plot(epoch_, train_acc, label='Train Acc')\n",
    "plt.plot(epoch_, valid_acc, label='Valid Acc')\n",
    "plt.xlabel('epoch')\n",
    "plt.ylabel('Acc')\n",
    "plt.title('Acc')\n",
    "plt.legend()\n",
    "\n",
    "plt.tight_layout()\n",
    "plt.show();"
   ]
  },
  {
   "cell_type": "markdown",
   "metadata": {},
   "source": [
    "# 76. チェックポイント\n",
    ">問題75のコードを改変し，各エポックのパラメータ更新が完了するたびに，チェックポイント（学習途中のパラメータ（重み行列など）の値や最適化アルゴリズムの内部状態）をファイルに書き出せ  \n",
    "\n",
    "`net.state_dict(), optimizer.state_dict()`を使うと内部状態取得できる"
   ]
  },
  {
   "cell_type": "code",
   "execution_count": 29,
   "metadata": {},
   "outputs": [],
   "source": [
    "def save_checkpoint(net, optimizer, epoch):\n",
    "    # Pytorchのファイルは '.pt' か '.pth' の拡張子を使う\n",
    "    \n",
    "    file_name =  'Checkpoints/epoch_' + str(epoch) + '.pt'\n",
    "    \n",
    "    # torch.saveを使ってtorch関連の情報をsave\n",
    "    \n",
    "    torch.save({\n",
    "        'epoch': epoch,\n",
    "        'net_state': net.state_dict(),\n",
    "        'optim_state': optimizer.state_dict()\n",
    "    }, file_name)"
   ]
  },
  {
   "cell_type": "code",
   "execution_count": 31,
   "metadata": {},
   "outputs": [],
   "source": [
    "# ニューラルネットのインスタンス化\n",
    "simple_net = Net()\n",
    "\n",
    "# valid_dataの準備\n",
    "x_valid = torch.from_numpy(xi_vec_valid)\n",
    "y_valid = torch.from_numpy(yi_vec_valid)\n",
    "\n",
    "# 最適化手法の指定\n",
    "import torch.optim as optim\n",
    "optimizer = optim.SGD(simple_net.parameters(), lr=0.01)\n",
    "\n",
    "\n",
    "# 学習の準備\n",
    "epoch_size = 100\n",
    "# Dataloaderを使ってtrain_x, train_yをまとめて扱う   [[x_vec, y], ...[x_vec, y]]\n",
    "dataset = torch.utils.data.TensorDataset(torch.from_numpy(xi_vec_train), torch.from_numpy(yi_vec_train))\n",
    "data_loader = torch.utils.data.DataLoader(dataset, shuffle=True)\n",
    "\n",
    "    \n",
    "# 学習\n",
    "\n",
    "\n",
    "for epoch in range(epoch_size):   # エポック数分ループを回す\n",
    "    \n",
    "    for input_x, label_y in data_loader:\n",
    "        # パラメータの勾配をリセット\n",
    "        optimizer.zero_grad()\n",
    "        \n",
    "        # 順伝搬\n",
    "        output = simple_net(input_x)\n",
    "        loss = criterion(output, label_y)\n",
    "        \n",
    "        # 逆伝搬\n",
    "        loss.backward()\n",
    "        \n",
    "        # パラメータ更新\n",
    "        optimizer.step()\n",
    "        \n",
    "     \n",
    "    # 学習の記録\n",
    "    # save_checkpoint(simple_net, optimizer, epoch)"
   ]
  },
  {
   "cell_type": "markdown",
   "metadata": {},
   "source": [
    "# 77. ミニバッチ化\n",
    ">問題76のコードを改変し，B事例ごとに損失・勾配を計算し，行列Wの値を更新せよ（ミニバッチ化）．Bの値を1,2,4,8,…と変化させながら，1エポックの学習に要する時間を比較せよ"
   ]
  },
  {
   "cell_type": "code",
   "execution_count": 32,
   "metadata": {},
   "outputs": [],
   "source": [
    "def batch_trainee(batch_size, epoch_size=100):\n",
    "    print(f'Batch size: {batch_size}, training started')\n",
    "    # ニューラルネットのインスタンス化\n",
    "    simple_net = Net()\n",
    "\n",
    "    # valid_dataの準備\n",
    "    x_valid = torch.from_numpy(xi_vec_valid)\n",
    "    y_valid = torch.from_numpy(yi_vec_valid)\n",
    "\n",
    "    # 最適化手法の指定\n",
    "    optimizer = optim.SGD(simple_net.parameters(), lr=0.01)\n",
    "\n",
    "\n",
    "    # 学習の準備\n",
    "    # Dataloaderを使ってtrain_x, train_yをまとめて扱う   [[x_vec, y], ...[x_vec, y]]\n",
    "    dataset = torch.utils.data.TensorDataset(torch.from_numpy(xi_vec_train), torch.from_numpy(yi_vec_train))\n",
    "\n",
    "    # バッチサイズの指定\n",
    "    data_loader = torch.utils.data.DataLoader(dataset, batch_size=batch_size, shuffle=True)\n",
    "\n",
    "    \n",
    "    # 学習\n",
    "\n",
    "    for epoch in range(epoch_size):   # エポック数分ループを回す\n",
    "    \n",
    "        for input_x, label_y in data_loader:\n",
    "            # パラメータの勾配をリセット\n",
    "            optimizer.zero_grad()\n",
    "        \n",
    "            # 順伝搬\n",
    "            output = simple_net(input_x)\n",
    "            loss = criterion(output, label_y)\n",
    "        \n",
    "            # 逆伝搬\n",
    "            loss.backward()\n",
    "        \n",
    "            # パラメータ更新\n",
    "            optimizer.step()"
   ]
  },
  {
   "cell_type": "code",
   "execution_count": 24,
   "metadata": {},
   "outputs": [
    {
     "name": "stdout",
     "output_type": "stream",
     "text": [
      "Batch size: 1, training started\n",
      "CPU times: user 2min 24s, sys: 324 ms, total: 2min 24s\n",
      "Wall time: 2min 24s\n"
     ]
    }
   ],
   "source": [
    "%%time\n",
    "batch_trainee(1)"
   ]
  },
  {
   "cell_type": "code",
   "execution_count": 25,
   "metadata": {},
   "outputs": [
    {
     "name": "stdout",
     "output_type": "stream",
     "text": [
      "Batch size: 2, training started\n",
      "CPU times: user 1min 17s, sys: 169 ms, total: 1min 17s\n",
      "Wall time: 1min 17s\n"
     ]
    }
   ],
   "source": [
    "%%time\n",
    "batch_trainee(2)"
   ]
  },
  {
   "cell_type": "code",
   "execution_count": 26,
   "metadata": {},
   "outputs": [
    {
     "name": "stdout",
     "output_type": "stream",
     "text": [
      "Batch size: 4, training started\n",
      "CPU times: user 42.5 s, sys: 109 ms, total: 42.6 s\n",
      "Wall time: 42.6 s\n"
     ]
    }
   ],
   "source": [
    "%%time\n",
    "batch_trainee(4)"
   ]
  },
  {
   "cell_type": "code",
   "execution_count": 27,
   "metadata": {},
   "outputs": [
    {
     "name": "stdout",
     "output_type": "stream",
     "text": [
      "Batch size: 6, training started\n",
      "CPU times: user 31.8 s, sys: 140 ms, total: 32 s\n",
      "Wall time: 32 s\n"
     ]
    }
   ],
   "source": [
    "%%time\n",
    "batch_trainee(6)"
   ]
  },
  {
   "cell_type": "code",
   "execution_count": 28,
   "metadata": {},
   "outputs": [
    {
     "name": "stdout",
     "output_type": "stream",
     "text": [
      "Batch size: 8, training started\n",
      "CPU times: user 25.9 s, sys: 69.8 ms, total: 26 s\n",
      "Wall time: 26 s\n"
     ]
    }
   ],
   "source": [
    "%%time\n",
    "batch_trainee(8)"
   ]
  },
  {
   "cell_type": "code",
   "execution_count": 29,
   "metadata": {},
   "outputs": [
    {
     "name": "stdout",
     "output_type": "stream",
     "text": [
      "Batch size: 10, training started\n",
      "CPU times: user 22.3 s, sys: 48 ms, total: 22.3 s\n",
      "Wall time: 22.3 s\n"
     ]
    }
   ],
   "source": [
    "%%time\n",
    "batch_trainee(10)"
   ]
  },
  {
   "cell_type": "markdown",
   "metadata": {},
   "source": [
    "# 78. GPU上での学習\n",
    ">問題77のコードを改変し，GPU上で学習を実行せよ"
   ]
  },
  {
   "cell_type": "markdown",
   "metadata": {},
   "source": [
    "### GPUを使う場合に必要なこと\n",
    "GPUを使う場合は, 明示的にGPUに色々渡してあげる必要がある.\n",
    "GPUに渡すには`.to`メソッドを使う.  \n",
    "渡すものは2つで,  \n",
    "1. ネットワーク. `net = net().to(device)`\n",
    "2. データ. `data.to(device)`  \n",
    "deviceも指定する必要があるので,`device = torch.device(\"cudahoge\" if torch.cuda.is_available() else 'cpu'`などとする  \n",
    "\n",
    "研究室のサーバを使うための諸々の設定 ->  \n",
    "https://scrapbox.io/tohoku-nlp/GPU%E5%88%9D%E6%9C%9F%E8%A8%AD%E5%AE%9ALogs  \n",
    "(from Rinさん)"
   ]
  },
  {
   "cell_type": "code",
   "execution_count": 47,
   "metadata": {},
   "outputs": [],
   "source": [
    "import time\n",
    "\n",
    "INPUT_FEATURES=300   # 入力\n",
    "OUTPUT_FEATURES=4   # 出力\n",
    "class Net(nn.Module):\n",
    "    def __init__(self):\n",
    "        super(Net, self).__init__()\n",
    "        self.fc1 = nn.Linear(INPUT_FEATURES, OUTPUT_FEATURES, bias=False)\n",
    "    \n",
    "    def forward(self, x):\n",
    "        x = self.fc1(x)\n",
    "        return x\n",
    "\n",
    "    def get_accuracy(self, x, y):\n",
    "        x = torch.from_numpy(x).to(device)\n",
    "        y = torch.from_numpy(y).to(device)\n",
    "        return accuracy_score(torch.argmax(self(x), dim=-1).cpu(), y.cpu())\n",
    "\n",
    "def batch_trainee_gpu(batch_size, epoch_size=100):\n",
    "    \n",
    "    device = torch.device('cuda:0' if torch.cuda.is_available() else 'cpu')\n",
    "    \n",
    "    net = Net().to(device)\n",
    "\n",
    "    # 最適化手法の指定\n",
    "    creterion = torch.nn.CrossEntropyLoss()\n",
    "    optimizer = optim.SGD(simple_net.parameters(), lr=0.01)\n",
    "\n",
    "\n",
    "    # 学習の準備\n",
    "    # trainのデータをdeviceに渡す\n",
    "    x_train = torch.from_numpy(xi_vec_train).to(device)\n",
    "    y_train = torch.from_numpy(yi_vec_train).to(device)\n",
    "    \n",
    "    dataset = torch.utils.data.TensorDataset(x_train, y_train)\n",
    "\n",
    "    # バッチサイズの指定\n",
    "    data_loader = torch.utils.data.DataLoader(dataset, batch_size=batch_size, shuffle=True)\n",
    "\n",
    "    \n",
    "    # 学習\n",
    "    \n",
    "    start_time = time.time()\n",
    "\n",
    "    for epoch in range(epoch_size):   # エポック数分ループを回す\n",
    "    \n",
    "        for input_x, label_y in data_loader:\n",
    "            # パラメータの勾配をリセット\n",
    "            optimizer.zero_grad()\n",
    "        \n",
    "            # 順伝搬\n",
    "            output = net(input_x)\n",
    "            loss = criterion(output, label_y)\n",
    "        \n",
    "            # 逆伝搬\n",
    "            loss.backward()\n",
    "        \n",
    "            # パラメータ更新\n",
    "            optimizer.step()\n",
    "            \n",
    "    time.sleep(0.01)\n",
    "    run_time = time.time() - start_time\n",
    "    print(f'Use device: {device}')\n",
    "    print(f'Run Time  : {run_time}')\n",
    "    print(f'Train: {net.get_accuracy(xi_vec_train, yi_vec_train)}')\n",
    "    print(f'Valid: {net.get_accuracy(xi_vec_valid, yi_vec_valid)}')\n",
    "    print(f'Test : {net.get_accuracy(xi_vec_test, yi_vec_test)}')"
   ]
  },
  {
   "cell_type": "code",
   "execution_count": 48,
   "metadata": {},
   "outputs": [
    {
     "output_type": "stream",
     "name": "stdout",
     "text": [
      "Use device: cuda:0\nRun Time  : 15.983723402023315\nTrain: 0.21928591509699186\nValid: 0.22188905547226387\nTest : 0.22638680659670166\n"
     ]
    }
   ],
   "source": [
    "batch_trainee_gpu(100)"
   ]
  },
  {
   "cell_type": "markdown",
   "metadata": {},
   "source": [
    "# 79. 多層ニューラルネットワーク\n",
    ">問題78のコードを改変し，バイアス項の導入や多層化など，ニューラルネットワークの形状を変更しながら，高性能なカテゴリ分類器を構築せよ"
   ]
  },
  {
   "cell_type": "code",
   "execution_count": 50,
   "metadata": {},
   "outputs": [],
   "source": [
    "INPUT_FEATURES=300   # 入力\n",
    "HIDDEN_LAYER1 = 200 # 隠れ層1\n",
    "HIDDEN_LAYER2 = 100 # 隠れ層2\n",
    "OUTPUT_FEATURES=4   # 出力\n",
    "\n",
    "class MLNet(nn.Module):\n",
    "    def __init__(self):\n",
    "        super(MLNet, self).__init__()\n",
    "        self.fc1 = nn.Linear(INPUT_FEATURES, HIDDEN_LAYER1, bias=True)\n",
    "        self.fc2 = nn.Linear(HIDDEN_LAYER1, HIDDEN_LAYER2, bias=True)\n",
    "        self.fc3 = nn.Linear(HIDDEN_LAYER2, OUTPUT_FEATURES, bias=True)\n",
    "    \n",
    "    def forward(self, x):\n",
    "        x = self.fc1(x)\n",
    "        x = self.fc2(x)\n",
    "        x = self.fc3(x)\n",
    "        return x\n",
    "\n",
    "    def get_accuracy(self, x, y):\n",
    "        x = torch.from_numpy(x).to(device)\n",
    "        y = torch.from_numpy(y).to(device)\n",
    "        return accuracy_score(torch.argmax(self(x), dim=-1).cpu(), y.cpu())"
   ]
  },
  {
   "cell_type": "code",
   "execution_count": 54,
   "metadata": {},
   "outputs": [],
   "source": [
    "def batch_trainee_gpu_ml(batch_size, epoch_size=100):\n",
    "    \n",
    "    device = torch.device('cuda:0' if torch.cuda.is_available() else 'cpu')\n",
    "    \n",
    "    net = MLNet().to(device)\n",
    "\n",
    "    # 最適化手法の指定\n",
    "    creterion = torch.nn.CrossEntropyLoss()\n",
    "    optimizer = optim.SGD(net.parameters(), lr=0.01)\n",
    "\n",
    "\n",
    "    # 学習の準備\n",
    "    # trainのデータをdeviceに渡す\n",
    "    x_train = torch.from_numpy(xi_vec_train).to(device)\n",
    "    y_train = torch.from_numpy(yi_vec_train).to(device)\n",
    "    \n",
    "    dataset = torch.utils.data.TensorDataset(x_train, y_train)\n",
    "\n",
    "    # バッチサイズの指定\n",
    "    data_loader = torch.utils.data.DataLoader(dataset, batch_size=batch_size, shuffle=True)\n",
    "\n",
    "    \n",
    "    # 学習\n",
    "    \n",
    "    start_time = time.time()\n",
    "\n",
    "    for epoch in range(epoch_size):   # エポック数分ループを回す\n",
    "    \n",
    "        for input_x, label_y in data_loader:\n",
    "            # パラメータの勾配をリセット\n",
    "            optimizer.zero_grad()\n",
    "        \n",
    "            # 順伝搬\n",
    "            output = net(input_x)\n",
    "            loss = criterion(output, label_y)\n",
    "        \n",
    "            # 逆伝搬\n",
    "            loss.backward()\n",
    "        \n",
    "            # パラメータ更新\n",
    "            optimizer.step()\n",
    "            \n",
    "    time.sleep(0.01)\n",
    "    run_time = time.time() - start_time\n",
    "    print(f'Use device: {device}')\n",
    "    print(f'Run Time  : {run_time}')\n",
    "    print(f'Train: {net.get_accuracy(xi_vec_train, yi_vec_train)}')\n",
    "    print(f'Valid: {net.get_accuracy(xi_vec_valid, yi_vec_valid)}')\n",
    "    print(f'Test : {net.get_accuracy(xi_vec_test, yi_vec_test)}')"
   ]
  },
  {
   "cell_type": "code",
   "execution_count": 55,
   "metadata": {},
   "outputs": [
    {
     "output_type": "stream",
     "name": "stdout",
     "text": [
      "Use device: cuda:0\nRun Time  : 24.641014099121094\nTrain: 0.8890450754381033\nValid: 0.8995502248875562\nTest : 0.8913043478260869\n"
     ]
    }
   ],
   "source": [
    "batch_trainee_gpu_ml(100)"
   ]
  },
  {
   "cell_type": "code",
   "execution_count": 56,
   "metadata": {},
   "outputs": [
    {
     "output_type": "stream",
     "name": "stdout",
     "text": [
      "Use device: cuda:0\nRun Time  : 190.2666974067688\nTrain: 0.904788679598913\nValid: 0.8935532233883059\nTest : 0.8860569715142429\n"
     ]
    }
   ],
   "source": [
    "batch_trainee_gpu_ml(10)"
   ]
  },
  {
   "cell_type": "code",
   "execution_count": null,
   "metadata": {},
   "outputs": [],
   "source": []
  }
 ],
 "metadata": {
  "kernelspec": {
   "display_name": "Python 3",
   "language": "python",
   "name": "python3"
  },
  "language_info": {
   "codemirror_mode": {
    "name": "ipython",
    "version": 3
   },
   "file_extension": ".py",
   "mimetype": "text/x-python",
   "name": "python",
   "nbconvert_exporter": "python",
   "pygments_lexer": "ipython3",
   "version": "3.8.3-final"
  }
 },
 "nbformat": 4,
 "nbformat_minor": 4
}